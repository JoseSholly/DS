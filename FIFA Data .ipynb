{
 "cells": [
  {
   "cell_type": "markdown",
   "id": "a800c0a7",
   "metadata": {},
   "source": [
    "# FIFA 21 Data Cleaning Challenge organized by [Promise Nonse](https://twitter.com/PromiseNonso_)"
   ]
  },
  {
   "cell_type": "markdown",
   "id": "a04f111c",
   "metadata": {},
   "source": [
    "# Presented by [Olawuyi Olushola](twitter.com/JoseSholly), Nigeria"
   ]
  },
  {
   "cell_type": "markdown",
   "id": "fbd09bff",
   "metadata": {},
   "source": [
    "> **Here is a brief documentation for each column name in the given dataset:**\n",
    "\n",
    "- photoUrl: The URL of the player's photo.\n",
    "- LongName: The full name of the player.\n",
    "- playerUrl: The URL of the player's page on sofifa.com.\n",
    "- Nationality: The nationality of the player.\n",
    "- Positions: The positions the player can play.\n",
    "- Name: The short name of the player.\n",
    "- Age: The age of the player.\n",
    "- OVA: The overall rating of the player in FIFA 21.\n",
    "- POT: The potential rating of the player in FIFA 21.\n",
    "- Team & Contract: The team the player is playing for in FIFA 21, along with their contract details.\n",
    "- ID: The unique identifier for the player.\n",
    "- Height: The height of the player in feet and inches.\n",
    "- Weight: The weight of the player in pounds.\n",
    "- foot: The preferred foot of the player.\n",
    "- BOV: The best overall rating the player has achieved in their career.\n",
    "- BP: The best position the player has played in their career.\n",
    "- Growth: The difference between the potential rating and overall rating of the player.\n",
    "- Joined: The date the player joined their current team in FIFA 21.\n",
    "- Loan Date End: The date the player's loan contract ends.\n",
    "- Value: The market value of the player in FIFA 21.\n",
    "- Wage: The weekly wage of the player in FIFA 21.\n",
    "- Release Clause: The release clause value of the player in FIFA 21.\n",
    "- Attacking: The attacking attributes of the player.\n",
    "- Crossing: The crossing attribute of the player.\n",
    "- Finishing: The finishing attribute of the player.\n",
    "- Heading Accuracy: The heading accuracy attribute of the player.\n",
    "- Short Passing: The short passing attribute of the player.\n",
    "- Volleys: The volleys attribute of the player.\n",
    "- Skill: The skill attributes of the player.\n",
    "- Dribbling: The dribbling attribute of the player.\n",
    "- Curve: The curve attribute of the player.\n",
    "- FK Accuracy: The free kick accuracy attribute of the player.\n",
    "- Long Passing: The long passing attribute of the player.\n",
    "- Ball Control: The ball control attribute of the player.\n",
    "- Movement: The movement attributes of the player.\n",
    "- Acceleration: The acceleration attribute of the player.\n",
    "- Sprint Speed: The sprint speed attribute of the player.\n",
    "- Agility: The agility attribute of the player.\n",
    "- Reactions: The reactions attribute of the player.\n",
    "- Balance: The balance attribute of the player.\n",
    "- Power: The power attributes of the player.\n",
    "- Shot Power: The shot power attribute of the player.\n",
    "- Jumping: The jumping attribute of the player.\n",
    "- Stamina: The stamina attribute of the player.\n",
    "- Strength: The strength attribute of the player.\n",
    "- Long Shots: The long shots attribute of the player.\n",
    "- Mentality: The mentality attributes of the player.\n",
    "- Aggression: The aggression attribute of the player.\n",
    "- Interceptions: The interceptions attribute of the player.\n",
    "- Positioning: The positioning attribute of the player.\n",
    "- Vision: The vision attribute of the player.\n",
    "- Penalties: The penalties attribute of the player.\n",
    "- Composure: The composure attribute of the player.\n",
    "- Defending: The defending attributes of the player.\n",
    "- Marking: The marking attribute of the player.\n",
    "- Standing Tackle: The standing tackle attribute of the player.\n",
    "- Sliding Tackle: The sliding tackle attribute of the player.\n",
    "- Goalkeeping: The goalkeeping attributes of the player.\n",
    "- GK Diving: The goalkeeper diving attribute of the player.\n",
    "- GK Handling: The goalkeeper handling attribute of the player.\n",
    "- GK Kicking: The goalkeeper kicking attribute of the player.\n",
    "- GK Positioning: The goalkeeper positioning attribute of the player.\n",
    "- GK Reflexes: This refers to the goalkeeper's ability to react and make saves quickly.\n",
    "- Total Stats: This refers to the overall rating of the player based on their performance in all areas of the game.\n",
    "- Base Stats: This refers to the player's rating in the six main areas of the game: Pace, Shooting, Passing, Dribbling, - Defending, and Physicality.\n",
    "- W/F: This refers to the player's weaker foot ability.\n",
    "- SM: This refers to the player's skill moves ability. \n",
    "- A/W: This refers to the player's attacking work rate. It measures how frequently the player participates in attacking actions, such as making runs or positioning themselves in the opponent's half.\n",
    "- D/W: This refers to the player's defensive work rate. It measures how frequently the player participates in defensive actions, such as tracking back or making tackles.\n",
    "- IR: This refers to the player's injury resistance. It measures the player's ability to avoid injuries and how quickly they recover from them.\n",
    "- PAC: This refers to the player's pace or speed attribute. It measures how quickly the player can move with and without the ball.\n",
    "- SHO: This refers to the player's shooting ability. It measures the player's accuracy and power when shooting the ball.\n",
    "- PAS: This refers to the player's passing ability. It measures the player's accuracy and range when passing the ball.\n",
    "- DRI: This refers to the player's dribbling ability. It measures the player's agility, balance, and ball control when dribbling the ball.\n",
    "- DEF: This refers to the player's defensive ability. It measures the player's ability to tackle, intercept, and defend against opposing players. \n",
    "- PHY: This refers to the player's physicality or strength. It measures the player's ability to win physical battles and maintain possession of the ball. \n",
    "- Hits: This refers to the number of times the player's profile has been viewed on the website."
   ]
  },
  {
   "cell_type": "markdown",
   "id": "2ee1b573",
   "metadata": {},
   "source": [
    "#### Unzipping Data from Kaggle"
   ]
  },
  {
   "cell_type": "code",
   "execution_count": null,
   "id": "0d9bbb53",
   "metadata": {},
   "outputs": [],
   "source": [
    "import zipfile \n",
    "z = zipfile.ZipFile('C:/Users/USER/Downloads/archive (1).zip')"
   ]
  },
  {
   "cell_type": "code",
   "execution_count": null,
   "id": "1b35ddcf",
   "metadata": {},
   "outputs": [],
   "source": [
    "z.extractall('C:/Users/USER/Downloads/')"
   ]
  },
  {
   "cell_type": "markdown",
   "id": "feda5e02",
   "metadata": {},
   "source": [
    "#### Importing important libraries"
   ]
  },
  {
   "cell_type": "code",
   "execution_count": null,
   "id": "f1fc2120",
   "metadata": {},
   "outputs": [],
   "source": [
    "import pandas as pd\n",
    "import seaborn as sns\n",
    "import matplotlib.pyplot as plt\n",
    "import numpy as np\n",
    "import re"
   ]
  },
  {
   "cell_type": "markdown",
   "id": "9bb83323",
   "metadata": {},
   "source": [
    "#### Reading Data using pandas"
   ]
  },
  {
   "cell_type": "code",
   "execution_count": null,
   "id": "8eaa589b",
   "metadata": {},
   "outputs": [],
   "source": [
    "df= pd.read_csv(\"C:/Users/USER/Downloads/fifa21 raw data v2.csv\", encoding='utf-8', engine='python')\n",
    "pd.set_option('display.max_columns', None)"
   ]
  },
  {
   "cell_type": "code",
   "execution_count": null,
   "id": "aa32a2e9",
   "metadata": {},
   "outputs": [],
   "source": [
    "data = df.copy()"
   ]
  },
  {
   "cell_type": "code",
   "execution_count": null,
   "id": "e9ee2815",
   "metadata": {},
   "outputs": [],
   "source": [
    "df.tail()"
   ]
  },
  {
   "cell_type": "markdown",
   "id": "cef4adec",
   "metadata": {},
   "source": [
    "#### Getting more infomation from dataset"
   ]
  },
  {
   "cell_type": "code",
   "execution_count": null,
   "id": "af074018",
   "metadata": {},
   "outputs": [],
   "source": [
    "df.shape"
   ]
  },
  {
   "cell_type": "code",
   "execution_count": null,
   "id": "cf07cb44",
   "metadata": {},
   "outputs": [],
   "source": [
    "df.info()"
   ]
  },
  {
   "cell_type": "code",
   "execution_count": null,
   "id": "73244dc3",
   "metadata": {},
   "outputs": [],
   "source": [
    "df.describe()"
   ]
  },
  {
   "cell_type": "markdown",
   "id": "91aec490",
   "metadata": {},
   "source": [
    "#### Handling Null values "
   ]
  },
  {
   "cell_type": "code",
   "execution_count": null,
   "id": "7c072176",
   "metadata": {},
   "outputs": [],
   "source": [
    "sns.heatmap(df.isnull(), yticklabels= False, cbar= False, cmap= 'viridis')"
   ]
  },
  {
   "cell_type": "code",
   "execution_count": null,
   "id": "aa1bff75",
   "metadata": {},
   "outputs": [],
   "source": [
    "df.columns[df.isna().any()].tolist()"
   ]
  },
  {
   "cell_type": "code",
   "execution_count": null,
   "id": "66fb2a40",
   "metadata": {},
   "outputs": [],
   "source": [
    "df.loc[df['Loan Date End'].notnull()].head()"
   ]
  },
  {
   "cell_type": "code",
   "execution_count": null,
   "id": "3b70151a",
   "metadata": {},
   "outputs": [],
   "source": [
    "#Replacing all Nan values with No\n",
    "# Every players on loan is No\n",
    "df[\"Loan Date End\"].fillna(\"No\", inplace=True)"
   ]
  },
  {
   "cell_type": "code",
   "execution_count": null,
   "id": "949049e1",
   "metadata": {},
   "outputs": [],
   "source": [
    "# We converted  all Nan to No\n",
    "df[\"Loan Date End\"].unique()"
   ]
  },
  {
   "cell_type": "code",
   "execution_count": null,
   "id": "a63a8707",
   "metadata": {},
   "outputs": [],
   "source": [
    "# Replacing all values except No with Yes \n",
    "# Every players on loan is Yes\n",
    "df[\"Loan Date End\"]=df[\"Loan Date End\"].apply(lambda x: \"Yes\" if len(x)>3 else \"No\",)"
   ]
  },
  {
   "cell_type": "code",
   "execution_count": null,
   "id": "0bf0de31",
   "metadata": {},
   "outputs": [],
   "source": [
    "df[\"Loan Date End\"].unique()"
   ]
  },
  {
   "cell_type": "code",
   "execution_count": null,
   "id": "9e7c48f3",
   "metadata": {},
   "outputs": [],
   "source": [
    "# Change column name to 'loan' \n",
    "df.rename(columns={\"Loan Date End\": \"Loan\"}, inplace=True)"
   ]
  },
  {
   "cell_type": "markdown",
   "id": "cefd973e",
   "metadata": {},
   "source": [
    "#### Handling missing values with Hits Columns"
   ]
  },
  {
   "cell_type": "code",
   "execution_count": null,
   "id": "55969a40",
   "metadata": {},
   "outputs": [],
   "source": [
    "df[\"Hits\"].unique()"
   ]
  },
  {
   "cell_type": "markdown",
   "id": "7fb54bf8",
   "metadata": {},
   "source": [
    "You observe how values are numeric and alpha-numeric"
   ]
  },
  {
   "cell_type": "code",
   "execution_count": null,
   "id": "c4d33ad3",
   "metadata": {},
   "outputs": [],
   "source": [
    "df['Hits'] = df['Hits'].fillna(0)\n",
    "df['Hits'].isnull().sum()"
   ]
  },
  {
   "cell_type": "code",
   "execution_count": null,
   "id": "882aec7e",
   "metadata": {},
   "outputs": [],
   "source": [
    "def hit_func(val):\n",
    "    if \"K\" in str(val):\n",
    "        val=val.replace(\"K\",\"\")\n",
    "        return int(float(val)*1000)\n",
    "    else:\n",
    "        return int(val)"
   ]
  },
  {
   "cell_type": "code",
   "execution_count": null,
   "id": "8b603100",
   "metadata": {},
   "outputs": [],
   "source": [
    "df['Hits'] = df[\"Hits\"].apply(hit_func)"
   ]
  },
  {
   "cell_type": "code",
   "execution_count": null,
   "id": "45ca740f",
   "metadata": {},
   "outputs": [],
   "source": [
    "df['Hits'].unique()"
   ]
  },
  {
   "cell_type": "code",
   "execution_count": null,
   "id": "dff55c00",
   "metadata": {},
   "outputs": [],
   "source": [
    "#  We equate the 0 values with mean values of the column since it is Nan initially\n",
    "df[df[\"Hits\"]==0]=int(df[\"Hits\"].mean())"
   ]
  },
  {
   "cell_type": "markdown",
   "id": "d7c130e9",
   "metadata": {},
   "source": [
    "#### Cleaning  Club Column "
   ]
  },
  {
   "cell_type": "code",
   "execution_count": null,
   "id": "2fdf0173",
   "metadata": {},
   "outputs": [],
   "source": [
    "df['Club']=df[\"Club\"].replace([\"\\n\\n\\n\\n\"],'', regex=True)"
   ]
  },
  {
   "cell_type": "markdown",
   "id": "f617bd57",
   "metadata": {},
   "source": [
    "#### Checking Dupliactes"
   ]
  },
  {
   "cell_type": "code",
   "execution_count": null,
   "id": "40bb7f6c",
   "metadata": {},
   "outputs": [],
   "source": [
    "duplicates = df.duplicated()\n",
    "print(df[duplicates])"
   ]
  },
  {
   "cell_type": "code",
   "execution_count": null,
   "id": "122a7a5f",
   "metadata": {},
   "outputs": [],
   "source": [
    "# Dropping duplicate columns\n",
    "df.drop_duplicates(inplace=True)"
   ]
  },
  {
   "cell_type": "code",
   "execution_count": null,
   "id": "b24d1db6",
   "metadata": {},
   "outputs": [],
   "source": [
    "duplicates = df.duplicated()\n",
    "print(df[duplicates])"
   ]
  },
  {
   "cell_type": "markdown",
   "id": "28612a75",
   "metadata": {},
   "source": [
    "#### Cleaning column Height"
   ]
  },
  {
   "cell_type": "code",
   "execution_count": null,
   "id": "07d19446",
   "metadata": {},
   "outputs": [],
   "source": [
    "df[\"Height\"].unique()"
   ]
  },
  {
   "cell_type": "markdown",
   "id": "c6579f25",
   "metadata": {},
   "source": [
    "You notice something odd here, we have 22 as a unique. Value can't be 22cm or 2'2, you should know something up"
   ]
  },
  {
   "cell_type": "code",
   "execution_count": null,
   "id": "87861e24",
   "metadata": {},
   "outputs": [],
   "source": [
    "df[df[\"Height\"]==22]"
   ]
  },
  {
   "cell_type": "markdown",
   "id": "f70e7927",
   "metadata": {},
   "source": [
    "You observe all columns till have duplicates\n",
    "Now, we drop the column"
   ]
  },
  {
   "cell_type": "code",
   "execution_count": null,
   "id": "04092acf",
   "metadata": {},
   "outputs": [],
   "source": [
    "df.drop(index=16203, inplace=True)"
   ]
  },
  {
   "cell_type": "code",
   "execution_count": null,
   "id": "fa4203ab",
   "metadata": {},
   "outputs": [],
   "source": [
    "df[\"Height\"].unique()"
   ]
  },
  {
   "cell_type": "markdown",
   "id": "373fdde4",
   "metadata": {},
   "source": [
    "We don't have 22 again as unique value"
   ]
  },
  {
   "cell_type": "code",
   "execution_count": null,
   "id": "a5fd41cd",
   "metadata": {},
   "outputs": [],
   "source": [
    "# Function will clean Column Height\n",
    "def convert_height(val):\n",
    "    if str(val).endswith(\"cm\"):\n",
    "        \n",
    "        # Function will remove cm for series values\n",
    "        s = [int(s) for s in re.findall(r'-?\\d+\\.?\\d*', val)]\n",
    "        \n",
    "        return int(s[0])\n",
    "        \n",
    "    elif str(val).endswith(\"\\\"\"):\n",
    "        \n",
    "        # Since 1 foot=30.48cm and 1 inch= 2.54cm, we multiply first number instance by 30.48 and second instance by 2.54 \n",
    "        # We add up and we have series values in cm\n",
    "        \n",
    "        s = [int(s) for s in re.findall(r'-?\\d+\\.?\\d*', val)]\n",
    "        answer_cm= int(float((s[0]*30.48)+(s[1]*2.54)))\n",
    "        return answer_cm"
   ]
  },
  {
   "cell_type": "code",
   "execution_count": null,
   "id": "1beb11ff",
   "metadata": {},
   "outputs": [],
   "source": [
    "df[\"Height\"]=df['Height'].apply(convert_height)"
   ]
  },
  {
   "cell_type": "code",
   "execution_count": null,
   "id": "3238e1d1",
   "metadata": {},
   "outputs": [],
   "source": [
    "df[\"Height\"].unique()"
   ]
  },
  {
   "cell_type": "code",
   "execution_count": null,
   "id": "288b687a",
   "metadata": {},
   "outputs": [],
   "source": [
    "df[\"Height\"].isna().sum()"
   ]
  },
  {
   "cell_type": "markdown",
   "id": "dcd36de5",
   "metadata": {},
   "source": [
    "#### Cleaning Weight column"
   ]
  },
  {
   "cell_type": "code",
   "execution_count": null,
   "id": "f2e982e2",
   "metadata": {},
   "outputs": [],
   "source": [
    "df[\"Weight\"].unique()"
   ]
  },
  {
   "cell_type": "markdown",
   "id": "5070c77d",
   "metadata": {},
   "source": [
    "We have two different weight SI units; kg and lbs"
   ]
  },
  {
   "cell_type": "code",
   "execution_count": null,
   "id": "85510fde",
   "metadata": {},
   "outputs": [],
   "source": [
    "# Function will clean Column Weight\n",
    "def convert_weight(val):\n",
    "    if val.endswith(\"kg\"):\n",
    "        # Function will remove cm for series values\n",
    "        s = [int(s) for s in re.findall(r'-?\\d+\\.?\\d*', val)]\n",
    "        return int(s[0])\n",
    "        \n",
    "    elif val.endswith(\"lbs\"):\n",
    "        # We add up and we have series values in kg\n",
    "        s = [int(s) for s in re.findall(r'-?\\d+\\.?\\d*', val)]\n",
    "        answer_cm= s[0]*0.453592\n",
    "        return int(answer_cm)"
   ]
  },
  {
   "cell_type": "code",
   "execution_count": null,
   "id": "4e2baad8",
   "metadata": {},
   "outputs": [],
   "source": [
    "df['Weight']=df['Weight'].apply(convert_weight)"
   ]
  },
  {
   "cell_type": "code",
   "execution_count": null,
   "id": "35aa8593",
   "metadata": {},
   "outputs": [],
   "source": [
    "df['Weight'].unique()"
   ]
  },
  {
   "cell_type": "code",
   "execution_count": null,
   "id": "d4c15464",
   "metadata": {},
   "outputs": [],
   "source": [
    "df['Weight'].isna().sum()"
   ]
  },
  {
   "cell_type": "markdown",
   "id": "9dff4170",
   "metadata": {},
   "source": [
    "#### Cleaning column Value"
   ]
  },
  {
   "cell_type": "code",
   "execution_count": null,
   "id": "19efd385",
   "metadata": {},
   "outputs": [],
   "source": [
    "df['Value'].unique()"
   ]
  },
  {
   "cell_type": "code",
   "execution_count": null,
   "id": "401a6c7b",
   "metadata": {},
   "outputs": [],
   "source": [
    "df['Value'] = df['Value'].str.replace('€','')"
   ]
  },
  {
   "cell_type": "code",
   "execution_count": null,
   "id": "9c6b507c",
   "metadata": {},
   "outputs": [],
   "source": [
    "def convert_value(val):\n",
    "    \n",
    "    if 'M' in val:\n",
    "        # We split val by space and we get a list in return\n",
    "        x=float(val.split('M')[0])\n",
    "        # After extracting number fron val, we multiply by 1000000\n",
    "        return int(x*1000000)\n",
    "\n",
    "    elif 'K' in val:\n",
    "        x=float(val.split('K')[0])\n",
    "        # After extracting number fron val, we multiply by 1000000\n",
    "        return int(x*1000)\n",
    "    else:\n",
    "        return int(val)"
   ]
  },
  {
   "cell_type": "code",
   "execution_count": null,
   "id": "ab7922e3",
   "metadata": {},
   "outputs": [],
   "source": [
    "df['Value']=df['Value'].apply(convert_value)"
   ]
  },
  {
   "cell_type": "code",
   "execution_count": null,
   "id": "176fac6a",
   "metadata": {},
   "outputs": [],
   "source": [
    "df['Value'].unique()"
   ]
  },
  {
   "cell_type": "code",
   "execution_count": null,
   "id": "6cd22e56",
   "metadata": {},
   "outputs": [],
   "source": [
    "df[\"Value\"].isna().sum()"
   ]
  },
  {
   "cell_type": "markdown",
   "id": "a1e74ab3",
   "metadata": {},
   "source": [
    "#### Cleaning column Wage"
   ]
  },
  {
   "cell_type": "code",
   "execution_count": null,
   "id": "0713a6a5",
   "metadata": {},
   "outputs": [],
   "source": [
    "df[\"Wage\"].unique()"
   ]
  },
  {
   "cell_type": "markdown",
   "id": "5cc1e8b4",
   "metadata": {},
   "source": [
    "If you observe closely, you will observe some players earn in thousands of euros and hundreds of euros\n",
    "\n",
    "We slice with caution here"
   ]
  },
  {
   "cell_type": "code",
   "execution_count": null,
   "id": "52e1395a",
   "metadata": {},
   "outputs": [],
   "source": [
    "df['Wage'] = df['Wage'].str.replace('€','')"
   ]
  },
  {
   "cell_type": "code",
   "execution_count": null,
   "id": "b092be77",
   "metadata": {},
   "outputs": [],
   "source": [
    "# Function will clean Column Wage\n",
    "def convert_wage(val):\n",
    "    \n",
    "    if \"K\" in val:\n",
    "        value=val.split(\"K\")[0]\n",
    "        value= int(value)*1000\n",
    "        return value\n",
    "    else:\n",
    "        value= int(val)\n",
    "\n",
    "        return val"
   ]
  },
  {
   "cell_type": "code",
   "execution_count": null,
   "id": "8bb318b2",
   "metadata": {},
   "outputs": [],
   "source": [
    "df['Wage']=df['Wage'].apply(convert_wage)"
   ]
  },
  {
   "cell_type": "code",
   "execution_count": null,
   "id": "193fa7d6",
   "metadata": {},
   "outputs": [],
   "source": [
    "df[\"Wage\"].unique()"
   ]
  },
  {
   "cell_type": "code",
   "execution_count": null,
   "id": "a02f9843",
   "metadata": {},
   "outputs": [],
   "source": [
    "df[\"Wage\"].isna().sum()"
   ]
  },
  {
   "cell_type": "markdown",
   "id": "3c94d439",
   "metadata": {},
   "source": [
    "#### Cleaning the column Release clause "
   ]
  },
  {
   "cell_type": "code",
   "execution_count": null,
   "id": "33d2c96f",
   "metadata": {},
   "outputs": [],
   "source": [
    "df[\"Release Clause\"].unique()"
   ]
  },
  {
   "cell_type": "code",
   "execution_count": null,
   "id": "8f4e9514",
   "metadata": {},
   "outputs": [],
   "source": [
    "df['Release Clause'] = df['Release Clause'].str.replace('€','')\n"
   ]
  },
  {
   "cell_type": "code",
   "execution_count": null,
   "id": "d3f14dd0",
   "metadata": {},
   "outputs": [],
   "source": [
    "def run(val):\n",
    "    if 'M' in val:\n",
    "        # We split val by space and we get a list in return\n",
    "        x=float(val.split('M')[0])\n",
    "        return int(x*1000000)\n",
    "\n",
    "    elif 'K' in val:\n",
    "       `# We split val by space and we get a list in return\n",
    "        x=float(val.split('K')[0])\n",
    "        return int(x*1000)\n",
    "    else:\n",
    "        return int(val)"
   ]
  },
  {
   "cell_type": "code",
   "execution_count": null,
   "id": "137d8755",
   "metadata": {},
   "outputs": [],
   "source": [
    "df[\"Release Clause\"]=df['Release Clause'].apply(run)"
   ]
  },
  {
   "cell_type": "code",
   "execution_count": null,
   "id": "21bb6893",
   "metadata": {},
   "outputs": [],
   "source": [
    "df[\"Release Clause\"].unique()"
   ]
  },
  {
   "cell_type": "code",
   "execution_count": null,
   "id": "5ee75153",
   "metadata": {},
   "outputs": [],
   "source": [
    "df[\"Release Clause\"].isna().sum()"
   ]
  },
  {
   "cell_type": "markdown",
   "id": "c28a0f92",
   "metadata": {},
   "source": [
    "We have no problem Release Clause"
   ]
  },
  {
   "cell_type": "markdown",
   "id": "283d5781",
   "metadata": {},
   "source": [
    "#### Handling column Contract"
   ]
  },
  {
   "cell_type": "code",
   "execution_count": null,
   "id": "7a22470b",
   "metadata": {},
   "outputs": [],
   "source": [
    "df.loc[:,[\"Contract\",\"Joined\"]]"
   ]
  },
  {
   "cell_type": "code",
   "execution_count": null,
   "id": "1c137c01",
   "metadata": {},
   "outputs": [],
   "source": [
    "df[\"Contract\"].unique()"
   ]
  },
  {
   "cell_type": "code",
   "execution_count": null,
   "id": "48051b72",
   "metadata": {},
   "outputs": [],
   "source": [
    "# Function create new column \"Contract_end\" for every player \n",
    "def convert_contract(val):\n",
    "    # We split values into list by space\n",
    "    val= val.split(\" \")\n",
    "    if 'Free' in val:\n",
    "        return val[0]\n",
    "    elif \"Loan\" in val:\n",
    "        return val[2]\n",
    "    elif \"~\" in val:\n",
    "        return val[2]"
   ]
  },
  {
   "cell_type": "markdown",
   "id": "07ae72ef",
   "metadata": {},
   "source": [
    "#### Creating New Column \"Contract_end\"\n",
    "\n",
    " - Contract players have contract with parent club\n",
    " - Loan players have contract with parent team despite temporary borrowing\n",
    " - Free Players hae no club, no contract"
   ]
  },
  {
   "cell_type": "code",
   "execution_count": null,
   "id": "731ae82b",
   "metadata": {},
   "outputs": [],
   "source": [
    "df['Contract_end']=df[\"Contract\"].apply(convert_contract)"
   ]
  },
  {
   "cell_type": "code",
   "execution_count": null,
   "id": "94689b31",
   "metadata": {},
   "outputs": [],
   "source": [
    "df['Contract_end'].unique()"
   ]
  },
  {
   "cell_type": "markdown",
   "id": "a33f9b02",
   "metadata": {},
   "source": [
    "#### Creating new column \"Contract_start\""
   ]
  },
  {
   "cell_type": "code",
   "execution_count": null,
   "id": "d195964c",
   "metadata": {},
   "outputs": [],
   "source": [
    "df[\"Joined\"].unique()"
   ]
  },
  {
   "cell_type": "code",
   "execution_count": null,
   "id": "afb2500f",
   "metadata": {},
   "outputs": [],
   "source": [
    "# Function create new column \"Contract_start\" for every player \n",
    "def convert_contract(val):\n",
    "    val= val.split(\" \")\n",
    "    return val[-1]"
   ]
  },
  {
   "cell_type": "code",
   "execution_count": null,
   "id": "be189226",
   "metadata": {},
   "outputs": [],
   "source": [
    "df[\"Contract_start\"]= df[\"Joined\"].apply(convert_contract)"
   ]
  },
  {
   "cell_type": "code",
   "execution_count": null,
   "id": "399d7832",
   "metadata": {},
   "outputs": [],
   "source": [
    "df[\"Contract_start\"].unique()"
   ]
  },
  {
   "cell_type": "markdown",
   "id": "f6c2852e",
   "metadata": {},
   "source": [
    "#### Creating Column Player Status"
   ]
  },
  {
   "cell_type": "code",
   "execution_count": null,
   "id": "09ed674b",
   "metadata": {},
   "outputs": [],
   "source": [
    "# Function create new column \"Player Status\" for every player \n",
    "def status(val):\n",
    "    # We split values in list by space\n",
    "    val= val.split(\" \")\n",
    "    if 'Free' in val:\n",
    "        # We assign free to free players with no contract\n",
    "        return \"Free\"\n",
    "    elif \"Loan\" in val:\n",
    "        # We assign Loan to Loan players with temporary club\n",
    "        return \"Loan\"\n",
    "    elif \"~\" in val:\n",
    "        # We assign Contract to  players with  contract with parent club\n",
    "        return \"Contract\""
   ]
  },
  {
   "cell_type": "code",
   "execution_count": null,
   "id": "ca9d28c5",
   "metadata": {},
   "outputs": [],
   "source": [
    "df[\"Player Status\"]=df[\"Contract\"].apply(status)"
   ]
  },
  {
   "cell_type": "code",
   "execution_count": null,
   "id": "0a6dd1f1",
   "metadata": {},
   "outputs": [],
   "source": [
    "df[\"Player Status\"].unique()"
   ]
  },
  {
   "cell_type": "code",
   "execution_count": null,
   "id": "f883ab3c",
   "metadata": {},
   "outputs": [],
   "source": [
    "df[\"Player Status\"].isna().sum()"
   ]
  },
  {
   "cell_type": "markdown",
   "id": "8a362198",
   "metadata": {},
   "source": [
    "#### We have no null values, we are good here."
   ]
  },
  {
   "cell_type": "code",
   "execution_count": null,
   "id": "b34b0c85",
   "metadata": {},
   "outputs": [],
   "source": [
    "df[df[\"Player Status\"]==\"Contract\"]"
   ]
  },
  {
   "cell_type": "code",
   "execution_count": null,
   "id": "22c24b8d",
   "metadata": {},
   "outputs": [],
   "source": [
    "df[df[\"Player Status\"]==\"Free\"]"
   ]
  },
  {
   "cell_type": "code",
   "execution_count": null,
   "id": "5fc69999",
   "metadata": {},
   "outputs": [],
   "source": [
    "df[df[\"Player Status\"]==\"Loan\"]"
   ]
  },
  {
   "cell_type": "markdown",
   "id": "21d773f3",
   "metadata": {},
   "source": [
    "#### Removing star symbol from column W/F,SM and IP "
   ]
  },
  {
   "cell_type": "code",
   "execution_count": null,
   "id": "84c76f7b",
   "metadata": {},
   "outputs": [],
   "source": [
    "df.loc[:,[\"SM\",\"IR\",'W/F']]"
   ]
  },
  {
   "cell_type": "code",
   "execution_count": null,
   "id": "cdb267d2",
   "metadata": {},
   "outputs": [],
   "source": [
    "def star_remove(val):\n",
    "    s = [int(s) for s in re.findall(r'[0-9]+', val)]\n",
    "    return s[0]"
   ]
  },
  {
   "cell_type": "code",
   "execution_count": null,
   "id": "55888a7d",
   "metadata": {},
   "outputs": [],
   "source": [
    "df['W/F']=df['W/F'].apply(star_remove)"
   ]
  },
  {
   "cell_type": "code",
   "execution_count": null,
   "id": "d4c9f114",
   "metadata": {},
   "outputs": [],
   "source": [
    "df['IR']=df['IR'].apply(star_remove)"
   ]
  },
  {
   "cell_type": "code",
   "execution_count": null,
   "id": "0c234594",
   "metadata": {},
   "outputs": [],
   "source": [
    "df['SM']=df['SM'].apply(star_remove)"
   ]
  },
  {
   "cell_type": "code",
   "execution_count": null,
   "id": "050a0224",
   "metadata": {},
   "outputs": [],
   "source": [
    "df.loc[:,[\"SM\",\"IR\",'W/F']]"
   ]
  },
  {
   "cell_type": "code",
   "execution_count": null,
   "id": "6ebc3203",
   "metadata": {},
   "outputs": [],
   "source": [
    "df.head()"
   ]
  },
  {
   "cell_type": "markdown",
   "id": "d60e8771",
   "metadata": {},
   "source": [
    "#### Dropping columns"
   ]
  },
  {
   "cell_type": "code",
   "execution_count": null,
   "id": "86707f84",
   "metadata": {},
   "outputs": [],
   "source": [
    "# We are dropping irrelevant columns\n",
    "df.drop([\"playerUrl\",\"Contract\"],axis=1, inplace=True)"
   ]
  },
  {
   "cell_type": "code",
   "execution_count": null,
   "id": "a3106943",
   "metadata": {},
   "outputs": [],
   "source": [
    "df.head()"
   ]
  },
  {
   "cell_type": "code",
   "execution_count": null,
   "id": "00f13077",
   "metadata": {},
   "outputs": [],
   "source": [
    "# Renaming columns\n",
    "df.rename(columns= {\"photoUrl\":\"Photo URL\",\"↓OVA\": \"Overall\", \"POT\":\"Potential\",\"BOV\":\"Best Overall Rating\", \n",
    "                    \"W/F\":\"Weak Foot Ability\", \"SM\":\"Skill Move\",\"A/W\":\"Work Rate\",\n",
    "                   \"IR\":\"Injury Resistance\", \"PAC\":\"Pace\", \"SHO\":\"Shooting\",\n",
    "                   \"PAS\":\"Passing\", \"DRI\":\"Dribbling\",\"PHY\":\"Physicality\", \n",
    "                    \"Contract_end\": \"Contract Valid Till\", \"Contract_start\":\"Contract Start\" }, inplace=True)"
   ]
  },
  {
   "cell_type": "code",
   "execution_count": null,
   "id": "0c15931b",
   "metadata": {},
   "outputs": [],
   "source": [
    "df.head()"
   ]
  },
  {
   "cell_type": "code",
   "execution_count": null,
   "id": "e28ddee5",
   "metadata": {},
   "outputs": [],
   "source": [
    "df.info()"
   ]
  },
  {
   "cell_type": "markdown",
   "id": "ae3026d8",
   "metadata": {},
   "source": [
    "## From all indications from info above, we have cleaned the data peoperly."
   ]
  },
  {
   "cell_type": "code",
   "execution_count": null,
   "id": "a1471810",
   "metadata": {},
   "outputs": [],
   "source": []
  }
 ],
 "metadata": {
  "kernelspec": {
   "display_name": "Python 3",
   "language": "python",
   "name": "python3"
  },
  "language_info": {
   "codemirror_mode": {
    "name": "ipython",
    "version": 3
   },
   "file_extension": ".py",
   "mimetype": "text/x-python",
   "name": "python",
   "nbconvert_exporter": "python",
   "pygments_lexer": "ipython3",
   "version": "3.8.8"
  }
 },
 "nbformat": 4,
 "nbformat_minor": 5
}
