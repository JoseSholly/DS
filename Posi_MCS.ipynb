{
 "cells": [
  {
   "cell_type": "markdown",
   "id": "931bf711",
   "metadata": {},
   "source": [
    "- Temperature(T) is a measure of the degree of hotness or coldness of the atmosphere. It is typically measured in degrees Celsius (°C) or Fahrenheit (°F). Temperature plays a crucial role in determining the weather and climate of an area. In general, higher temperatures are associated with warmer weather and lower temperatures with cooler weather.\n",
    "\n",
    "- Humidity is a measure of the amount of water vapor in the air. It is typically measured as a percentage of the maximum amount of water vapor that the air can hold at a particular temperature. High humidity can make the air feel warmer, while low humidity can make the air feel cooler. It is also known as Relative humidity(RH)\n",
    "\n",
    "- Effective temperature(ET), also known as the feels like temperature or heat index, takes into account both temperature and humidity to provide an estimate of how hot or cold it feels to the human body. It is typically calculated using a formula that considers the temperature and the relative humidity.\n",
    "\n",
    "- The temperature humidity index (THI) is another measure that takes into account both temperature and humidity. It is typically used in agricultural settings to evaluate the potential for heat stress in livestock. The THI is calculated using a formula that considers both the temperature and the humidity.\n",
    "\n",
    "- The relative strain index (RSI) is a measure of the physiological strain on the human body caused by a combination of temperature and humidity. It is typically used in occupational health and safety settings to assess the risk of heat-related illnesses in workers. The RSI is calculated using a formula that considers both the temperature and the humidity, as well as other factors such as clothing and metabolic rate.\n",
    "\n",
    "     Overall, temperature, humidity, effective temperature, temperature humidity index, and relative strain index are all important measures for understanding the impact of weather and climate on human health and safety, as well as on agriculture and other industries. By taking these factors into account, it is possible to make informed decisions and take appropriate actions to mitigate the risks associated with extreme weather conditions."
   ]
  },
  {
   "cell_type": "code",
   "execution_count": 1,
   "id": "707f6bd0",
   "metadata": {},
   "outputs": [],
   "source": [
    "import pandas as pd\n",
    "import numpy as nps"
   ]
  },
  {
   "cell_type": "code",
   "execution_count": 2,
   "id": "c69435dc",
   "metadata": {},
   "outputs": [],
   "source": [
    "df= pd.read_csv(\"Akure Temperature.csv\")"
   ]
  },
  {
   "cell_type": "code",
   "execution_count": 3,
   "id": "ca418d88",
   "metadata": {},
   "outputs": [],
   "source": [
    "df.set_index(\"Year\", inplace=True)"
   ]
  },
  {
   "cell_type": "code",
   "execution_count": 4,
   "id": "25627402",
   "metadata": {},
   "outputs": [
    {
     "data": {
      "text/html": [
       "<div>\n",
       "<style scoped>\n",
       "    .dataframe tbody tr th:only-of-type {\n",
       "        vertical-align: middle;\n",
       "    }\n",
       "\n",
       "    .dataframe tbody tr th {\n",
       "        vertical-align: top;\n",
       "    }\n",
       "\n",
       "    .dataframe thead th {\n",
       "        text-align: right;\n",
       "    }\n",
       "</style>\n",
       "<table border=\"1\" class=\"dataframe\">\n",
       "  <thead>\n",
       "    <tr style=\"text-align: right;\">\n",
       "      <th></th>\n",
       "      <th>Jan</th>\n",
       "      <th>Feb</th>\n",
       "      <th>Mar</th>\n",
       "      <th>Apr</th>\n",
       "      <th>May</th>\n",
       "      <th>Jun</th>\n",
       "      <th>Jul</th>\n",
       "      <th>Aug</th>\n",
       "      <th>Sep</th>\n",
       "      <th>Oct</th>\n",
       "      <th>Nov</th>\n",
       "      <th>Dec</th>\n",
       "      <th>Annual</th>\n",
       "      <th>Parameter</th>\n",
       "    </tr>\n",
       "    <tr>\n",
       "      <th>Year</th>\n",
       "      <th></th>\n",
       "      <th></th>\n",
       "      <th></th>\n",
       "      <th></th>\n",
       "      <th></th>\n",
       "      <th></th>\n",
       "      <th></th>\n",
       "      <th></th>\n",
       "      <th></th>\n",
       "      <th></th>\n",
       "      <th></th>\n",
       "      <th></th>\n",
       "      <th></th>\n",
       "      <th></th>\n",
       "    </tr>\n",
       "  </thead>\n",
       "  <tbody>\n",
       "    <tr>\n",
       "      <th>1981</th>\n",
       "      <td>23.41</td>\n",
       "      <td>24.70</td>\n",
       "      <td>25.15</td>\n",
       "      <td>25.30</td>\n",
       "      <td>24.37</td>\n",
       "      <td>24.22</td>\n",
       "      <td>23.03</td>\n",
       "      <td>22.97</td>\n",
       "      <td>23.23</td>\n",
       "      <td>24.20</td>\n",
       "      <td>23.19</td>\n",
       "      <td>23.48</td>\n",
       "      <td>23.93</td>\n",
       "      <td>T2M</td>\n",
       "    </tr>\n",
       "    <tr>\n",
       "      <th>1982</th>\n",
       "      <td>24.13</td>\n",
       "      <td>23.95</td>\n",
       "      <td>24.55</td>\n",
       "      <td>24.79</td>\n",
       "      <td>24.41</td>\n",
       "      <td>23.71</td>\n",
       "      <td>22.79</td>\n",
       "      <td>22.09</td>\n",
       "      <td>23.30</td>\n",
       "      <td>23.19</td>\n",
       "      <td>23.09</td>\n",
       "      <td>22.98</td>\n",
       "      <td>23.58</td>\n",
       "      <td>T2M</td>\n",
       "    </tr>\n",
       "    <tr>\n",
       "      <th>1983</th>\n",
       "      <td>20.23</td>\n",
       "      <td>25.94</td>\n",
       "      <td>27.21</td>\n",
       "      <td>26.58</td>\n",
       "      <td>25.03</td>\n",
       "      <td>23.96</td>\n",
       "      <td>22.83</td>\n",
       "      <td>22.18</td>\n",
       "      <td>23.21</td>\n",
       "      <td>24.00</td>\n",
       "      <td>24.29</td>\n",
       "      <td>23.44</td>\n",
       "      <td>24.05</td>\n",
       "      <td>T2M</td>\n",
       "    </tr>\n",
       "    <tr>\n",
       "      <th>1984</th>\n",
       "      <td>22.33</td>\n",
       "      <td>25.55</td>\n",
       "      <td>25.62</td>\n",
       "      <td>25.18</td>\n",
       "      <td>24.27</td>\n",
       "      <td>23.87</td>\n",
       "      <td>23.11</td>\n",
       "      <td>23.30</td>\n",
       "      <td>23.28</td>\n",
       "      <td>23.92</td>\n",
       "      <td>23.56</td>\n",
       "      <td>22.26</td>\n",
       "      <td>23.84</td>\n",
       "      <td>T2M</td>\n",
       "    </tr>\n",
       "    <tr>\n",
       "      <th>1985</th>\n",
       "      <td>24.17</td>\n",
       "      <td>24.25</td>\n",
       "      <td>25.39</td>\n",
       "      <td>25.16</td>\n",
       "      <td>24.50</td>\n",
       "      <td>23.51</td>\n",
       "      <td>22.44</td>\n",
       "      <td>22.73</td>\n",
       "      <td>22.94</td>\n",
       "      <td>23.90</td>\n",
       "      <td>24.37</td>\n",
       "      <td>22.71</td>\n",
       "      <td>23.83</td>\n",
       "      <td>T2M</td>\n",
       "    </tr>\n",
       "  </tbody>\n",
       "</table>\n",
       "</div>"
      ],
      "text/plain": [
       "        Jan    Feb    Mar    Apr    May    Jun    Jul    Aug    Sep    Oct  \\\n",
       "Year                                                                         \n",
       "1981  23.41  24.70  25.15  25.30  24.37  24.22  23.03  22.97  23.23  24.20   \n",
       "1982  24.13  23.95  24.55  24.79  24.41  23.71  22.79  22.09  23.30  23.19   \n",
       "1983  20.23  25.94  27.21  26.58  25.03  23.96  22.83  22.18  23.21  24.00   \n",
       "1984  22.33  25.55  25.62  25.18  24.27  23.87  23.11  23.30  23.28  23.92   \n",
       "1985  24.17  24.25  25.39  25.16  24.50  23.51  22.44  22.73  22.94  23.90   \n",
       "\n",
       "        Nov    Dec  Annual Parameter  \n",
       "Year                                  \n",
       "1981  23.19  23.48   23.93       T2M  \n",
       "1982  23.09  22.98   23.58       T2M  \n",
       "1983  24.29  23.44   24.05       T2M  \n",
       "1984  23.56  22.26   23.84       T2M  \n",
       "1985  24.37  22.71   23.83       T2M  "
      ]
     },
     "execution_count": 4,
     "metadata": {},
     "output_type": "execute_result"
    }
   ],
   "source": [
    "df.head()"
   ]
  },
  {
   "cell_type": "code",
   "execution_count": 5,
   "id": "12978acd",
   "metadata": {},
   "outputs": [],
   "source": [
    "temp=df.loc[df['Parameter']==\"T2M\"]"
   ]
  },
  {
   "cell_type": "code",
   "execution_count": 6,
   "id": "80a5d621",
   "metadata": {},
   "outputs": [],
   "source": [
    "r_humididty=df.loc[df['Parameter']==\"RH2M\"]"
   ]
  },
  {
   "cell_type": "code",
   "execution_count": 7,
   "id": "7ad37464",
   "metadata": {},
   "outputs": [
    {
     "data": {
      "text/html": [
       "<div>\n",
       "<style scoped>\n",
       "    .dataframe tbody tr th:only-of-type {\n",
       "        vertical-align: middle;\n",
       "    }\n",
       "\n",
       "    .dataframe tbody tr th {\n",
       "        vertical-align: top;\n",
       "    }\n",
       "\n",
       "    .dataframe thead th {\n",
       "        text-align: right;\n",
       "    }\n",
       "</style>\n",
       "<table border=\"1\" class=\"dataframe\">\n",
       "  <thead>\n",
       "    <tr style=\"text-align: right;\">\n",
       "      <th></th>\n",
       "      <th>Jan</th>\n",
       "      <th>Feb</th>\n",
       "      <th>Mar</th>\n",
       "      <th>Apr</th>\n",
       "      <th>May</th>\n",
       "      <th>Jun</th>\n",
       "      <th>Jul</th>\n",
       "      <th>Aug</th>\n",
       "      <th>Sep</th>\n",
       "      <th>Oct</th>\n",
       "      <th>Nov</th>\n",
       "      <th>Dec</th>\n",
       "      <th>Annual</th>\n",
       "      <th>Parameter</th>\n",
       "    </tr>\n",
       "    <tr>\n",
       "      <th>Year</th>\n",
       "      <th></th>\n",
       "      <th></th>\n",
       "      <th></th>\n",
       "      <th></th>\n",
       "      <th></th>\n",
       "      <th></th>\n",
       "      <th></th>\n",
       "      <th></th>\n",
       "      <th></th>\n",
       "      <th></th>\n",
       "      <th></th>\n",
       "      <th></th>\n",
       "      <th></th>\n",
       "      <th></th>\n",
       "    </tr>\n",
       "  </thead>\n",
       "  <tbody>\n",
       "    <tr>\n",
       "      <th>1981</th>\n",
       "      <td>23.41</td>\n",
       "      <td>24.70</td>\n",
       "      <td>25.15</td>\n",
       "      <td>25.30</td>\n",
       "      <td>24.37</td>\n",
       "      <td>24.22</td>\n",
       "      <td>23.03</td>\n",
       "      <td>22.97</td>\n",
       "      <td>23.23</td>\n",
       "      <td>24.20</td>\n",
       "      <td>23.19</td>\n",
       "      <td>23.48</td>\n",
       "      <td>23.93</td>\n",
       "      <td>T2M</td>\n",
       "    </tr>\n",
       "    <tr>\n",
       "      <th>1982</th>\n",
       "      <td>24.13</td>\n",
       "      <td>23.95</td>\n",
       "      <td>24.55</td>\n",
       "      <td>24.79</td>\n",
       "      <td>24.41</td>\n",
       "      <td>23.71</td>\n",
       "      <td>22.79</td>\n",
       "      <td>22.09</td>\n",
       "      <td>23.30</td>\n",
       "      <td>23.19</td>\n",
       "      <td>23.09</td>\n",
       "      <td>22.98</td>\n",
       "      <td>23.58</td>\n",
       "      <td>T2M</td>\n",
       "    </tr>\n",
       "    <tr>\n",
       "      <th>1983</th>\n",
       "      <td>20.23</td>\n",
       "      <td>25.94</td>\n",
       "      <td>27.21</td>\n",
       "      <td>26.58</td>\n",
       "      <td>25.03</td>\n",
       "      <td>23.96</td>\n",
       "      <td>22.83</td>\n",
       "      <td>22.18</td>\n",
       "      <td>23.21</td>\n",
       "      <td>24.00</td>\n",
       "      <td>24.29</td>\n",
       "      <td>23.44</td>\n",
       "      <td>24.05</td>\n",
       "      <td>T2M</td>\n",
       "    </tr>\n",
       "    <tr>\n",
       "      <th>1984</th>\n",
       "      <td>22.33</td>\n",
       "      <td>25.55</td>\n",
       "      <td>25.62</td>\n",
       "      <td>25.18</td>\n",
       "      <td>24.27</td>\n",
       "      <td>23.87</td>\n",
       "      <td>23.11</td>\n",
       "      <td>23.30</td>\n",
       "      <td>23.28</td>\n",
       "      <td>23.92</td>\n",
       "      <td>23.56</td>\n",
       "      <td>22.26</td>\n",
       "      <td>23.84</td>\n",
       "      <td>T2M</td>\n",
       "    </tr>\n",
       "    <tr>\n",
       "      <th>1985</th>\n",
       "      <td>24.17</td>\n",
       "      <td>24.25</td>\n",
       "      <td>25.39</td>\n",
       "      <td>25.16</td>\n",
       "      <td>24.50</td>\n",
       "      <td>23.51</td>\n",
       "      <td>22.44</td>\n",
       "      <td>22.73</td>\n",
       "      <td>22.94</td>\n",
       "      <td>23.90</td>\n",
       "      <td>24.37</td>\n",
       "      <td>22.71</td>\n",
       "      <td>23.83</td>\n",
       "      <td>T2M</td>\n",
       "    </tr>\n",
       "  </tbody>\n",
       "</table>\n",
       "</div>"
      ],
      "text/plain": [
       "        Jan    Feb    Mar    Apr    May    Jun    Jul    Aug    Sep    Oct  \\\n",
       "Year                                                                         \n",
       "1981  23.41  24.70  25.15  25.30  24.37  24.22  23.03  22.97  23.23  24.20   \n",
       "1982  24.13  23.95  24.55  24.79  24.41  23.71  22.79  22.09  23.30  23.19   \n",
       "1983  20.23  25.94  27.21  26.58  25.03  23.96  22.83  22.18  23.21  24.00   \n",
       "1984  22.33  25.55  25.62  25.18  24.27  23.87  23.11  23.30  23.28  23.92   \n",
       "1985  24.17  24.25  25.39  25.16  24.50  23.51  22.44  22.73  22.94  23.90   \n",
       "\n",
       "        Nov    Dec  Annual Parameter  \n",
       "Year                                  \n",
       "1981  23.19  23.48   23.93       T2M  \n",
       "1982  23.09  22.98   23.58       T2M  \n",
       "1983  24.29  23.44   24.05       T2M  \n",
       "1984  23.56  22.26   23.84       T2M  \n",
       "1985  24.37  22.71   23.83       T2M  "
      ]
     },
     "execution_count": 7,
     "metadata": {},
     "output_type": "execute_result"
    }
   ],
   "source": [
    "temp.head()"
   ]
  },
  {
   "cell_type": "code",
   "execution_count": 8,
   "id": "67bd241b",
   "metadata": {},
   "outputs": [
    {
     "data": {
      "text/html": [
       "<div>\n",
       "<style scoped>\n",
       "    .dataframe tbody tr th:only-of-type {\n",
       "        vertical-align: middle;\n",
       "    }\n",
       "\n",
       "    .dataframe tbody tr th {\n",
       "        vertical-align: top;\n",
       "    }\n",
       "\n",
       "    .dataframe thead th {\n",
       "        text-align: right;\n",
       "    }\n",
       "</style>\n",
       "<table border=\"1\" class=\"dataframe\">\n",
       "  <thead>\n",
       "    <tr style=\"text-align: right;\">\n",
       "      <th></th>\n",
       "      <th>Jan</th>\n",
       "      <th>Feb</th>\n",
       "      <th>Mar</th>\n",
       "      <th>Apr</th>\n",
       "      <th>May</th>\n",
       "      <th>Jun</th>\n",
       "      <th>Jul</th>\n",
       "      <th>Aug</th>\n",
       "      <th>Sep</th>\n",
       "      <th>Oct</th>\n",
       "      <th>Nov</th>\n",
       "      <th>Dec</th>\n",
       "    </tr>\n",
       "    <tr>\n",
       "      <th>Year</th>\n",
       "      <th></th>\n",
       "      <th></th>\n",
       "      <th></th>\n",
       "      <th></th>\n",
       "      <th></th>\n",
       "      <th></th>\n",
       "      <th></th>\n",
       "      <th></th>\n",
       "      <th></th>\n",
       "      <th></th>\n",
       "      <th></th>\n",
       "      <th></th>\n",
       "    </tr>\n",
       "  </thead>\n",
       "  <tbody>\n",
       "    <tr>\n",
       "      <th>1981</th>\n",
       "      <td>23.41</td>\n",
       "      <td>24.70</td>\n",
       "      <td>25.15</td>\n",
       "      <td>25.30</td>\n",
       "      <td>24.37</td>\n",
       "      <td>24.22</td>\n",
       "      <td>23.03</td>\n",
       "      <td>22.97</td>\n",
       "      <td>23.23</td>\n",
       "      <td>24.20</td>\n",
       "      <td>23.19</td>\n",
       "      <td>23.48</td>\n",
       "    </tr>\n",
       "    <tr>\n",
       "      <th>1982</th>\n",
       "      <td>24.13</td>\n",
       "      <td>23.95</td>\n",
       "      <td>24.55</td>\n",
       "      <td>24.79</td>\n",
       "      <td>24.41</td>\n",
       "      <td>23.71</td>\n",
       "      <td>22.79</td>\n",
       "      <td>22.09</td>\n",
       "      <td>23.30</td>\n",
       "      <td>23.19</td>\n",
       "      <td>23.09</td>\n",
       "      <td>22.98</td>\n",
       "    </tr>\n",
       "    <tr>\n",
       "      <th>1983</th>\n",
       "      <td>20.23</td>\n",
       "      <td>25.94</td>\n",
       "      <td>27.21</td>\n",
       "      <td>26.58</td>\n",
       "      <td>25.03</td>\n",
       "      <td>23.96</td>\n",
       "      <td>22.83</td>\n",
       "      <td>22.18</td>\n",
       "      <td>23.21</td>\n",
       "      <td>24.00</td>\n",
       "      <td>24.29</td>\n",
       "      <td>23.44</td>\n",
       "    </tr>\n",
       "    <tr>\n",
       "      <th>1984</th>\n",
       "      <td>22.33</td>\n",
       "      <td>25.55</td>\n",
       "      <td>25.62</td>\n",
       "      <td>25.18</td>\n",
       "      <td>24.27</td>\n",
       "      <td>23.87</td>\n",
       "      <td>23.11</td>\n",
       "      <td>23.30</td>\n",
       "      <td>23.28</td>\n",
       "      <td>23.92</td>\n",
       "      <td>23.56</td>\n",
       "      <td>22.26</td>\n",
       "    </tr>\n",
       "    <tr>\n",
       "      <th>1985</th>\n",
       "      <td>24.17</td>\n",
       "      <td>24.25</td>\n",
       "      <td>25.39</td>\n",
       "      <td>25.16</td>\n",
       "      <td>24.50</td>\n",
       "      <td>23.51</td>\n",
       "      <td>22.44</td>\n",
       "      <td>22.73</td>\n",
       "      <td>22.94</td>\n",
       "      <td>23.90</td>\n",
       "      <td>24.37</td>\n",
       "      <td>22.71</td>\n",
       "    </tr>\n",
       "    <tr>\n",
       "      <th>1986</th>\n",
       "      <td>24.12</td>\n",
       "      <td>25.01</td>\n",
       "      <td>24.71</td>\n",
       "      <td>25.20</td>\n",
       "      <td>24.65</td>\n",
       "      <td>23.91</td>\n",
       "      <td>22.51</td>\n",
       "      <td>22.59</td>\n",
       "      <td>23.18</td>\n",
       "      <td>23.94</td>\n",
       "      <td>23.88</td>\n",
       "      <td>22.44</td>\n",
       "    </tr>\n",
       "    <tr>\n",
       "      <th>1987</th>\n",
       "      <td>24.62</td>\n",
       "      <td>26.46</td>\n",
       "      <td>25.76</td>\n",
       "      <td>26.83</td>\n",
       "      <td>25.76</td>\n",
       "      <td>24.23</td>\n",
       "      <td>24.14</td>\n",
       "      <td>23.55</td>\n",
       "      <td>23.97</td>\n",
       "      <td>24.47</td>\n",
       "      <td>24.69</td>\n",
       "      <td>24.04</td>\n",
       "    </tr>\n",
       "    <tr>\n",
       "      <th>1988</th>\n",
       "      <td>24.99</td>\n",
       "      <td>26.19</td>\n",
       "      <td>26.04</td>\n",
       "      <td>25.77</td>\n",
       "      <td>25.25</td>\n",
       "      <td>24.00</td>\n",
       "      <td>22.83</td>\n",
       "      <td>22.64</td>\n",
       "      <td>23.33</td>\n",
       "      <td>24.37</td>\n",
       "      <td>24.23</td>\n",
       "      <td>23.25</td>\n",
       "    </tr>\n",
       "    <tr>\n",
       "      <th>1989</th>\n",
       "      <td>20.79</td>\n",
       "      <td>23.30</td>\n",
       "      <td>25.15</td>\n",
       "      <td>25.47</td>\n",
       "      <td>24.62</td>\n",
       "      <td>23.83</td>\n",
       "      <td>23.12</td>\n",
       "      <td>22.93</td>\n",
       "      <td>23.30</td>\n",
       "      <td>23.82</td>\n",
       "      <td>24.39</td>\n",
       "      <td>23.56</td>\n",
       "    </tr>\n",
       "    <tr>\n",
       "      <th>1990</th>\n",
       "      <td>24.41</td>\n",
       "      <td>25.06</td>\n",
       "      <td>26.28</td>\n",
       "      <td>25.53</td>\n",
       "      <td>24.62</td>\n",
       "      <td>24.33</td>\n",
       "      <td>23.09</td>\n",
       "      <td>23.27</td>\n",
       "      <td>23.83</td>\n",
       "      <td>24.24</td>\n",
       "      <td>24.49</td>\n",
       "      <td>24.31</td>\n",
       "    </tr>\n",
       "    <tr>\n",
       "      <th>1991</th>\n",
       "      <td>24.62</td>\n",
       "      <td>26.20</td>\n",
       "      <td>26.47</td>\n",
       "      <td>25.27</td>\n",
       "      <td>24.76</td>\n",
       "      <td>24.23</td>\n",
       "      <td>23.21</td>\n",
       "      <td>22.69</td>\n",
       "      <td>23.81</td>\n",
       "      <td>23.43</td>\n",
       "      <td>24.28</td>\n",
       "      <td>22.94</td>\n",
       "    </tr>\n",
       "    <tr>\n",
       "      <th>1992</th>\n",
       "      <td>22.69</td>\n",
       "      <td>25.32</td>\n",
       "      <td>26.81</td>\n",
       "      <td>25.67</td>\n",
       "      <td>24.75</td>\n",
       "      <td>23.95</td>\n",
       "      <td>22.87</td>\n",
       "      <td>22.51</td>\n",
       "      <td>23.19</td>\n",
       "      <td>23.99</td>\n",
       "      <td>23.12</td>\n",
       "      <td>22.83</td>\n",
       "    </tr>\n",
       "    <tr>\n",
       "      <th>1993</th>\n",
       "      <td>22.65</td>\n",
       "      <td>25.12</td>\n",
       "      <td>25.60</td>\n",
       "      <td>25.82</td>\n",
       "      <td>25.48</td>\n",
       "      <td>24.17</td>\n",
       "      <td>23.08</td>\n",
       "      <td>23.09</td>\n",
       "      <td>23.54</td>\n",
       "      <td>24.36</td>\n",
       "      <td>24.52</td>\n",
       "      <td>23.43</td>\n",
       "    </tr>\n",
       "    <tr>\n",
       "      <th>1994</th>\n",
       "      <td>23.64</td>\n",
       "      <td>25.13</td>\n",
       "      <td>25.44</td>\n",
       "      <td>25.51</td>\n",
       "      <td>24.83</td>\n",
       "      <td>24.15</td>\n",
       "      <td>23.13</td>\n",
       "      <td>23.02</td>\n",
       "      <td>23.30</td>\n",
       "      <td>23.79</td>\n",
       "      <td>23.44</td>\n",
       "      <td>21.37</td>\n",
       "    </tr>\n",
       "    <tr>\n",
       "      <th>1995</th>\n",
       "      <td>23.40</td>\n",
       "      <td>24.76</td>\n",
       "      <td>25.47</td>\n",
       "      <td>25.56</td>\n",
       "      <td>24.83</td>\n",
       "      <td>24.31</td>\n",
       "      <td>23.07</td>\n",
       "      <td>23.22</td>\n",
       "      <td>23.65</td>\n",
       "      <td>24.05</td>\n",
       "      <td>23.32</td>\n",
       "      <td>23.31</td>\n",
       "    </tr>\n",
       "    <tr>\n",
       "      <th>1996</th>\n",
       "      <td>24.41</td>\n",
       "      <td>25.61</td>\n",
       "      <td>25.40</td>\n",
       "      <td>25.42</td>\n",
       "      <td>25.10</td>\n",
       "      <td>24.13</td>\n",
       "      <td>23.03</td>\n",
       "      <td>22.98</td>\n",
       "      <td>23.31</td>\n",
       "      <td>23.60</td>\n",
       "      <td>23.36</td>\n",
       "      <td>23.47</td>\n",
       "    </tr>\n",
       "    <tr>\n",
       "      <th>1997</th>\n",
       "      <td>23.66</td>\n",
       "      <td>23.39</td>\n",
       "      <td>25.51</td>\n",
       "      <td>24.62</td>\n",
       "      <td>24.57</td>\n",
       "      <td>24.21</td>\n",
       "      <td>23.12</td>\n",
       "      <td>23.19</td>\n",
       "      <td>24.26</td>\n",
       "      <td>24.76</td>\n",
       "      <td>24.90</td>\n",
       "      <td>23.76</td>\n",
       "    </tr>\n",
       "    <tr>\n",
       "      <th>1998</th>\n",
       "      <td>23.28</td>\n",
       "      <td>26.48</td>\n",
       "      <td>27.05</td>\n",
       "      <td>26.90</td>\n",
       "      <td>25.91</td>\n",
       "      <td>24.71</td>\n",
       "      <td>23.65</td>\n",
       "      <td>23.11</td>\n",
       "      <td>23.93</td>\n",
       "      <td>24.47</td>\n",
       "      <td>24.65</td>\n",
       "      <td>23.64</td>\n",
       "    </tr>\n",
       "    <tr>\n",
       "      <th>1999</th>\n",
       "      <td>24.30</td>\n",
       "      <td>25.40</td>\n",
       "      <td>25.95</td>\n",
       "      <td>25.83</td>\n",
       "      <td>25.64</td>\n",
       "      <td>24.50</td>\n",
       "      <td>23.15</td>\n",
       "      <td>23.39</td>\n",
       "      <td>23.77</td>\n",
       "      <td>23.94</td>\n",
       "      <td>25.01</td>\n",
       "      <td>25.08</td>\n",
       "    </tr>\n",
       "    <tr>\n",
       "      <th>2000</th>\n",
       "      <td>25.93</td>\n",
       "      <td>26.18</td>\n",
       "      <td>26.62</td>\n",
       "      <td>26.12</td>\n",
       "      <td>26.17</td>\n",
       "      <td>23.89</td>\n",
       "      <td>23.21</td>\n",
       "      <td>23.02</td>\n",
       "      <td>23.53</td>\n",
       "      <td>24.05</td>\n",
       "      <td>24.30</td>\n",
       "      <td>22.55</td>\n",
       "    </tr>\n",
       "    <tr>\n",
       "      <th>2001</th>\n",
       "      <td>22.66</td>\n",
       "      <td>23.86</td>\n",
       "      <td>26.16</td>\n",
       "      <td>25.54</td>\n",
       "      <td>25.01</td>\n",
       "      <td>24.01</td>\n",
       "      <td>23.48</td>\n",
       "      <td>23.08</td>\n",
       "      <td>23.38</td>\n",
       "      <td>24.43</td>\n",
       "      <td>24.79</td>\n",
       "      <td>24.74</td>\n",
       "    </tr>\n",
       "    <tr>\n",
       "      <th>2002</th>\n",
       "      <td>23.76</td>\n",
       "      <td>26.30</td>\n",
       "      <td>26.53</td>\n",
       "      <td>25.90</td>\n",
       "      <td>25.62</td>\n",
       "      <td>24.21</td>\n",
       "      <td>23.93</td>\n",
       "      <td>23.59</td>\n",
       "      <td>24.00</td>\n",
       "      <td>24.09</td>\n",
       "      <td>24.50</td>\n",
       "      <td>23.64</td>\n",
       "    </tr>\n",
       "    <tr>\n",
       "      <th>2003</th>\n",
       "      <td>24.31</td>\n",
       "      <td>26.27</td>\n",
       "      <td>26.37</td>\n",
       "      <td>25.54</td>\n",
       "      <td>25.21</td>\n",
       "      <td>24.23</td>\n",
       "      <td>23.52</td>\n",
       "      <td>23.62</td>\n",
       "      <td>23.88</td>\n",
       "      <td>24.73</td>\n",
       "      <td>24.68</td>\n",
       "      <td>23.51</td>\n",
       "    </tr>\n",
       "    <tr>\n",
       "      <th>2004</th>\n",
       "      <td>24.20</td>\n",
       "      <td>25.30</td>\n",
       "      <td>26.33</td>\n",
       "      <td>25.75</td>\n",
       "      <td>25.10</td>\n",
       "      <td>24.14</td>\n",
       "      <td>23.31</td>\n",
       "      <td>23.58</td>\n",
       "      <td>24.06</td>\n",
       "      <td>24.47</td>\n",
       "      <td>24.56</td>\n",
       "      <td>24.43</td>\n",
       "    </tr>\n",
       "    <tr>\n",
       "      <th>2005</th>\n",
       "      <td>22.75</td>\n",
       "      <td>26.15</td>\n",
       "      <td>26.02</td>\n",
       "      <td>26.29</td>\n",
       "      <td>25.69</td>\n",
       "      <td>24.65</td>\n",
       "      <td>23.87</td>\n",
       "      <td>23.69</td>\n",
       "      <td>24.45</td>\n",
       "      <td>24.61</td>\n",
       "      <td>25.42</td>\n",
       "      <td>25.74</td>\n",
       "    </tr>\n",
       "    <tr>\n",
       "      <th>2006</th>\n",
       "      <td>26.04</td>\n",
       "      <td>26.79</td>\n",
       "      <td>26.36</td>\n",
       "      <td>26.83</td>\n",
       "      <td>25.37</td>\n",
       "      <td>24.88</td>\n",
       "      <td>24.38</td>\n",
       "      <td>23.47</td>\n",
       "      <td>23.77</td>\n",
       "      <td>24.97</td>\n",
       "      <td>24.10</td>\n",
       "      <td>23.56</td>\n",
       "    </tr>\n",
       "    <tr>\n",
       "      <th>2007</th>\n",
       "      <td>22.92</td>\n",
       "      <td>25.85</td>\n",
       "      <td>26.43</td>\n",
       "      <td>25.90</td>\n",
       "      <td>25.41</td>\n",
       "      <td>24.19</td>\n",
       "      <td>23.50</td>\n",
       "      <td>23.21</td>\n",
       "      <td>23.88</td>\n",
       "      <td>24.15</td>\n",
       "      <td>24.60</td>\n",
       "      <td>23.41</td>\n",
       "    </tr>\n",
       "    <tr>\n",
       "      <th>2008</th>\n",
       "      <td>21.95</td>\n",
       "      <td>24.02</td>\n",
       "      <td>25.38</td>\n",
       "      <td>25.62</td>\n",
       "      <td>25.33</td>\n",
       "      <td>24.41</td>\n",
       "      <td>23.59</td>\n",
       "      <td>23.27</td>\n",
       "      <td>23.85</td>\n",
       "      <td>24.51</td>\n",
       "      <td>24.71</td>\n",
       "      <td>24.20</td>\n",
       "    </tr>\n",
       "    <tr>\n",
       "      <th>2009</th>\n",
       "      <td>24.37</td>\n",
       "      <td>25.51</td>\n",
       "      <td>25.98</td>\n",
       "      <td>25.37</td>\n",
       "      <td>24.85</td>\n",
       "      <td>24.23</td>\n",
       "      <td>23.83</td>\n",
       "      <td>23.65</td>\n",
       "      <td>24.15</td>\n",
       "      <td>24.30</td>\n",
       "      <td>24.04</td>\n",
       "      <td>24.25</td>\n",
       "    </tr>\n",
       "    <tr>\n",
       "      <th>2010</th>\n",
       "      <td>24.83</td>\n",
       "      <td>26.12</td>\n",
       "      <td>26.37</td>\n",
       "      <td>26.15</td>\n",
       "      <td>25.56</td>\n",
       "      <td>24.59</td>\n",
       "      <td>23.55</td>\n",
       "      <td>23.71</td>\n",
       "      <td>23.88</td>\n",
       "      <td>24.23</td>\n",
       "      <td>24.80</td>\n",
       "      <td>23.68</td>\n",
       "    </tr>\n",
       "    <tr>\n",
       "      <th>2011</th>\n",
       "      <td>23.24</td>\n",
       "      <td>24.88</td>\n",
       "      <td>25.81</td>\n",
       "      <td>25.44</td>\n",
       "      <td>25.01</td>\n",
       "      <td>24.40</td>\n",
       "      <td>23.72</td>\n",
       "      <td>23.33</td>\n",
       "      <td>23.80</td>\n",
       "      <td>24.28</td>\n",
       "      <td>24.32</td>\n",
       "      <td>22.78</td>\n",
       "    </tr>\n",
       "    <tr>\n",
       "      <th>2012</th>\n",
       "      <td>23.63</td>\n",
       "      <td>25.38</td>\n",
       "      <td>25.66</td>\n",
       "      <td>25.28</td>\n",
       "      <td>24.64</td>\n",
       "      <td>23.92</td>\n",
       "      <td>23.36</td>\n",
       "      <td>23.17</td>\n",
       "      <td>23.62</td>\n",
       "      <td>24.24</td>\n",
       "      <td>24.67</td>\n",
       "      <td>23.55</td>\n",
       "    </tr>\n",
       "    <tr>\n",
       "      <th>2013</th>\n",
       "      <td>24.05</td>\n",
       "      <td>24.87</td>\n",
       "      <td>25.50</td>\n",
       "      <td>25.41</td>\n",
       "      <td>24.76</td>\n",
       "      <td>24.14</td>\n",
       "      <td>23.38</td>\n",
       "      <td>23.19</td>\n",
       "      <td>23.90</td>\n",
       "      <td>24.48</td>\n",
       "      <td>24.55</td>\n",
       "      <td>23.94</td>\n",
       "    </tr>\n",
       "    <tr>\n",
       "      <th>2014</th>\n",
       "      <td>24.87</td>\n",
       "      <td>25.80</td>\n",
       "      <td>25.77</td>\n",
       "      <td>25.46</td>\n",
       "      <td>25.25</td>\n",
       "      <td>24.73</td>\n",
       "      <td>24.08</td>\n",
       "      <td>23.40</td>\n",
       "      <td>23.79</td>\n",
       "      <td>24.48</td>\n",
       "      <td>24.67</td>\n",
       "      <td>24.33</td>\n",
       "    </tr>\n",
       "    <tr>\n",
       "      <th>2015</th>\n",
       "      <td>23.61</td>\n",
       "      <td>26.05</td>\n",
       "      <td>25.98</td>\n",
       "      <td>25.96</td>\n",
       "      <td>25.37</td>\n",
       "      <td>24.47</td>\n",
       "      <td>24.17</td>\n",
       "      <td>23.98</td>\n",
       "      <td>24.14</td>\n",
       "      <td>24.80</td>\n",
       "      <td>25.19</td>\n",
       "      <td>23.20</td>\n",
       "    </tr>\n",
       "    <tr>\n",
       "      <th>2016</th>\n",
       "      <td>24.87</td>\n",
       "      <td>27.19</td>\n",
       "      <td>27.06</td>\n",
       "      <td>26.71</td>\n",
       "      <td>25.40</td>\n",
       "      <td>24.29</td>\n",
       "      <td>23.80</td>\n",
       "      <td>23.83</td>\n",
       "      <td>24.01</td>\n",
       "      <td>24.78</td>\n",
       "      <td>25.26</td>\n",
       "      <td>24.30</td>\n",
       "    </tr>\n",
       "    <tr>\n",
       "      <th>2017</th>\n",
       "      <td>24.62</td>\n",
       "      <td>25.47</td>\n",
       "      <td>26.40</td>\n",
       "      <td>25.88</td>\n",
       "      <td>25.29</td>\n",
       "      <td>24.63</td>\n",
       "      <td>23.81</td>\n",
       "      <td>23.59</td>\n",
       "      <td>24.09</td>\n",
       "      <td>24.84</td>\n",
       "      <td>24.68</td>\n",
       "      <td>24.26</td>\n",
       "    </tr>\n",
       "    <tr>\n",
       "      <th>2018</th>\n",
       "      <td>22.92</td>\n",
       "      <td>25.51</td>\n",
       "      <td>25.89</td>\n",
       "      <td>25.67</td>\n",
       "      <td>25.04</td>\n",
       "      <td>24.13</td>\n",
       "      <td>23.76</td>\n",
       "      <td>23.46</td>\n",
       "      <td>23.99</td>\n",
       "      <td>24.66</td>\n",
       "      <td>25.02</td>\n",
       "      <td>23.73</td>\n",
       "    </tr>\n",
       "    <tr>\n",
       "      <th>2019</th>\n",
       "      <td>24.37</td>\n",
       "      <td>24.69</td>\n",
       "      <td>25.58</td>\n",
       "      <td>26.03</td>\n",
       "      <td>25.25</td>\n",
       "      <td>24.61</td>\n",
       "      <td>24.04</td>\n",
       "      <td>23.67</td>\n",
       "      <td>24.03</td>\n",
       "      <td>23.90</td>\n",
       "      <td>25.35</td>\n",
       "      <td>24.12</td>\n",
       "    </tr>\n",
       "    <tr>\n",
       "      <th>2020</th>\n",
       "      <td>23.02</td>\n",
       "      <td>24.73</td>\n",
       "      <td>25.99</td>\n",
       "      <td>25.62</td>\n",
       "      <td>25.44</td>\n",
       "      <td>24.33</td>\n",
       "      <td>23.40</td>\n",
       "      <td>23.11</td>\n",
       "      <td>23.65</td>\n",
       "      <td>24.58</td>\n",
       "      <td>24.78</td>\n",
       "      <td>24.68</td>\n",
       "    </tr>\n",
       "    <tr>\n",
       "      <th>2021</th>\n",
       "      <td>24.62</td>\n",
       "      <td>25.58</td>\n",
       "      <td>25.71</td>\n",
       "      <td>25.58</td>\n",
       "      <td>25.20</td>\n",
       "      <td>24.51</td>\n",
       "      <td>23.75</td>\n",
       "      <td>23.53</td>\n",
       "      <td>23.93</td>\n",
       "      <td>24.76</td>\n",
       "      <td>25.07</td>\n",
       "      <td>23.75</td>\n",
       "    </tr>\n",
       "  </tbody>\n",
       "</table>\n",
       "</div>"
      ],
      "text/plain": [
       "        Jan    Feb    Mar    Apr    May    Jun    Jul    Aug    Sep    Oct  \\\n",
       "Year                                                                         \n",
       "1981  23.41  24.70  25.15  25.30  24.37  24.22  23.03  22.97  23.23  24.20   \n",
       "1982  24.13  23.95  24.55  24.79  24.41  23.71  22.79  22.09  23.30  23.19   \n",
       "1983  20.23  25.94  27.21  26.58  25.03  23.96  22.83  22.18  23.21  24.00   \n",
       "1984  22.33  25.55  25.62  25.18  24.27  23.87  23.11  23.30  23.28  23.92   \n",
       "1985  24.17  24.25  25.39  25.16  24.50  23.51  22.44  22.73  22.94  23.90   \n",
       "1986  24.12  25.01  24.71  25.20  24.65  23.91  22.51  22.59  23.18  23.94   \n",
       "1987  24.62  26.46  25.76  26.83  25.76  24.23  24.14  23.55  23.97  24.47   \n",
       "1988  24.99  26.19  26.04  25.77  25.25  24.00  22.83  22.64  23.33  24.37   \n",
       "1989  20.79  23.30  25.15  25.47  24.62  23.83  23.12  22.93  23.30  23.82   \n",
       "1990  24.41  25.06  26.28  25.53  24.62  24.33  23.09  23.27  23.83  24.24   \n",
       "1991  24.62  26.20  26.47  25.27  24.76  24.23  23.21  22.69  23.81  23.43   \n",
       "1992  22.69  25.32  26.81  25.67  24.75  23.95  22.87  22.51  23.19  23.99   \n",
       "1993  22.65  25.12  25.60  25.82  25.48  24.17  23.08  23.09  23.54  24.36   \n",
       "1994  23.64  25.13  25.44  25.51  24.83  24.15  23.13  23.02  23.30  23.79   \n",
       "1995  23.40  24.76  25.47  25.56  24.83  24.31  23.07  23.22  23.65  24.05   \n",
       "1996  24.41  25.61  25.40  25.42  25.10  24.13  23.03  22.98  23.31  23.60   \n",
       "1997  23.66  23.39  25.51  24.62  24.57  24.21  23.12  23.19  24.26  24.76   \n",
       "1998  23.28  26.48  27.05  26.90  25.91  24.71  23.65  23.11  23.93  24.47   \n",
       "1999  24.30  25.40  25.95  25.83  25.64  24.50  23.15  23.39  23.77  23.94   \n",
       "2000  25.93  26.18  26.62  26.12  26.17  23.89  23.21  23.02  23.53  24.05   \n",
       "2001  22.66  23.86  26.16  25.54  25.01  24.01  23.48  23.08  23.38  24.43   \n",
       "2002  23.76  26.30  26.53  25.90  25.62  24.21  23.93  23.59  24.00  24.09   \n",
       "2003  24.31  26.27  26.37  25.54  25.21  24.23  23.52  23.62  23.88  24.73   \n",
       "2004  24.20  25.30  26.33  25.75  25.10  24.14  23.31  23.58  24.06  24.47   \n",
       "2005  22.75  26.15  26.02  26.29  25.69  24.65  23.87  23.69  24.45  24.61   \n",
       "2006  26.04  26.79  26.36  26.83  25.37  24.88  24.38  23.47  23.77  24.97   \n",
       "2007  22.92  25.85  26.43  25.90  25.41  24.19  23.50  23.21  23.88  24.15   \n",
       "2008  21.95  24.02  25.38  25.62  25.33  24.41  23.59  23.27  23.85  24.51   \n",
       "2009  24.37  25.51  25.98  25.37  24.85  24.23  23.83  23.65  24.15  24.30   \n",
       "2010  24.83  26.12  26.37  26.15  25.56  24.59  23.55  23.71  23.88  24.23   \n",
       "2011  23.24  24.88  25.81  25.44  25.01  24.40  23.72  23.33  23.80  24.28   \n",
       "2012  23.63  25.38  25.66  25.28  24.64  23.92  23.36  23.17  23.62  24.24   \n",
       "2013  24.05  24.87  25.50  25.41  24.76  24.14  23.38  23.19  23.90  24.48   \n",
       "2014  24.87  25.80  25.77  25.46  25.25  24.73  24.08  23.40  23.79  24.48   \n",
       "2015  23.61  26.05  25.98  25.96  25.37  24.47  24.17  23.98  24.14  24.80   \n",
       "2016  24.87  27.19  27.06  26.71  25.40  24.29  23.80  23.83  24.01  24.78   \n",
       "2017  24.62  25.47  26.40  25.88  25.29  24.63  23.81  23.59  24.09  24.84   \n",
       "2018  22.92  25.51  25.89  25.67  25.04  24.13  23.76  23.46  23.99  24.66   \n",
       "2019  24.37  24.69  25.58  26.03  25.25  24.61  24.04  23.67  24.03  23.90   \n",
       "2020  23.02  24.73  25.99  25.62  25.44  24.33  23.40  23.11  23.65  24.58   \n",
       "2021  24.62  25.58  25.71  25.58  25.20  24.51  23.75  23.53  23.93  24.76   \n",
       "\n",
       "        Nov    Dec  \n",
       "Year                \n",
       "1981  23.19  23.48  \n",
       "1982  23.09  22.98  \n",
       "1983  24.29  23.44  \n",
       "1984  23.56  22.26  \n",
       "1985  24.37  22.71  \n",
       "1986  23.88  22.44  \n",
       "1987  24.69  24.04  \n",
       "1988  24.23  23.25  \n",
       "1989  24.39  23.56  \n",
       "1990  24.49  24.31  \n",
       "1991  24.28  22.94  \n",
       "1992  23.12  22.83  \n",
       "1993  24.52  23.43  \n",
       "1994  23.44  21.37  \n",
       "1995  23.32  23.31  \n",
       "1996  23.36  23.47  \n",
       "1997  24.90  23.76  \n",
       "1998  24.65  23.64  \n",
       "1999  25.01  25.08  \n",
       "2000  24.30  22.55  \n",
       "2001  24.79  24.74  \n",
       "2002  24.50  23.64  \n",
       "2003  24.68  23.51  \n",
       "2004  24.56  24.43  \n",
       "2005  25.42  25.74  \n",
       "2006  24.10  23.56  \n",
       "2007  24.60  23.41  \n",
       "2008  24.71  24.20  \n",
       "2009  24.04  24.25  \n",
       "2010  24.80  23.68  \n",
       "2011  24.32  22.78  \n",
       "2012  24.67  23.55  \n",
       "2013  24.55  23.94  \n",
       "2014  24.67  24.33  \n",
       "2015  25.19  23.20  \n",
       "2016  25.26  24.30  \n",
       "2017  24.68  24.26  \n",
       "2018  25.02  23.73  \n",
       "2019  25.35  24.12  \n",
       "2020  24.78  24.68  \n",
       "2021  25.07  23.75  "
      ]
     },
     "execution_count": 8,
     "metadata": {},
     "output_type": "execute_result"
    }
   ],
   "source": [
    "temp.loc[:,\"Jan\":\"Dec\"]"
   ]
  },
  {
   "cell_type": "code",
   "execution_count": 9,
   "id": "dd99c6b1",
   "metadata": {},
   "outputs": [
    {
     "data": {
      "text/html": [
       "<div>\n",
       "<style scoped>\n",
       "    .dataframe tbody tr th:only-of-type {\n",
       "        vertical-align: middle;\n",
       "    }\n",
       "\n",
       "    .dataframe tbody tr th {\n",
       "        vertical-align: top;\n",
       "    }\n",
       "\n",
       "    .dataframe thead th {\n",
       "        text-align: right;\n",
       "    }\n",
       "</style>\n",
       "<table border=\"1\" class=\"dataframe\">\n",
       "  <thead>\n",
       "    <tr style=\"text-align: right;\">\n",
       "      <th></th>\n",
       "      <th>Jan</th>\n",
       "      <th>Feb</th>\n",
       "      <th>Mar</th>\n",
       "      <th>Apr</th>\n",
       "      <th>May</th>\n",
       "      <th>Jun</th>\n",
       "      <th>Jul</th>\n",
       "      <th>Aug</th>\n",
       "      <th>Sep</th>\n",
       "      <th>Oct</th>\n",
       "      <th>Nov</th>\n",
       "      <th>Dec</th>\n",
       "      <th>Annual</th>\n",
       "      <th>Parameter</th>\n",
       "    </tr>\n",
       "    <tr>\n",
       "      <th>Year</th>\n",
       "      <th></th>\n",
       "      <th></th>\n",
       "      <th></th>\n",
       "      <th></th>\n",
       "      <th></th>\n",
       "      <th></th>\n",
       "      <th></th>\n",
       "      <th></th>\n",
       "      <th></th>\n",
       "      <th></th>\n",
       "      <th></th>\n",
       "      <th></th>\n",
       "      <th></th>\n",
       "      <th></th>\n",
       "    </tr>\n",
       "  </thead>\n",
       "  <tbody>\n",
       "    <tr>\n",
       "      <th>1981</th>\n",
       "      <td>72.19</td>\n",
       "      <td>72.75</td>\n",
       "      <td>81.62</td>\n",
       "      <td>86.75</td>\n",
       "      <td>89.12</td>\n",
       "      <td>89.62</td>\n",
       "      <td>90.00</td>\n",
       "      <td>89.38</td>\n",
       "      <td>89.56</td>\n",
       "      <td>89.06</td>\n",
       "      <td>79.25</td>\n",
       "      <td>70.44</td>\n",
       "      <td>83.38</td>\n",
       "      <td>RH2M</td>\n",
       "    </tr>\n",
       "    <tr>\n",
       "      <th>1982</th>\n",
       "      <td>73.19</td>\n",
       "      <td>74.12</td>\n",
       "      <td>80.81</td>\n",
       "      <td>88.31</td>\n",
       "      <td>89.44</td>\n",
       "      <td>90.81</td>\n",
       "      <td>89.50</td>\n",
       "      <td>89.25</td>\n",
       "      <td>89.31</td>\n",
       "      <td>90.12</td>\n",
       "      <td>79.50</td>\n",
       "      <td>71.88</td>\n",
       "      <td>83.88</td>\n",
       "      <td>RH2M</td>\n",
       "    </tr>\n",
       "    <tr>\n",
       "      <th>1983</th>\n",
       "      <td>61.38</td>\n",
       "      <td>69.38</td>\n",
       "      <td>63.62</td>\n",
       "      <td>79.38</td>\n",
       "      <td>87.62</td>\n",
       "      <td>89.62</td>\n",
       "      <td>89.62</td>\n",
       "      <td>90.00</td>\n",
       "      <td>89.56</td>\n",
       "      <td>86.44</td>\n",
       "      <td>80.50</td>\n",
       "      <td>78.50</td>\n",
       "      <td>80.50</td>\n",
       "      <td>RH2M</td>\n",
       "    </tr>\n",
       "    <tr>\n",
       "      <th>1984</th>\n",
       "      <td>60.25</td>\n",
       "      <td>68.44</td>\n",
       "      <td>80.81</td>\n",
       "      <td>84.31</td>\n",
       "      <td>88.94</td>\n",
       "      <td>89.00</td>\n",
       "      <td>89.38</td>\n",
       "      <td>88.56</td>\n",
       "      <td>89.50</td>\n",
       "      <td>88.94</td>\n",
       "      <td>81.12</td>\n",
       "      <td>67.81</td>\n",
       "      <td>81.44</td>\n",
       "      <td>RH2M</td>\n",
       "    </tr>\n",
       "    <tr>\n",
       "      <th>1985</th>\n",
       "      <td>77.12</td>\n",
       "      <td>60.88</td>\n",
       "      <td>78.44</td>\n",
       "      <td>83.50</td>\n",
       "      <td>87.50</td>\n",
       "      <td>88.12</td>\n",
       "      <td>89.81</td>\n",
       "      <td>90.31</td>\n",
       "      <td>90.12</td>\n",
       "      <td>87.19</td>\n",
       "      <td>84.00</td>\n",
       "      <td>69.25</td>\n",
       "      <td>82.31</td>\n",
       "      <td>RH2M</td>\n",
       "    </tr>\n",
       "  </tbody>\n",
       "</table>\n",
       "</div>"
      ],
      "text/plain": [
       "        Jan    Feb    Mar    Apr    May    Jun    Jul    Aug    Sep    Oct  \\\n",
       "Year                                                                         \n",
       "1981  72.19  72.75  81.62  86.75  89.12  89.62  90.00  89.38  89.56  89.06   \n",
       "1982  73.19  74.12  80.81  88.31  89.44  90.81  89.50  89.25  89.31  90.12   \n",
       "1983  61.38  69.38  63.62  79.38  87.62  89.62  89.62  90.00  89.56  86.44   \n",
       "1984  60.25  68.44  80.81  84.31  88.94  89.00  89.38  88.56  89.50  88.94   \n",
       "1985  77.12  60.88  78.44  83.50  87.50  88.12  89.81  90.31  90.12  87.19   \n",
       "\n",
       "        Nov    Dec  Annual Parameter  \n",
       "Year                                  \n",
       "1981  79.25  70.44   83.38      RH2M  \n",
       "1982  79.50  71.88   83.88      RH2M  \n",
       "1983  80.50  78.50   80.50      RH2M  \n",
       "1984  81.12  67.81   81.44      RH2M  \n",
       "1985  84.00  69.25   82.31      RH2M  "
      ]
     },
     "execution_count": 9,
     "metadata": {},
     "output_type": "execute_result"
    }
   ],
   "source": [
    "r_humididty.head()"
   ]
  },
  {
   "cell_type": "code",
   "execution_count": 10,
   "id": "55d17484",
   "metadata": {},
   "outputs": [
    {
     "data": {
      "text/plain": [
       "83.61416666666666"
      ]
     },
     "execution_count": 10,
     "metadata": {},
     "output_type": "execute_result"
    }
   ],
   "source": [
    "r_humididty.loc[2020,\"Jan\":\"Dec\"].mean()\n"
   ]
  },
  {
   "cell_type": "markdown",
   "id": "4fb02893",
   "metadata": {},
   "source": [
    "### Creating  New Dataframe"
   ]
  },
  {
   "cell_type": "code",
   "execution_count": 11,
   "id": "7d9b1f43",
   "metadata": {},
   "outputs": [],
   "source": [
    "d={\"Year\":[x for x in range(1981,2022)]}\n",
    "new_df= pd.DataFrame(d)"
   ]
  },
  {
   "cell_type": "markdown",
   "id": "1d2b20b3",
   "metadata": {},
   "source": [
    "Setting year as index"
   ]
  },
  {
   "cell_type": "code",
   "execution_count": 12,
   "id": "b1c55f68",
   "metadata": {},
   "outputs": [],
   "source": [
    "new_df.set_index(\"Year\", inplace=True)"
   ]
  },
  {
   "cell_type": "markdown",
   "id": "33c2e056",
   "metadata": {},
   "source": [
    "#### Creating Annual Temperature column"
   ]
  },
  {
   "cell_type": "code",
   "execution_count": 13,
   "id": "74f90a42",
   "metadata": {},
   "outputs": [],
   "source": [
    "new_df[\"Annual_temp\"]= list(temp[\"Annual\"])"
   ]
  },
  {
   "cell_type": "markdown",
   "id": "50ef6dce",
   "metadata": {},
   "source": [
    "#### Creating Annual Relative Humidity column"
   ]
  },
  {
   "cell_type": "code",
   "execution_count": 14,
   "id": "537a0d9a",
   "metadata": {},
   "outputs": [],
   "source": [
    "new_df[\"Annual_RH\"]= list(r_humididty[\"Annual\"])"
   ]
  },
  {
   "cell_type": "markdown",
   "id": "5227e7e7",
   "metadata": {},
   "source": [
    "Converting column data type "
   ]
  },
  {
   "cell_type": "code",
   "execution_count": 15,
   "id": "2cbb0750",
   "metadata": {},
   "outputs": [],
   "source": [
    "new_df[\"Annual_temp\"]=new_df[\"Annual_temp\"].astype(float) "
   ]
  },
  {
   "cell_type": "code",
   "execution_count": 16,
   "id": "535537b9",
   "metadata": {},
   "outputs": [],
   "source": [
    "new_df[\"Annual_RH\"]=new_df[\"Annual_RH\"].astype(float) "
   ]
  },
  {
   "cell_type": "markdown",
   "id": "14ba8c13",
   "metadata": {},
   "source": [
    "We have several terms used\n",
    "\n",
    "- Temperature= T\n",
    "- Relative humidity= H\n",
    "- Effective temperature = ET\n",
    "- Temperature–humidity index= THI\n",
    "- Relative strain index = RSI."
   ]
  },
  {
   "cell_type": "markdown",
   "id": "9dcf766f",
   "metadata": {},
   "source": [
    "#### Calculating Annual Effective Temperature  column"
   ]
  },
  {
   "cell_type": "markdown",
   "id": "d0fdc064",
   "metadata": {},
   "source": [
    "Effective Temperature =\n",
    "$ ET = T - (0.4\\times (T-10)\\times(1-\\frac{H}{500})$"
   ]
  },
  {
   "cell_type": "code",
   "execution_count": 17,
   "id": "1c3abe8d",
   "metadata": {},
   "outputs": [],
   "source": [
    "formular= new_df[\"Annual_temp\"]-((0.4*(new_df[\"Annual_temp\"]-10))*(1-(new_df[\"Annual_RH\"]/500)))\n",
    "formular = round(formular,2)\n",
    "new_df=new_df.assign(Annual_ET= formular)"
   ]
  },
  {
   "cell_type": "markdown",
   "id": "a77120c4",
   "metadata": {},
   "source": [
    "#### Calculating Temperature-humidity index "
   ]
  },
  {
   "cell_type": "markdown",
   "id": "f0c9ee04",
   "metadata": {},
   "source": [
    "Temperature-humidity index = \n",
    "$THI = 0.8 + \\frac{HT}{100}$"
   ]
  },
  {
   "cell_type": "code",
   "execution_count": 18,
   "id": "5998666e",
   "metadata": {},
   "outputs": [],
   "source": [
    "formular=  0.8 +((new_df[\"Annual_RH\"]*new_df[\"Annual_temp\"])/100)\n",
    "formular= round(formular,2)\n",
    "new_df=new_df.assign(Annual_THI= formular)"
   ]
  },
  {
   "cell_type": "markdown",
   "id": "c162ae80",
   "metadata": {},
   "source": [
    "#### Calculating Vapour Pressure "
   ]
  },
  {
   "cell_type": "markdown",
   "id": "6e87bfe3",
   "metadata": {},
   "source": [
    "Vapour Pressure= \n",
    "$6.11\\times 10^{\\frac{7.5T}{23.7}+T}$"
   ]
  },
  {
   "cell_type": "code",
   "execution_count": 19,
   "id": "5e5ff50a",
   "metadata": {},
   "outputs": [],
   "source": [
    "formular=  6.11 * 10**(((7.5*new_df[\"Annual_temp\"]))/(237.7+new_df[\"Annual_temp\"]))\n",
    "formular= round(formular,2)\n",
    "\n",
    "new_df=new_df.assign(Annual_VP= formular )"
   ]
  },
  {
   "cell_type": "markdown",
   "id": "704b53ff",
   "metadata": {},
   "source": [
    "#### Calculating Relative strain index"
   ]
  },
  {
   "cell_type": "markdown",
   "id": "0316b123",
   "metadata": {},
   "source": [
    "Relative strain index = \n",
    "$\\frac{10.7+0.74\\times(T-35)}{44-0.0075\\times HV}$"
   ]
  },
  {
   "cell_type": "code",
   "execution_count": 20,
   "id": "b47eb0ab",
   "metadata": {},
   "outputs": [],
   "source": [
    "formular= (10.7+(0.74*(new_df[\"Annual_temp\"]-35))) / (44-(0.0075*new_df[\"Annual_temp\"]*new_df[\"Annual_VP\"]))\n",
    "\n",
    "formular= round(formular, 2)\n",
    "\n",
    "new_df=new_df.assign(Annual_RSI=  formular )"
   ]
  },
  {
   "cell_type": "code",
   "execution_count": 21,
   "id": "3d7f0c24",
   "metadata": {},
   "outputs": [
    {
     "name": "stdout",
     "output_type": "stream",
     "text": [
      "<class 'pandas.core.frame.DataFrame'>\n",
      "Int64Index: 41 entries, 1981 to 2021\n",
      "Data columns (total 6 columns):\n",
      " #   Column       Non-Null Count  Dtype  \n",
      "---  ------       --------------  -----  \n",
      " 0   Annual_temp  41 non-null     float64\n",
      " 1   Annual_RH    41 non-null     float64\n",
      " 2   Annual_ET    41 non-null     float64\n",
      " 3   Annual_THI   41 non-null     float64\n",
      " 4   Annual_VP    41 non-null     float64\n",
      " 5   Annual_RSI   41 non-null     float64\n",
      "dtypes: float64(6)\n",
      "memory usage: 2.2 KB\n"
     ]
    }
   ],
   "source": [
    "new_df.info()"
   ]
  },
  {
   "cell_type": "code",
   "execution_count": 22,
   "id": "8130e308",
   "metadata": {},
   "outputs": [
    {
     "data": {
      "text/html": [
       "<div>\n",
       "<style scoped>\n",
       "    .dataframe tbody tr th:only-of-type {\n",
       "        vertical-align: middle;\n",
       "    }\n",
       "\n",
       "    .dataframe tbody tr th {\n",
       "        vertical-align: top;\n",
       "    }\n",
       "\n",
       "    .dataframe thead th {\n",
       "        text-align: right;\n",
       "    }\n",
       "</style>\n",
       "<table border=\"1\" class=\"dataframe\">\n",
       "  <thead>\n",
       "    <tr style=\"text-align: right;\">\n",
       "      <th></th>\n",
       "      <th>Annual_temp</th>\n",
       "      <th>Annual_RH</th>\n",
       "      <th>Annual_ET</th>\n",
       "      <th>Annual_THI</th>\n",
       "      <th>Annual_VP</th>\n",
       "      <th>Annual_RSI</th>\n",
       "    </tr>\n",
       "  </thead>\n",
       "  <tbody>\n",
       "    <tr>\n",
       "      <th>count</th>\n",
       "      <td>41.000000</td>\n",
       "      <td>41.000000</td>\n",
       "      <td>41.000000</td>\n",
       "      <td>41.000000</td>\n",
       "      <td>41.000000</td>\n",
       "      <td>41.000000</td>\n",
       "    </tr>\n",
       "    <tr>\n",
       "      <th>mean</th>\n",
       "      <td>24.385854</td>\n",
       "      <td>83.006829</td>\n",
       "      <td>19.586829</td>\n",
       "      <td>21.041707</td>\n",
       "      <td>30.476341</td>\n",
       "      <td>0.074146</td>\n",
       "    </tr>\n",
       "    <tr>\n",
       "      <th>std</th>\n",
       "      <td>0.381051</td>\n",
       "      <td>1.612996</td>\n",
       "      <td>0.253805</td>\n",
       "      <td>0.498958</td>\n",
       "      <td>0.692339</td>\n",
       "      <td>0.008653</td>\n",
       "    </tr>\n",
       "    <tr>\n",
       "      <th>min</th>\n",
       "      <td>23.580000</td>\n",
       "      <td>78.560000</td>\n",
       "      <td>19.060000</td>\n",
       "      <td>20.050000</td>\n",
       "      <td>29.030000</td>\n",
       "      <td>0.060000</td>\n",
       "    </tr>\n",
       "    <tr>\n",
       "      <th>25%</th>\n",
       "      <td>24.150000</td>\n",
       "      <td>81.940000</td>\n",
       "      <td>19.440000</td>\n",
       "      <td>20.760000</td>\n",
       "      <td>30.040000</td>\n",
       "      <td>0.070000</td>\n",
       "    </tr>\n",
       "    <tr>\n",
       "      <th>50%</th>\n",
       "      <td>24.440000</td>\n",
       "      <td>83.060000</td>\n",
       "      <td>19.620000</td>\n",
       "      <td>21.090000</td>\n",
       "      <td>30.570000</td>\n",
       "      <td>0.080000</td>\n",
       "    </tr>\n",
       "    <tr>\n",
       "      <th>75%</th>\n",
       "      <td>24.650000</td>\n",
       "      <td>84.190000</td>\n",
       "      <td>19.780000</td>\n",
       "      <td>21.370000</td>\n",
       "      <td>30.950000</td>\n",
       "      <td>0.080000</td>\n",
       "    </tr>\n",
       "    <tr>\n",
       "      <th>max</th>\n",
       "      <td>25.120000</td>\n",
       "      <td>85.940000</td>\n",
       "      <td>20.050000</td>\n",
       "      <td>21.880000</td>\n",
       "      <td>31.830000</td>\n",
       "      <td>0.090000</td>\n",
       "    </tr>\n",
       "  </tbody>\n",
       "</table>\n",
       "</div>"
      ],
      "text/plain": [
       "       Annual_temp  Annual_RH  Annual_ET  Annual_THI  Annual_VP  Annual_RSI\n",
       "count    41.000000  41.000000  41.000000   41.000000  41.000000   41.000000\n",
       "mean     24.385854  83.006829  19.586829   21.041707  30.476341    0.074146\n",
       "std       0.381051   1.612996   0.253805    0.498958   0.692339    0.008653\n",
       "min      23.580000  78.560000  19.060000   20.050000  29.030000    0.060000\n",
       "25%      24.150000  81.940000  19.440000   20.760000  30.040000    0.070000\n",
       "50%      24.440000  83.060000  19.620000   21.090000  30.570000    0.080000\n",
       "75%      24.650000  84.190000  19.780000   21.370000  30.950000    0.080000\n",
       "max      25.120000  85.940000  20.050000   21.880000  31.830000    0.090000"
      ]
     },
     "execution_count": 22,
     "metadata": {},
     "output_type": "execute_result"
    }
   ],
   "source": [
    "new_df.describe()"
   ]
  },
  {
   "cell_type": "markdown",
   "id": "c08b7485",
   "metadata": {},
   "source": [
    "#### Renaming Columns"
   ]
  },
  {
   "cell_type": "code",
   "execution_count": 23,
   "id": "231f9f4a",
   "metadata": {},
   "outputs": [],
   "source": [
    "new_df.rename(columns={\"Annual_temp\":\"Mean Temperature (◦C)\",\n",
    "                  \"Annual_RH\":\"Mean Relative Humidity (%)\",\n",
    "                  \"Annual_ET\":\"ET (◦C)\",\n",
    "                  \"Annual_THI\":\"THI (◦C)\",\n",
    "                  \"Annual_RSI\":\"RSI (ratio)\"}, inplace=True)"
   ]
  },
  {
   "cell_type": "code",
   "execution_count": 24,
   "id": "f98af9e7",
   "metadata": {},
   "outputs": [
    {
     "data": {
      "text/html": [
       "<div>\n",
       "<style scoped>\n",
       "    .dataframe tbody tr th:only-of-type {\n",
       "        vertical-align: middle;\n",
       "    }\n",
       "\n",
       "    .dataframe tbody tr th {\n",
       "        vertical-align: top;\n",
       "    }\n",
       "\n",
       "    .dataframe thead th {\n",
       "        text-align: right;\n",
       "    }\n",
       "</style>\n",
       "<table border=\"1\" class=\"dataframe\">\n",
       "  <thead>\n",
       "    <tr style=\"text-align: right;\">\n",
       "      <th></th>\n",
       "      <th>Mean Temperature (◦C)</th>\n",
       "      <th>Mean Relative Humidity (%)</th>\n",
       "      <th>ET (◦C)</th>\n",
       "      <th>THI (◦C)</th>\n",
       "      <th>Annual_VP</th>\n",
       "      <th>RSI (ratio)</th>\n",
       "    </tr>\n",
       "    <tr>\n",
       "      <th>Year</th>\n",
       "      <th></th>\n",
       "      <th></th>\n",
       "      <th></th>\n",
       "      <th></th>\n",
       "      <th></th>\n",
       "      <th></th>\n",
       "    </tr>\n",
       "  </thead>\n",
       "  <tbody>\n",
       "    <tr>\n",
       "      <th>1981</th>\n",
       "      <td>23.93</td>\n",
       "      <td>83.38</td>\n",
       "      <td>19.29</td>\n",
       "      <td>20.75</td>\n",
       "      <td>29.65</td>\n",
       "      <td>0.06</td>\n",
       "    </tr>\n",
       "    <tr>\n",
       "      <th>1982</th>\n",
       "      <td>23.58</td>\n",
       "      <td>83.88</td>\n",
       "      <td>19.06</td>\n",
       "      <td>20.58</td>\n",
       "      <td>29.03</td>\n",
       "      <td>0.06</td>\n",
       "    </tr>\n",
       "    <tr>\n",
       "      <th>1983</th>\n",
       "      <td>24.05</td>\n",
       "      <td>80.50</td>\n",
       "      <td>19.33</td>\n",
       "      <td>20.16</td>\n",
       "      <td>29.86</td>\n",
       "      <td>0.07</td>\n",
       "    </tr>\n",
       "    <tr>\n",
       "      <th>1984</th>\n",
       "      <td>23.84</td>\n",
       "      <td>81.44</td>\n",
       "      <td>19.21</td>\n",
       "      <td>20.22</td>\n",
       "      <td>29.49</td>\n",
       "      <td>0.06</td>\n",
       "    </tr>\n",
       "    <tr>\n",
       "      <th>1985</th>\n",
       "      <td>23.83</td>\n",
       "      <td>82.31</td>\n",
       "      <td>19.21</td>\n",
       "      <td>20.41</td>\n",
       "      <td>29.47</td>\n",
       "      <td>0.06</td>\n",
       "    </tr>\n",
       "    <tr>\n",
       "      <th>1986</th>\n",
       "      <td>23.83</td>\n",
       "      <td>82.38</td>\n",
       "      <td>19.21</td>\n",
       "      <td>20.43</td>\n",
       "      <td>29.47</td>\n",
       "      <td>0.06</td>\n",
       "    </tr>\n",
       "    <tr>\n",
       "      <th>1987</th>\n",
       "      <td>24.87</td>\n",
       "      <td>80.69</td>\n",
       "      <td>19.88</td>\n",
       "      <td>20.87</td>\n",
       "      <td>31.36</td>\n",
       "      <td>0.08</td>\n",
       "    </tr>\n",
       "    <tr>\n",
       "      <th>1988</th>\n",
       "      <td>24.40</td>\n",
       "      <td>83.69</td>\n",
       "      <td>19.60</td>\n",
       "      <td>21.22</td>\n",
       "      <td>30.50</td>\n",
       "      <td>0.07</td>\n",
       "    </tr>\n",
       "    <tr>\n",
       "      <th>1989</th>\n",
       "      <td>23.69</td>\n",
       "      <td>81.94</td>\n",
       "      <td>19.11</td>\n",
       "      <td>20.21</td>\n",
       "      <td>29.23</td>\n",
       "      <td>0.06</td>\n",
       "    </tr>\n",
       "    <tr>\n",
       "      <th>1990</th>\n",
       "      <td>24.45</td>\n",
       "      <td>83.19</td>\n",
       "      <td>19.63</td>\n",
       "      <td>21.14</td>\n",
       "      <td>30.59</td>\n",
       "      <td>0.08</td>\n",
       "    </tr>\n",
       "    <tr>\n",
       "      <th>1991</th>\n",
       "      <td>24.30</td>\n",
       "      <td>83.06</td>\n",
       "      <td>19.53</td>\n",
       "      <td>20.98</td>\n",
       "      <td>30.31</td>\n",
       "      <td>0.07</td>\n",
       "    </tr>\n",
       "    <tr>\n",
       "      <th>1992</th>\n",
       "      <td>23.97</td>\n",
       "      <td>80.31</td>\n",
       "      <td>19.28</td>\n",
       "      <td>20.05</td>\n",
       "      <td>29.72</td>\n",
       "      <td>0.07</td>\n",
       "    </tr>\n",
       "    <tr>\n",
       "      <th>1993</th>\n",
       "      <td>24.23</td>\n",
       "      <td>81.81</td>\n",
       "      <td>19.47</td>\n",
       "      <td>20.62</td>\n",
       "      <td>30.19</td>\n",
       "      <td>0.07</td>\n",
       "    </tr>\n",
       "    <tr>\n",
       "      <th>1994</th>\n",
       "      <td>23.88</td>\n",
       "      <td>84.19</td>\n",
       "      <td>19.26</td>\n",
       "      <td>20.90</td>\n",
       "      <td>29.56</td>\n",
       "      <td>0.06</td>\n",
       "    </tr>\n",
       "    <tr>\n",
       "      <th>1995</th>\n",
       "      <td>24.08</td>\n",
       "      <td>84.56</td>\n",
       "      <td>19.40</td>\n",
       "      <td>21.16</td>\n",
       "      <td>29.92</td>\n",
       "      <td>0.07</td>\n",
       "    </tr>\n",
       "    <tr>\n",
       "      <th>1996</th>\n",
       "      <td>24.15</td>\n",
       "      <td>84.44</td>\n",
       "      <td>19.45</td>\n",
       "      <td>21.19</td>\n",
       "      <td>30.04</td>\n",
       "      <td>0.07</td>\n",
       "    </tr>\n",
       "    <tr>\n",
       "      <th>1997</th>\n",
       "      <td>24.16</td>\n",
       "      <td>83.00</td>\n",
       "      <td>19.44</td>\n",
       "      <td>20.85</td>\n",
       "      <td>30.06</td>\n",
       "      <td>0.07</td>\n",
       "    </tr>\n",
       "    <tr>\n",
       "      <th>1998</th>\n",
       "      <td>24.80</td>\n",
       "      <td>81.44</td>\n",
       "      <td>19.84</td>\n",
       "      <td>21.00</td>\n",
       "      <td>31.23</td>\n",
       "      <td>0.08</td>\n",
       "    </tr>\n",
       "    <tr>\n",
       "      <th>1999</th>\n",
       "      <td>24.65</td>\n",
       "      <td>82.31</td>\n",
       "      <td>19.75</td>\n",
       "      <td>21.09</td>\n",
       "      <td>30.95</td>\n",
       "      <td>0.08</td>\n",
       "    </tr>\n",
       "    <tr>\n",
       "      <th>2000</th>\n",
       "      <td>24.62</td>\n",
       "      <td>78.56</td>\n",
       "      <td>19.69</td>\n",
       "      <td>20.14</td>\n",
       "      <td>30.90</td>\n",
       "      <td>0.08</td>\n",
       "    </tr>\n",
       "    <tr>\n",
       "      <th>2001</th>\n",
       "      <td>24.26</td>\n",
       "      <td>82.56</td>\n",
       "      <td>19.50</td>\n",
       "      <td>20.83</td>\n",
       "      <td>30.24</td>\n",
       "      <td>0.07</td>\n",
       "    </tr>\n",
       "    <tr>\n",
       "      <th>2002</th>\n",
       "      <td>24.66</td>\n",
       "      <td>80.94</td>\n",
       "      <td>19.75</td>\n",
       "      <td>20.76</td>\n",
       "      <td>30.97</td>\n",
       "      <td>0.08</td>\n",
       "    </tr>\n",
       "    <tr>\n",
       "      <th>2003</th>\n",
       "      <td>24.64</td>\n",
       "      <td>83.81</td>\n",
       "      <td>19.77</td>\n",
       "      <td>21.45</td>\n",
       "      <td>30.94</td>\n",
       "      <td>0.08</td>\n",
       "    </tr>\n",
       "    <tr>\n",
       "      <th>2004</th>\n",
       "      <td>24.60</td>\n",
       "      <td>84.25</td>\n",
       "      <td>19.74</td>\n",
       "      <td>21.53</td>\n",
       "      <td>30.86</td>\n",
       "      <td>0.08</td>\n",
       "    </tr>\n",
       "    <tr>\n",
       "      <th>2005</th>\n",
       "      <td>24.94</td>\n",
       "      <td>82.88</td>\n",
       "      <td>19.95</td>\n",
       "      <td>21.47</td>\n",
       "      <td>31.49</td>\n",
       "      <td>0.09</td>\n",
       "    </tr>\n",
       "    <tr>\n",
       "      <th>2006</th>\n",
       "      <td>25.03</td>\n",
       "      <td>82.19</td>\n",
       "      <td>20.01</td>\n",
       "      <td>21.37</td>\n",
       "      <td>31.66</td>\n",
       "      <td>0.09</td>\n",
       "    </tr>\n",
       "    <tr>\n",
       "      <th>2007</th>\n",
       "      <td>24.44</td>\n",
       "      <td>82.94</td>\n",
       "      <td>19.62</td>\n",
       "      <td>21.07</td>\n",
       "      <td>30.57</td>\n",
       "      <td>0.08</td>\n",
       "    </tr>\n",
       "    <tr>\n",
       "      <th>2008</th>\n",
       "      <td>24.23</td>\n",
       "      <td>83.06</td>\n",
       "      <td>19.48</td>\n",
       "      <td>20.93</td>\n",
       "      <td>30.19</td>\n",
       "      <td>0.07</td>\n",
       "    </tr>\n",
       "    <tr>\n",
       "      <th>2009</th>\n",
       "      <td>24.54</td>\n",
       "      <td>85.31</td>\n",
       "      <td>19.72</td>\n",
       "      <td>21.74</td>\n",
       "      <td>30.75</td>\n",
       "      <td>0.08</td>\n",
       "    </tr>\n",
       "    <tr>\n",
       "      <th>2010</th>\n",
       "      <td>24.78</td>\n",
       "      <td>84.56</td>\n",
       "      <td>19.87</td>\n",
       "      <td>21.75</td>\n",
       "      <td>31.20</td>\n",
       "      <td>0.08</td>\n",
       "    </tr>\n",
       "    <tr>\n",
       "      <th>2011</th>\n",
       "      <td>24.24</td>\n",
       "      <td>84.00</td>\n",
       "      <td>19.50</td>\n",
       "      <td>21.16</td>\n",
       "      <td>30.21</td>\n",
       "      <td>0.07</td>\n",
       "    </tr>\n",
       "    <tr>\n",
       "      <th>2012</th>\n",
       "      <td>24.26</td>\n",
       "      <td>84.69</td>\n",
       "      <td>19.52</td>\n",
       "      <td>21.35</td>\n",
       "      <td>30.24</td>\n",
       "      <td>0.07</td>\n",
       "    </tr>\n",
       "    <tr>\n",
       "      <th>2013</th>\n",
       "      <td>24.34</td>\n",
       "      <td>85.94</td>\n",
       "      <td>19.59</td>\n",
       "      <td>21.72</td>\n",
       "      <td>30.39</td>\n",
       "      <td>0.07</td>\n",
       "    </tr>\n",
       "    <tr>\n",
       "      <th>2014</th>\n",
       "      <td>24.71</td>\n",
       "      <td>84.19</td>\n",
       "      <td>19.82</td>\n",
       "      <td>21.60</td>\n",
       "      <td>31.07</td>\n",
       "      <td>0.08</td>\n",
       "    </tr>\n",
       "    <tr>\n",
       "      <th>2015</th>\n",
       "      <td>24.73</td>\n",
       "      <td>81.25</td>\n",
       "      <td>19.80</td>\n",
       "      <td>20.89</td>\n",
       "      <td>31.10</td>\n",
       "      <td>0.08</td>\n",
       "    </tr>\n",
       "    <tr>\n",
       "      <th>2016</th>\n",
       "      <td>25.12</td>\n",
       "      <td>81.19</td>\n",
       "      <td>20.05</td>\n",
       "      <td>21.19</td>\n",
       "      <td>31.83</td>\n",
       "      <td>0.09</td>\n",
       "    </tr>\n",
       "    <tr>\n",
       "      <th>2017</th>\n",
       "      <td>24.80</td>\n",
       "      <td>84.38</td>\n",
       "      <td>19.88</td>\n",
       "      <td>21.73</td>\n",
       "      <td>31.23</td>\n",
       "      <td>0.08</td>\n",
       "    </tr>\n",
       "    <tr>\n",
       "      <th>2018</th>\n",
       "      <td>24.47</td>\n",
       "      <td>83.69</td>\n",
       "      <td>19.65</td>\n",
       "      <td>21.28</td>\n",
       "      <td>30.62</td>\n",
       "      <td>0.08</td>\n",
       "    </tr>\n",
       "    <tr>\n",
       "      <th>2019</th>\n",
       "      <td>24.63</td>\n",
       "      <td>85.25</td>\n",
       "      <td>19.78</td>\n",
       "      <td>21.80</td>\n",
       "      <td>30.92</td>\n",
       "      <td>0.08</td>\n",
       "    </tr>\n",
       "    <tr>\n",
       "      <th>2020</th>\n",
       "      <td>24.44</td>\n",
       "      <td>83.62</td>\n",
       "      <td>19.63</td>\n",
       "      <td>21.24</td>\n",
       "      <td>30.57</td>\n",
       "      <td>0.08</td>\n",
       "    </tr>\n",
       "    <tr>\n",
       "      <th>2021</th>\n",
       "      <td>24.65</td>\n",
       "      <td>85.50</td>\n",
       "      <td>19.79</td>\n",
       "      <td>21.88</td>\n",
       "      <td>30.95</td>\n",
       "      <td>0.08</td>\n",
       "    </tr>\n",
       "  </tbody>\n",
       "</table>\n",
       "</div>"
      ],
      "text/plain": [
       "      Mean Temperature (◦C)  Mean Relative Humidity (%)  ET (◦C)  THI (◦C)  \\\n",
       "Year                                                                         \n",
       "1981                  23.93                       83.38    19.29     20.75   \n",
       "1982                  23.58                       83.88    19.06     20.58   \n",
       "1983                  24.05                       80.50    19.33     20.16   \n",
       "1984                  23.84                       81.44    19.21     20.22   \n",
       "1985                  23.83                       82.31    19.21     20.41   \n",
       "1986                  23.83                       82.38    19.21     20.43   \n",
       "1987                  24.87                       80.69    19.88     20.87   \n",
       "1988                  24.40                       83.69    19.60     21.22   \n",
       "1989                  23.69                       81.94    19.11     20.21   \n",
       "1990                  24.45                       83.19    19.63     21.14   \n",
       "1991                  24.30                       83.06    19.53     20.98   \n",
       "1992                  23.97                       80.31    19.28     20.05   \n",
       "1993                  24.23                       81.81    19.47     20.62   \n",
       "1994                  23.88                       84.19    19.26     20.90   \n",
       "1995                  24.08                       84.56    19.40     21.16   \n",
       "1996                  24.15                       84.44    19.45     21.19   \n",
       "1997                  24.16                       83.00    19.44     20.85   \n",
       "1998                  24.80                       81.44    19.84     21.00   \n",
       "1999                  24.65                       82.31    19.75     21.09   \n",
       "2000                  24.62                       78.56    19.69     20.14   \n",
       "2001                  24.26                       82.56    19.50     20.83   \n",
       "2002                  24.66                       80.94    19.75     20.76   \n",
       "2003                  24.64                       83.81    19.77     21.45   \n",
       "2004                  24.60                       84.25    19.74     21.53   \n",
       "2005                  24.94                       82.88    19.95     21.47   \n",
       "2006                  25.03                       82.19    20.01     21.37   \n",
       "2007                  24.44                       82.94    19.62     21.07   \n",
       "2008                  24.23                       83.06    19.48     20.93   \n",
       "2009                  24.54                       85.31    19.72     21.74   \n",
       "2010                  24.78                       84.56    19.87     21.75   \n",
       "2011                  24.24                       84.00    19.50     21.16   \n",
       "2012                  24.26                       84.69    19.52     21.35   \n",
       "2013                  24.34                       85.94    19.59     21.72   \n",
       "2014                  24.71                       84.19    19.82     21.60   \n",
       "2015                  24.73                       81.25    19.80     20.89   \n",
       "2016                  25.12                       81.19    20.05     21.19   \n",
       "2017                  24.80                       84.38    19.88     21.73   \n",
       "2018                  24.47                       83.69    19.65     21.28   \n",
       "2019                  24.63                       85.25    19.78     21.80   \n",
       "2020                  24.44                       83.62    19.63     21.24   \n",
       "2021                  24.65                       85.50    19.79     21.88   \n",
       "\n",
       "      Annual_VP  RSI (ratio)  \n",
       "Year                          \n",
       "1981      29.65         0.06  \n",
       "1982      29.03         0.06  \n",
       "1983      29.86         0.07  \n",
       "1984      29.49         0.06  \n",
       "1985      29.47         0.06  \n",
       "1986      29.47         0.06  \n",
       "1987      31.36         0.08  \n",
       "1988      30.50         0.07  \n",
       "1989      29.23         0.06  \n",
       "1990      30.59         0.08  \n",
       "1991      30.31         0.07  \n",
       "1992      29.72         0.07  \n",
       "1993      30.19         0.07  \n",
       "1994      29.56         0.06  \n",
       "1995      29.92         0.07  \n",
       "1996      30.04         0.07  \n",
       "1997      30.06         0.07  \n",
       "1998      31.23         0.08  \n",
       "1999      30.95         0.08  \n",
       "2000      30.90         0.08  \n",
       "2001      30.24         0.07  \n",
       "2002      30.97         0.08  \n",
       "2003      30.94         0.08  \n",
       "2004      30.86         0.08  \n",
       "2005      31.49         0.09  \n",
       "2006      31.66         0.09  \n",
       "2007      30.57         0.08  \n",
       "2008      30.19         0.07  \n",
       "2009      30.75         0.08  \n",
       "2010      31.20         0.08  \n",
       "2011      30.21         0.07  \n",
       "2012      30.24         0.07  \n",
       "2013      30.39         0.07  \n",
       "2014      31.07         0.08  \n",
       "2015      31.10         0.08  \n",
       "2016      31.83         0.09  \n",
       "2017      31.23         0.08  \n",
       "2018      30.62         0.08  \n",
       "2019      30.92         0.08  \n",
       "2020      30.57         0.08  \n",
       "2021      30.95         0.08  "
      ]
     },
     "execution_count": 24,
     "metadata": {},
     "output_type": "execute_result"
    }
   ],
   "source": [
    "new_df"
   ]
  },
  {
   "cell_type": "markdown",
   "id": "535209d5",
   "metadata": {},
   "source": [
    "#### Drop Vapour Pressure column"
   ]
  },
  {
   "cell_type": "code",
   "execution_count": 25,
   "id": "c875dcd8",
   "metadata": {},
   "outputs": [],
   "source": [
    "new_df.drop(\"Annual_VP\", axis=1, inplace=True)"
   ]
  },
  {
   "cell_type": "code",
   "execution_count": 174,
   "id": "6545d5dd",
   "metadata": {},
   "outputs": [
    {
     "data": {
      "text/html": [
       "<div>\n",
       "<style scoped>\n",
       "    .dataframe tbody tr th:only-of-type {\n",
       "        vertical-align: middle;\n",
       "    }\n",
       "\n",
       "    .dataframe tbody tr th {\n",
       "        vertical-align: top;\n",
       "    }\n",
       "\n",
       "    .dataframe thead th {\n",
       "        text-align: right;\n",
       "    }\n",
       "</style>\n",
       "<table border=\"1\" class=\"dataframe\">\n",
       "  <thead>\n",
       "    <tr style=\"text-align: right;\">\n",
       "      <th></th>\n",
       "      <th>Year</th>\n",
       "      <th>Mean Temperature (◦C)</th>\n",
       "      <th>Mean Relative Humidity (%)</th>\n",
       "      <th>ET (◦C)</th>\n",
       "      <th>THI (◦C)</th>\n",
       "      <th>RSI (ratio)</th>\n",
       "    </tr>\n",
       "  </thead>\n",
       "  <tbody>\n",
       "    <tr>\n",
       "      <th>0</th>\n",
       "      <td>1981</td>\n",
       "      <td>23.93</td>\n",
       "      <td>83.38</td>\n",
       "      <td>19.29</td>\n",
       "      <td>20.75</td>\n",
       "      <td>0.06</td>\n",
       "    </tr>\n",
       "    <tr>\n",
       "      <th>1</th>\n",
       "      <td>1982</td>\n",
       "      <td>23.58</td>\n",
       "      <td>83.88</td>\n",
       "      <td>19.06</td>\n",
       "      <td>20.58</td>\n",
       "      <td>0.06</td>\n",
       "    </tr>\n",
       "    <tr>\n",
       "      <th>2</th>\n",
       "      <td>1983</td>\n",
       "      <td>24.05</td>\n",
       "      <td>80.50</td>\n",
       "      <td>19.33</td>\n",
       "      <td>20.16</td>\n",
       "      <td>0.07</td>\n",
       "    </tr>\n",
       "    <tr>\n",
       "      <th>3</th>\n",
       "      <td>1984</td>\n",
       "      <td>23.84</td>\n",
       "      <td>81.44</td>\n",
       "      <td>19.21</td>\n",
       "      <td>20.22</td>\n",
       "      <td>0.06</td>\n",
       "    </tr>\n",
       "    <tr>\n",
       "      <th>4</th>\n",
       "      <td>1985</td>\n",
       "      <td>23.83</td>\n",
       "      <td>82.31</td>\n",
       "      <td>19.21</td>\n",
       "      <td>20.41</td>\n",
       "      <td>0.06</td>\n",
       "    </tr>\n",
       "    <tr>\n",
       "      <th>5</th>\n",
       "      <td>1986</td>\n",
       "      <td>23.83</td>\n",
       "      <td>82.38</td>\n",
       "      <td>19.21</td>\n",
       "      <td>20.43</td>\n",
       "      <td>0.06</td>\n",
       "    </tr>\n",
       "    <tr>\n",
       "      <th>6</th>\n",
       "      <td>1987</td>\n",
       "      <td>24.87</td>\n",
       "      <td>80.69</td>\n",
       "      <td>19.88</td>\n",
       "      <td>20.87</td>\n",
       "      <td>0.08</td>\n",
       "    </tr>\n",
       "    <tr>\n",
       "      <th>7</th>\n",
       "      <td>1988</td>\n",
       "      <td>24.40</td>\n",
       "      <td>83.69</td>\n",
       "      <td>19.60</td>\n",
       "      <td>21.22</td>\n",
       "      <td>0.07</td>\n",
       "    </tr>\n",
       "    <tr>\n",
       "      <th>8</th>\n",
       "      <td>1989</td>\n",
       "      <td>23.69</td>\n",
       "      <td>81.94</td>\n",
       "      <td>19.11</td>\n",
       "      <td>20.21</td>\n",
       "      <td>0.06</td>\n",
       "    </tr>\n",
       "    <tr>\n",
       "      <th>9</th>\n",
       "      <td>1990</td>\n",
       "      <td>24.45</td>\n",
       "      <td>83.19</td>\n",
       "      <td>19.63</td>\n",
       "      <td>21.14</td>\n",
       "      <td>0.08</td>\n",
       "    </tr>\n",
       "    <tr>\n",
       "      <th>10</th>\n",
       "      <td>1991</td>\n",
       "      <td>24.30</td>\n",
       "      <td>83.06</td>\n",
       "      <td>19.53</td>\n",
       "      <td>20.98</td>\n",
       "      <td>0.07</td>\n",
       "    </tr>\n",
       "    <tr>\n",
       "      <th>11</th>\n",
       "      <td>1992</td>\n",
       "      <td>23.97</td>\n",
       "      <td>80.31</td>\n",
       "      <td>19.28</td>\n",
       "      <td>20.05</td>\n",
       "      <td>0.07</td>\n",
       "    </tr>\n",
       "    <tr>\n",
       "      <th>12</th>\n",
       "      <td>1993</td>\n",
       "      <td>24.23</td>\n",
       "      <td>81.81</td>\n",
       "      <td>19.47</td>\n",
       "      <td>20.62</td>\n",
       "      <td>0.07</td>\n",
       "    </tr>\n",
       "    <tr>\n",
       "      <th>13</th>\n",
       "      <td>1994</td>\n",
       "      <td>23.88</td>\n",
       "      <td>84.19</td>\n",
       "      <td>19.26</td>\n",
       "      <td>20.90</td>\n",
       "      <td>0.06</td>\n",
       "    </tr>\n",
       "    <tr>\n",
       "      <th>14</th>\n",
       "      <td>1995</td>\n",
       "      <td>24.08</td>\n",
       "      <td>84.56</td>\n",
       "      <td>19.40</td>\n",
       "      <td>21.16</td>\n",
       "      <td>0.07</td>\n",
       "    </tr>\n",
       "    <tr>\n",
       "      <th>15</th>\n",
       "      <td>1996</td>\n",
       "      <td>24.15</td>\n",
       "      <td>84.44</td>\n",
       "      <td>19.45</td>\n",
       "      <td>21.19</td>\n",
       "      <td>0.07</td>\n",
       "    </tr>\n",
       "    <tr>\n",
       "      <th>16</th>\n",
       "      <td>1997</td>\n",
       "      <td>24.16</td>\n",
       "      <td>83.00</td>\n",
       "      <td>19.44</td>\n",
       "      <td>20.85</td>\n",
       "      <td>0.07</td>\n",
       "    </tr>\n",
       "    <tr>\n",
       "      <th>17</th>\n",
       "      <td>1998</td>\n",
       "      <td>24.80</td>\n",
       "      <td>81.44</td>\n",
       "      <td>19.84</td>\n",
       "      <td>21.00</td>\n",
       "      <td>0.08</td>\n",
       "    </tr>\n",
       "    <tr>\n",
       "      <th>18</th>\n",
       "      <td>1999</td>\n",
       "      <td>24.65</td>\n",
       "      <td>82.31</td>\n",
       "      <td>19.75</td>\n",
       "      <td>21.09</td>\n",
       "      <td>0.08</td>\n",
       "    </tr>\n",
       "    <tr>\n",
       "      <th>19</th>\n",
       "      <td>2000</td>\n",
       "      <td>24.62</td>\n",
       "      <td>78.56</td>\n",
       "      <td>19.69</td>\n",
       "      <td>20.14</td>\n",
       "      <td>0.08</td>\n",
       "    </tr>\n",
       "    <tr>\n",
       "      <th>20</th>\n",
       "      <td>2001</td>\n",
       "      <td>24.26</td>\n",
       "      <td>82.56</td>\n",
       "      <td>19.50</td>\n",
       "      <td>20.83</td>\n",
       "      <td>0.07</td>\n",
       "    </tr>\n",
       "    <tr>\n",
       "      <th>21</th>\n",
       "      <td>2002</td>\n",
       "      <td>24.66</td>\n",
       "      <td>80.94</td>\n",
       "      <td>19.75</td>\n",
       "      <td>20.76</td>\n",
       "      <td>0.08</td>\n",
       "    </tr>\n",
       "    <tr>\n",
       "      <th>22</th>\n",
       "      <td>2003</td>\n",
       "      <td>24.64</td>\n",
       "      <td>83.81</td>\n",
       "      <td>19.77</td>\n",
       "      <td>21.45</td>\n",
       "      <td>0.08</td>\n",
       "    </tr>\n",
       "    <tr>\n",
       "      <th>23</th>\n",
       "      <td>2004</td>\n",
       "      <td>24.60</td>\n",
       "      <td>84.25</td>\n",
       "      <td>19.74</td>\n",
       "      <td>21.53</td>\n",
       "      <td>0.08</td>\n",
       "    </tr>\n",
       "    <tr>\n",
       "      <th>24</th>\n",
       "      <td>2005</td>\n",
       "      <td>24.94</td>\n",
       "      <td>82.88</td>\n",
       "      <td>19.95</td>\n",
       "      <td>21.47</td>\n",
       "      <td>0.09</td>\n",
       "    </tr>\n",
       "    <tr>\n",
       "      <th>25</th>\n",
       "      <td>2006</td>\n",
       "      <td>25.03</td>\n",
       "      <td>82.19</td>\n",
       "      <td>20.01</td>\n",
       "      <td>21.37</td>\n",
       "      <td>0.09</td>\n",
       "    </tr>\n",
       "    <tr>\n",
       "      <th>26</th>\n",
       "      <td>2007</td>\n",
       "      <td>24.44</td>\n",
       "      <td>82.94</td>\n",
       "      <td>19.62</td>\n",
       "      <td>21.07</td>\n",
       "      <td>0.08</td>\n",
       "    </tr>\n",
       "    <tr>\n",
       "      <th>27</th>\n",
       "      <td>2008</td>\n",
       "      <td>24.23</td>\n",
       "      <td>83.06</td>\n",
       "      <td>19.48</td>\n",
       "      <td>20.93</td>\n",
       "      <td>0.07</td>\n",
       "    </tr>\n",
       "    <tr>\n",
       "      <th>28</th>\n",
       "      <td>2009</td>\n",
       "      <td>24.54</td>\n",
       "      <td>85.31</td>\n",
       "      <td>19.72</td>\n",
       "      <td>21.74</td>\n",
       "      <td>0.08</td>\n",
       "    </tr>\n",
       "    <tr>\n",
       "      <th>29</th>\n",
       "      <td>2010</td>\n",
       "      <td>24.78</td>\n",
       "      <td>84.56</td>\n",
       "      <td>19.87</td>\n",
       "      <td>21.75</td>\n",
       "      <td>0.08</td>\n",
       "    </tr>\n",
       "    <tr>\n",
       "      <th>30</th>\n",
       "      <td>2011</td>\n",
       "      <td>24.24</td>\n",
       "      <td>84.00</td>\n",
       "      <td>19.50</td>\n",
       "      <td>21.16</td>\n",
       "      <td>0.07</td>\n",
       "    </tr>\n",
       "    <tr>\n",
       "      <th>31</th>\n",
       "      <td>2012</td>\n",
       "      <td>24.26</td>\n",
       "      <td>84.69</td>\n",
       "      <td>19.52</td>\n",
       "      <td>21.35</td>\n",
       "      <td>0.07</td>\n",
       "    </tr>\n",
       "    <tr>\n",
       "      <th>32</th>\n",
       "      <td>2013</td>\n",
       "      <td>24.34</td>\n",
       "      <td>85.94</td>\n",
       "      <td>19.59</td>\n",
       "      <td>21.72</td>\n",
       "      <td>0.07</td>\n",
       "    </tr>\n",
       "    <tr>\n",
       "      <th>33</th>\n",
       "      <td>2014</td>\n",
       "      <td>24.71</td>\n",
       "      <td>84.19</td>\n",
       "      <td>19.82</td>\n",
       "      <td>21.60</td>\n",
       "      <td>0.08</td>\n",
       "    </tr>\n",
       "    <tr>\n",
       "      <th>34</th>\n",
       "      <td>2015</td>\n",
       "      <td>24.73</td>\n",
       "      <td>81.25</td>\n",
       "      <td>19.80</td>\n",
       "      <td>20.89</td>\n",
       "      <td>0.08</td>\n",
       "    </tr>\n",
       "    <tr>\n",
       "      <th>35</th>\n",
       "      <td>2016</td>\n",
       "      <td>25.12</td>\n",
       "      <td>81.19</td>\n",
       "      <td>20.05</td>\n",
       "      <td>21.19</td>\n",
       "      <td>0.09</td>\n",
       "    </tr>\n",
       "    <tr>\n",
       "      <th>36</th>\n",
       "      <td>2017</td>\n",
       "      <td>24.80</td>\n",
       "      <td>84.38</td>\n",
       "      <td>19.88</td>\n",
       "      <td>21.73</td>\n",
       "      <td>0.08</td>\n",
       "    </tr>\n",
       "    <tr>\n",
       "      <th>37</th>\n",
       "      <td>2018</td>\n",
       "      <td>24.47</td>\n",
       "      <td>83.69</td>\n",
       "      <td>19.65</td>\n",
       "      <td>21.28</td>\n",
       "      <td>0.08</td>\n",
       "    </tr>\n",
       "    <tr>\n",
       "      <th>38</th>\n",
       "      <td>2019</td>\n",
       "      <td>24.63</td>\n",
       "      <td>85.25</td>\n",
       "      <td>19.78</td>\n",
       "      <td>21.80</td>\n",
       "      <td>0.08</td>\n",
       "    </tr>\n",
       "    <tr>\n",
       "      <th>39</th>\n",
       "      <td>2020</td>\n",
       "      <td>24.44</td>\n",
       "      <td>83.62</td>\n",
       "      <td>19.63</td>\n",
       "      <td>21.24</td>\n",
       "      <td>0.08</td>\n",
       "    </tr>\n",
       "    <tr>\n",
       "      <th>40</th>\n",
       "      <td>2021</td>\n",
       "      <td>24.65</td>\n",
       "      <td>85.50</td>\n",
       "      <td>19.79</td>\n",
       "      <td>21.88</td>\n",
       "      <td>0.08</td>\n",
       "    </tr>\n",
       "  </tbody>\n",
       "</table>\n",
       "</div>"
      ],
      "text/plain": [
       "    Year  Mean Temperature (◦C)  Mean Relative Humidity (%)  ET (◦C)  \\\n",
       "0   1981                  23.93                       83.38    19.29   \n",
       "1   1982                  23.58                       83.88    19.06   \n",
       "2   1983                  24.05                       80.50    19.33   \n",
       "3   1984                  23.84                       81.44    19.21   \n",
       "4   1985                  23.83                       82.31    19.21   \n",
       "5   1986                  23.83                       82.38    19.21   \n",
       "6   1987                  24.87                       80.69    19.88   \n",
       "7   1988                  24.40                       83.69    19.60   \n",
       "8   1989                  23.69                       81.94    19.11   \n",
       "9   1990                  24.45                       83.19    19.63   \n",
       "10  1991                  24.30                       83.06    19.53   \n",
       "11  1992                  23.97                       80.31    19.28   \n",
       "12  1993                  24.23                       81.81    19.47   \n",
       "13  1994                  23.88                       84.19    19.26   \n",
       "14  1995                  24.08                       84.56    19.40   \n",
       "15  1996                  24.15                       84.44    19.45   \n",
       "16  1997                  24.16                       83.00    19.44   \n",
       "17  1998                  24.80                       81.44    19.84   \n",
       "18  1999                  24.65                       82.31    19.75   \n",
       "19  2000                  24.62                       78.56    19.69   \n",
       "20  2001                  24.26                       82.56    19.50   \n",
       "21  2002                  24.66                       80.94    19.75   \n",
       "22  2003                  24.64                       83.81    19.77   \n",
       "23  2004                  24.60                       84.25    19.74   \n",
       "24  2005                  24.94                       82.88    19.95   \n",
       "25  2006                  25.03                       82.19    20.01   \n",
       "26  2007                  24.44                       82.94    19.62   \n",
       "27  2008                  24.23                       83.06    19.48   \n",
       "28  2009                  24.54                       85.31    19.72   \n",
       "29  2010                  24.78                       84.56    19.87   \n",
       "30  2011                  24.24                       84.00    19.50   \n",
       "31  2012                  24.26                       84.69    19.52   \n",
       "32  2013                  24.34                       85.94    19.59   \n",
       "33  2014                  24.71                       84.19    19.82   \n",
       "34  2015                  24.73                       81.25    19.80   \n",
       "35  2016                  25.12                       81.19    20.05   \n",
       "36  2017                  24.80                       84.38    19.88   \n",
       "37  2018                  24.47                       83.69    19.65   \n",
       "38  2019                  24.63                       85.25    19.78   \n",
       "39  2020                  24.44                       83.62    19.63   \n",
       "40  2021                  24.65                       85.50    19.79   \n",
       "\n",
       "    THI (◦C)  RSI (ratio)  \n",
       "0      20.75         0.06  \n",
       "1      20.58         0.06  \n",
       "2      20.16         0.07  \n",
       "3      20.22         0.06  \n",
       "4      20.41         0.06  \n",
       "5      20.43         0.06  \n",
       "6      20.87         0.08  \n",
       "7      21.22         0.07  \n",
       "8      20.21         0.06  \n",
       "9      21.14         0.08  \n",
       "10     20.98         0.07  \n",
       "11     20.05         0.07  \n",
       "12     20.62         0.07  \n",
       "13     20.90         0.06  \n",
       "14     21.16         0.07  \n",
       "15     21.19         0.07  \n",
       "16     20.85         0.07  \n",
       "17     21.00         0.08  \n",
       "18     21.09         0.08  \n",
       "19     20.14         0.08  \n",
       "20     20.83         0.07  \n",
       "21     20.76         0.08  \n",
       "22     21.45         0.08  \n",
       "23     21.53         0.08  \n",
       "24     21.47         0.09  \n",
       "25     21.37         0.09  \n",
       "26     21.07         0.08  \n",
       "27     20.93         0.07  \n",
       "28     21.74         0.08  \n",
       "29     21.75         0.08  \n",
       "30     21.16         0.07  \n",
       "31     21.35         0.07  \n",
       "32     21.72         0.07  \n",
       "33     21.60         0.08  \n",
       "34     20.89         0.08  \n",
       "35     21.19         0.09  \n",
       "36     21.73         0.08  \n",
       "37     21.28         0.08  \n",
       "38     21.80         0.08  \n",
       "39     21.24         0.08  \n",
       "40     21.88         0.08  "
      ]
     },
     "execution_count": 174,
     "metadata": {},
     "output_type": "execute_result"
    }
   ],
   "source": [
    "new_df"
   ]
  },
  {
   "cell_type": "code",
   "execution_count": 175,
   "id": "1c4c3119",
   "metadata": {},
   "outputs": [],
   "source": [
    "new_df.to_csv(\"posi/Annual Table.csv\")"
   ]
  },
  {
   "cell_type": "code",
   "execution_count": 28,
   "id": "6fb9a422",
   "metadata": {},
   "outputs": [
    {
     "data": {
      "text/html": [
       "<div>\n",
       "<style scoped>\n",
       "    .dataframe tbody tr th:only-of-type {\n",
       "        vertical-align: middle;\n",
       "    }\n",
       "\n",
       "    .dataframe tbody tr th {\n",
       "        vertical-align: top;\n",
       "    }\n",
       "\n",
       "    .dataframe thead th {\n",
       "        text-align: right;\n",
       "    }\n",
       "</style>\n",
       "<table border=\"1\" class=\"dataframe\">\n",
       "  <thead>\n",
       "    <tr style=\"text-align: right;\">\n",
       "      <th></th>\n",
       "      <th>Mean Temperature (◦C)</th>\n",
       "      <th>Mean Relative Humidity (%)</th>\n",
       "      <th>ET (◦C)</th>\n",
       "      <th>THI (◦C)</th>\n",
       "      <th>RSI (ratio)</th>\n",
       "    </tr>\n",
       "  </thead>\n",
       "  <tbody>\n",
       "    <tr>\n",
       "      <th>Mean Temperature (◦C)</th>\n",
       "      <td>1.000000</td>\n",
       "      <td>-0.026078</td>\n",
       "      <td>0.997117</td>\n",
       "      <td>0.610388</td>\n",
       "      <td>0.949294</td>\n",
       "    </tr>\n",
       "    <tr>\n",
       "      <th>Mean Relative Humidity (%)</th>\n",
       "      <td>-0.026078</td>\n",
       "      <td>1.000000</td>\n",
       "      <td>0.048871</td>\n",
       "      <td>0.775813</td>\n",
       "      <td>-0.040052</td>\n",
       "    </tr>\n",
       "    <tr>\n",
       "      <th>ET (◦C)</th>\n",
       "      <td>0.997117</td>\n",
       "      <td>0.048871</td>\n",
       "      <td>1.000000</td>\n",
       "      <td>0.667969</td>\n",
       "      <td>0.945244</td>\n",
       "    </tr>\n",
       "    <tr>\n",
       "      <th>THI (◦C)</th>\n",
       "      <td>0.610388</td>\n",
       "      <td>0.775813</td>\n",
       "      <td>0.667969</td>\n",
       "      <td>1.000000</td>\n",
       "      <td>0.568081</td>\n",
       "    </tr>\n",
       "    <tr>\n",
       "      <th>RSI (ratio)</th>\n",
       "      <td>0.949294</td>\n",
       "      <td>-0.040052</td>\n",
       "      <td>0.945244</td>\n",
       "      <td>0.568081</td>\n",
       "      <td>1.000000</td>\n",
       "    </tr>\n",
       "  </tbody>\n",
       "</table>\n",
       "</div>"
      ],
      "text/plain": [
       "                            Mean Temperature (◦C)  Mean Relative Humidity (%)  \\\n",
       "Mean Temperature (◦C)                    1.000000                   -0.026078   \n",
       "Mean Relative Humidity (%)              -0.026078                    1.000000   \n",
       "ET (◦C)                                  0.997117                    0.048871   \n",
       "THI (◦C)                                 0.610388                    0.775813   \n",
       "RSI (ratio)                              0.949294                   -0.040052   \n",
       "\n",
       "                             ET (◦C)  THI (◦C)  RSI (ratio)  \n",
       "Mean Temperature (◦C)       0.997117  0.610388     0.949294  \n",
       "Mean Relative Humidity (%)  0.048871  0.775813    -0.040052  \n",
       "ET (◦C)                     1.000000  0.667969     0.945244  \n",
       "THI (◦C)                    0.667969  1.000000     0.568081  \n",
       "RSI (ratio)                 0.945244  0.568081     1.000000  "
      ]
     },
     "execution_count": 28,
     "metadata": {},
     "output_type": "execute_result"
    }
   ],
   "source": [
    "new_df.corr()"
   ]
  },
  {
   "cell_type": "markdown",
   "id": "7f0bfc93",
   "metadata": {},
   "source": [
    "The correlation coefficient is measured on a scale that varies from + 1 through 0 to – 1. Complete correlation between two variables is expressed by either + 1 or -1. When one variable increases as the other increases the correlation is positive; when one decreases as the other increases it is negative. Complete absence of correlation is represented by 0. \n",
    "\n",
    "- Temperature and  Effective temperature correlates postively\n",
    "- RSI and Temperature ccorrelates postively\n",
    "- RSI and Effective temperature correlates postively\n",
    "\n",
    "- Temperature and Relative humidity correlates negatively. \n",
    "- RSI and Relative humidity humidity correlates negatively"
   ]
  },
  {
   "cell_type": "markdown",
   "id": "223f1a55",
   "metadata": {},
   "source": [
    "## Mean and Standard Deviation "
   ]
  },
  {
   "cell_type": "markdown",
   "id": "4a3aacae",
   "metadata": {},
   "source": [
    "Temperature Mean"
   ]
  },
  {
   "cell_type": "code",
   "execution_count": 29,
   "id": "5fe3a370",
   "metadata": {},
   "outputs": [
    {
     "data": {
      "text/plain": [
       "24.385853658536586"
      ]
     },
     "execution_count": 29,
     "metadata": {},
     "output_type": "execute_result"
    }
   ],
   "source": [
    "mean_temp=new_df.iloc[:,0].mean()\n",
    "mean_temp"
   ]
  },
  {
   "cell_type": "markdown",
   "id": "0f807dec",
   "metadata": {},
   "source": [
    "Tempearature Standard Deviation"
   ]
  },
  {
   "cell_type": "code",
   "execution_count": 30,
   "id": "f39553b2",
   "metadata": {},
   "outputs": [
    {
     "data": {
      "text/plain": [
       "0.381051017645644"
      ]
     },
     "execution_count": 30,
     "metadata": {},
     "output_type": "execute_result"
    }
   ],
   "source": [
    "std_temp=new_df.iloc[:,0].std()\n",
    "std_temp"
   ]
  },
  {
   "cell_type": "markdown",
   "id": "c25742ac",
   "metadata": {},
   "source": [
    "Relative Humidity Mean"
   ]
  },
  {
   "cell_type": "code",
   "execution_count": 31,
   "id": "867561d2",
   "metadata": {},
   "outputs": [],
   "source": [
    "mean_RH=new_df.iloc[:,1].mean()"
   ]
  },
  {
   "cell_type": "code",
   "execution_count": 32,
   "id": "3fd78595",
   "metadata": {},
   "outputs": [
    {
     "data": {
      "text/plain": [
       "83.00682926829269"
      ]
     },
     "execution_count": 32,
     "metadata": {},
     "output_type": "execute_result"
    }
   ],
   "source": [
    "mean_RH"
   ]
  },
  {
   "cell_type": "markdown",
   "id": "3d98b8af",
   "metadata": {},
   "source": [
    "Relative Humidity Standard Deviation"
   ]
  },
  {
   "cell_type": "code",
   "execution_count": 33,
   "id": "04708f16",
   "metadata": {},
   "outputs": [
    {
     "data": {
      "text/plain": [
       "1.6129963407032115"
      ]
     },
     "execution_count": 33,
     "metadata": {},
     "output_type": "execute_result"
    }
   ],
   "source": [
    "std_RH= new_df.iloc[:,1].std()\n",
    "std_RH"
   ]
  },
  {
   "cell_type": "markdown",
   "id": "549ec04c",
   "metadata": {},
   "source": [
    "Effective Temperature Mean"
   ]
  },
  {
   "cell_type": "code",
   "execution_count": 34,
   "id": "0b8a2c48",
   "metadata": {},
   "outputs": [
    {
     "data": {
      "text/plain": [
       "19.586829268292682"
      ]
     },
     "execution_count": 34,
     "metadata": {},
     "output_type": "execute_result"
    }
   ],
   "source": [
    "mean_ET= new_df.iloc[:,2].mean()\n",
    "mean_ET"
   ]
  },
  {
   "cell_type": "markdown",
   "id": "dfbde027",
   "metadata": {},
   "source": [
    "Effective Temperature Standard Deviation"
   ]
  },
  {
   "cell_type": "code",
   "execution_count": 35,
   "id": "bc8d79be",
   "metadata": {},
   "outputs": [
    {
     "data": {
      "text/plain": [
       "0.25380542768418335"
      ]
     },
     "execution_count": 35,
     "metadata": {},
     "output_type": "execute_result"
    }
   ],
   "source": [
    "std_ET= new_df.iloc[:,2].std()\n",
    "std_ET"
   ]
  },
  {
   "cell_type": "markdown",
   "id": "961f37af",
   "metadata": {},
   "source": [
    "Temperature–humidity index mean"
   ]
  },
  {
   "cell_type": "code",
   "execution_count": 36,
   "id": "d215a974",
   "metadata": {},
   "outputs": [
    {
     "data": {
      "text/plain": [
       "21.04170731707317"
      ]
     },
     "execution_count": 36,
     "metadata": {},
     "output_type": "execute_result"
    }
   ],
   "source": [
    "THI_mean= new_df.iloc[:,3].mean()\n",
    "THI_mean"
   ]
  },
  {
   "cell_type": "markdown",
   "id": "4e1c6d3f",
   "metadata": {},
   "source": [
    "Temperature–humidity index Standard Deviation"
   ]
  },
  {
   "cell_type": "code",
   "execution_count": 37,
   "id": "9369ce7c",
   "metadata": {},
   "outputs": [
    {
     "data": {
      "text/plain": [
       "0.4989584273214772"
      ]
     },
     "execution_count": 37,
     "metadata": {},
     "output_type": "execute_result"
    }
   ],
   "source": [
    "THI_std= new_df.iloc[:,3].std()\n",
    "THI_std"
   ]
  },
  {
   "cell_type": "markdown",
   "id": "f92e82c2",
   "metadata": {},
   "source": [
    "Relative strain index Standard Deviation "
   ]
  },
  {
   "cell_type": "code",
   "execution_count": 38,
   "id": "e5b64ee5",
   "metadata": {},
   "outputs": [
    {
     "data": {
      "text/plain": [
       "0.07414634146341464"
      ]
     },
     "execution_count": 38,
     "metadata": {},
     "output_type": "execute_result"
    }
   ],
   "source": [
    "RSI_mean= new_df.iloc[:,4].mean()\n",
    "RSI_mean"
   ]
  },
  {
   "cell_type": "markdown",
   "id": "f305ed24",
   "metadata": {},
   "source": [
    "Relative strain index Standard Deviation "
   ]
  },
  {
   "cell_type": "code",
   "execution_count": 39,
   "id": "c7bc48e2",
   "metadata": {},
   "outputs": [
    {
     "data": {
      "text/plain": [
       "0.008653210316436774"
      ]
     },
     "execution_count": 39,
     "metadata": {},
     "output_type": "execute_result"
    }
   ],
   "source": [
    "RSI_std= new_df.iloc[:,4].std()\n",
    "RSI_std"
   ]
  },
  {
   "cell_type": "code",
   "execution_count": 40,
   "id": "8cca94fc",
   "metadata": {},
   "outputs": [],
   "source": [
    "array=[\n",
    "    [\"Temperature\",\"Temperature\", \"Relative Humidity\",\"Relative Humidity\", \"ET\", \"ET\", \"THI\",\"THI\",\"RSI(ratio)\",\"RSI(ratio)\"],\n",
    "    [\"Mean\", \"SD\", \"Mean\", \"SD\", \"Mean\", \"SD\", \"Mean\", \"SD\",\"Mean\", \"SD\"]\n",
    "]\n",
    "\n",
    "tuples = list(zip(*array))\n",
    "\n",
    "arrays = pd.MultiIndex.from_tuples(tuples, names=[\"\", \"Station\"])"
   ]
  },
  {
   "cell_type": "code",
   "execution_count": 41,
   "id": "d0c5c587",
   "metadata": {},
   "outputs": [
    {
     "data": {
      "text/plain": [
       "MultiIndex([(      'Temperature', 'Mean'),\n",
       "            (      'Temperature',   'SD'),\n",
       "            ('Relative Humidity', 'Mean'),\n",
       "            ('Relative Humidity',   'SD'),\n",
       "            (               'ET', 'Mean'),\n",
       "            (               'ET',   'SD'),\n",
       "            (              'THI', 'Mean'),\n",
       "            (              'THI',   'SD'),\n",
       "            (       'RSI(ratio)', 'Mean'),\n",
       "            (       'RSI(ratio)',   'SD')],\n",
       "           names=['', 'Station'])"
      ]
     },
     "execution_count": 41,
     "metadata": {},
     "output_type": "execute_result"
    }
   ],
   "source": [
    "arrays"
   ]
  },
  {
   "cell_type": "code",
   "execution_count": 42,
   "id": "aa072f7f",
   "metadata": {},
   "outputs": [],
   "source": [
    "df=pd.DataFrame( index=[\"Ondo\"],columns=arrays[:], )"
   ]
  },
  {
   "cell_type": "code",
   "execution_count": 43,
   "id": "fbc3ef3e",
   "metadata": {},
   "outputs": [
    {
     "data": {
      "text/html": [
       "<div>\n",
       "<style scoped>\n",
       "    .dataframe tbody tr th:only-of-type {\n",
       "        vertical-align: middle;\n",
       "    }\n",
       "\n",
       "    .dataframe tbody tr th {\n",
       "        vertical-align: top;\n",
       "    }\n",
       "\n",
       "    .dataframe thead tr th {\n",
       "        text-align: left;\n",
       "    }\n",
       "</style>\n",
       "<table border=\"1\" class=\"dataframe\">\n",
       "  <thead>\n",
       "    <tr>\n",
       "      <th></th>\n",
       "      <th colspan=\"2\" halign=\"left\">Temperature</th>\n",
       "      <th colspan=\"2\" halign=\"left\">Relative Humidity</th>\n",
       "      <th colspan=\"2\" halign=\"left\">ET</th>\n",
       "      <th colspan=\"2\" halign=\"left\">THI</th>\n",
       "      <th colspan=\"2\" halign=\"left\">RSI(ratio)</th>\n",
       "    </tr>\n",
       "    <tr>\n",
       "      <th>Station</th>\n",
       "      <th>Mean</th>\n",
       "      <th>SD</th>\n",
       "      <th>Mean</th>\n",
       "      <th>SD</th>\n",
       "      <th>Mean</th>\n",
       "      <th>SD</th>\n",
       "      <th>Mean</th>\n",
       "      <th>SD</th>\n",
       "      <th>Mean</th>\n",
       "      <th>SD</th>\n",
       "    </tr>\n",
       "  </thead>\n",
       "  <tbody>\n",
       "    <tr>\n",
       "      <th>Ondo</th>\n",
       "      <td>NaN</td>\n",
       "      <td>NaN</td>\n",
       "      <td>NaN</td>\n",
       "      <td>NaN</td>\n",
       "      <td>NaN</td>\n",
       "      <td>NaN</td>\n",
       "      <td>NaN</td>\n",
       "      <td>NaN</td>\n",
       "      <td>NaN</td>\n",
       "      <td>NaN</td>\n",
       "    </tr>\n",
       "  </tbody>\n",
       "</table>\n",
       "</div>"
      ],
      "text/plain": [
       "        Temperature      Relative Humidity        ET       THI       \\\n",
       "Station        Mean   SD              Mean   SD Mean   SD Mean   SD   \n",
       "Ondo            NaN  NaN               NaN  NaN  NaN  NaN  NaN  NaN   \n",
       "\n",
       "        RSI(ratio)       \n",
       "Station       Mean   SD  \n",
       "Ondo           NaN  NaN  "
      ]
     },
     "execution_count": 43,
     "metadata": {},
     "output_type": "execute_result"
    }
   ],
   "source": [
    "df\n"
   ]
  },
  {
   "cell_type": "code",
   "execution_count": 44,
   "id": "ebbae6b3",
   "metadata": {},
   "outputs": [],
   "source": [
    "df.loc[\"Ondo\",(\"Temperature\", \"Mean\")]=round(mean_temp,2)\n",
    "df.loc[\"Ondo\",(\"Temperature\", \"SD\")]=round(std_temp,2)\n",
    "\n",
    "df.loc[\"Ondo\",(\"Relative Humidity\", \"Mean\")]=round(mean_RH,2)\n",
    "df.loc[\"Ondo\",(\"Relative Humidity\", \"SD\")]=round(std_RH,2)\n",
    "\n",
    "df.loc[\"Ondo\",(\"ET\", \"Mean\")]=round(mean_ET,2)\n",
    "df.loc[\"Ondo\",(\"ET\", \"SD\")]=round(std_ET,2)\n",
    "\n",
    "df.loc[\"Ondo\",(\"THI\", \"Mean\")]=round(THI_mean,2)\n",
    "df.loc[\"Ondo\",(\"THI\", \"SD\")]=round(THI_std,2)\n",
    "\n",
    "df.loc[\"Ondo\",(\"RSI(ratio)\", \"Mean\")]=round(RSI_mean,2)\n",
    "df.loc[\"Ondo\",(\"RSI(ratio)\", \"SD\")]=round(RSI_std,2)\n"
   ]
  },
  {
   "cell_type": "code",
   "execution_count": 45,
   "id": "53ed8389",
   "metadata": {},
   "outputs": [
    {
     "data": {
      "text/html": [
       "<div>\n",
       "<style scoped>\n",
       "    .dataframe tbody tr th:only-of-type {\n",
       "        vertical-align: middle;\n",
       "    }\n",
       "\n",
       "    .dataframe tbody tr th {\n",
       "        vertical-align: top;\n",
       "    }\n",
       "\n",
       "    .dataframe thead tr th {\n",
       "        text-align: left;\n",
       "    }\n",
       "</style>\n",
       "<table border=\"1\" class=\"dataframe\">\n",
       "  <thead>\n",
       "    <tr>\n",
       "      <th></th>\n",
       "      <th colspan=\"2\" halign=\"left\">Temperature</th>\n",
       "      <th colspan=\"2\" halign=\"left\">Relative Humidity</th>\n",
       "      <th colspan=\"2\" halign=\"left\">ET</th>\n",
       "      <th colspan=\"2\" halign=\"left\">THI</th>\n",
       "      <th colspan=\"2\" halign=\"left\">RSI(ratio)</th>\n",
       "    </tr>\n",
       "    <tr>\n",
       "      <th>Station</th>\n",
       "      <th>Mean</th>\n",
       "      <th>SD</th>\n",
       "      <th>Mean</th>\n",
       "      <th>SD</th>\n",
       "      <th>Mean</th>\n",
       "      <th>SD</th>\n",
       "      <th>Mean</th>\n",
       "      <th>SD</th>\n",
       "      <th>Mean</th>\n",
       "      <th>SD</th>\n",
       "    </tr>\n",
       "  </thead>\n",
       "  <tbody>\n",
       "    <tr>\n",
       "      <th>Ondo</th>\n",
       "      <td>24.39</td>\n",
       "      <td>0.38</td>\n",
       "      <td>83.01</td>\n",
       "      <td>1.61</td>\n",
       "      <td>19.59</td>\n",
       "      <td>0.25</td>\n",
       "      <td>21.04</td>\n",
       "      <td>0.5</td>\n",
       "      <td>0.07</td>\n",
       "      <td>0.01</td>\n",
       "    </tr>\n",
       "  </tbody>\n",
       "</table>\n",
       "</div>"
      ],
      "text/plain": [
       "        Temperature       Relative Humidity           ET          THI       \\\n",
       "Station        Mean    SD              Mean    SD   Mean    SD   Mean   SD   \n",
       "Ondo          24.39  0.38             83.01  1.61  19.59  0.25  21.04  0.5   \n",
       "\n",
       "        RSI(ratio)        \n",
       "Station       Mean    SD  \n",
       "Ondo          0.07  0.01  "
      ]
     },
     "execution_count": 45,
     "metadata": {},
     "output_type": "execute_result"
    }
   ],
   "source": [
    "df"
   ]
  },
  {
   "cell_type": "code",
   "execution_count": 46,
   "id": "51b8c4c6",
   "metadata": {},
   "outputs": [],
   "source": [
    "df.to_csv(\"posi/Annual Mean_SD.csv\")"
   ]
  },
  {
   "cell_type": "markdown",
   "id": "3daf5b87",
   "metadata": {},
   "source": [
    "## Decades"
   ]
  },
  {
   "cell_type": "markdown",
   "id": "1a3340b4",
   "metadata": {},
   "source": [
    "Creating Data Frame"
   ]
  },
  {
   "cell_type": "code",
   "execution_count": 47,
   "id": "327c859f",
   "metadata": {},
   "outputs": [],
   "source": [
    "d={\"Decades\":[\"1981-1990\",\"1991-2000\",\"2001-2010\",\"2011-2020\"]}\n",
    "decades= pd.DataFrame(d)"
   ]
  },
  {
   "cell_type": "markdown",
   "id": "f074f698",
   "metadata": {},
   "source": [
    "Mean Temperature for each decade: 1981-1990,1991-2000,2001-2010,2011-2020"
   ]
  },
  {
   "cell_type": "code",
   "execution_count": 48,
   "id": "77459ae6",
   "metadata": {},
   "outputs": [],
   "source": [
    "decades[\"Mean temp\"]= [round(new_df.iloc[:10,:]['Mean Temperature (◦C)'].mean(),2),\n",
    "          round(new_df.iloc[10:20,:]['Mean Temperature (◦C)'].mean(),2),\n",
    "          round(new_df.iloc[20:30,:]['Mean Temperature (◦C)'].mean(),2),\n",
    "          round(new_df.iloc[30:40,:]['Mean Temperature (◦C)'].mean(),2)\n",
    "         ]"
   ]
  },
  {
   "cell_type": "markdown",
   "id": "9b335089",
   "metadata": {},
   "source": [
    "Relative Humididty for each decade: 1981-1990,1991-2000,2001-2010,2011-2020"
   ]
  },
  {
   "cell_type": "code",
   "execution_count": 49,
   "id": "771d52ba",
   "metadata": {},
   "outputs": [],
   "source": [
    "decades[\"Mean RH\"]= [round(new_df.iloc[:10,:]['Mean Relative Humidity (%)'].mean(),2),\n",
    "          round(new_df.iloc[10:20,:]['Mean Relative Humidity (%)'].mean(),2),\n",
    "          round(new_df.iloc[20:30,:]['Mean Relative Humidity (%)'].mean(),2),\n",
    "          round(new_df.iloc[30:40,:]['Mean Relative Humidity (%)'].mean(),2)\n",
    "         ]"
   ]
  },
  {
   "cell_type": "markdown",
   "id": "3ab0ab82",
   "metadata": {},
   "source": [
    "Effective Temperature for each decade: 1981-1990,1991-2000,2001-2010,2011-2020"
   ]
  },
  {
   "cell_type": "code",
   "execution_count": 50,
   "id": "c8f05316",
   "metadata": {},
   "outputs": [],
   "source": [
    "decades[\"Mean ET\"]= [round(new_df.iloc[:10,:]['ET (◦C)'].mean(),2),\n",
    "          round(new_df.iloc[10:20,:]['ET (◦C)'].mean(),2),\n",
    "          round(new_df.iloc[20:30,:]['ET (◦C)'].mean(),2),\n",
    "          round(new_df.iloc[30:40,:]['ET (◦C)'].mean(),2)\n",
    "         ]"
   ]
  },
  {
   "cell_type": "markdown",
   "id": "96a7c30e",
   "metadata": {},
   "source": [
    "Temperature Humidity Index for each decade: 1981-1990,1991-2000,2001-2010,2011-2020"
   ]
  },
  {
   "cell_type": "code",
   "execution_count": 51,
   "id": "2d564e91",
   "metadata": {},
   "outputs": [],
   "source": [
    "decades[\"Mean THI\"]= [round(new_df.iloc[:10,:]['THI (◦C)'].mean(),2),\n",
    "          round(new_df.iloc[10:20,:]['THI (◦C)'].mean(),2),\n",
    "          round(new_df.iloc[20:30,:]['THI (◦C)'].mean(),2),\n",
    "          round(new_df.iloc[30:40,:]['THI (◦C)'].mean(),2)\n",
    "         ]"
   ]
  },
  {
   "cell_type": "markdown",
   "id": "8a2959cc",
   "metadata": {},
   "source": [
    "Relative Strain Index for each decade: 1981-1990,1991-2000,2001-2010,2011-2020"
   ]
  },
  {
   "cell_type": "code",
   "execution_count": 52,
   "id": "55d1ee49",
   "metadata": {},
   "outputs": [],
   "source": [
    "decades[\"Mean RSI\"]= [round(new_df.iloc[:10,:]['RSI (ratio)'].mean(),2),\n",
    "          round(new_df.iloc[10:20,:]['RSI (ratio)'].mean(),2),\n",
    "          round(new_df.iloc[20:30,:]['RSI (ratio)'].mean(),2),\n",
    "          round(new_df.iloc[30:40,:]['RSI (ratio)'].mean(),2)\n",
    "         ]"
   ]
  },
  {
   "cell_type": "code",
   "execution_count": 53,
   "id": "4506db76",
   "metadata": {},
   "outputs": [],
   "source": [
    "decades.set_index(\"Decades\", inplace=True)"
   ]
  },
  {
   "cell_type": "code",
   "execution_count": 54,
   "id": "6f5920e3",
   "metadata": {},
   "outputs": [
    {
     "data": {
      "text/html": [
       "<div>\n",
       "<style scoped>\n",
       "    .dataframe tbody tr th:only-of-type {\n",
       "        vertical-align: middle;\n",
       "    }\n",
       "\n",
       "    .dataframe tbody tr th {\n",
       "        vertical-align: top;\n",
       "    }\n",
       "\n",
       "    .dataframe thead th {\n",
       "        text-align: right;\n",
       "    }\n",
       "</style>\n",
       "<table border=\"1\" class=\"dataframe\">\n",
       "  <thead>\n",
       "    <tr style=\"text-align: right;\">\n",
       "      <th></th>\n",
       "      <th>Mean temp</th>\n",
       "      <th>Mean RH</th>\n",
       "      <th>Mean ET</th>\n",
       "      <th>Mean THI</th>\n",
       "      <th>Mean RSI</th>\n",
       "    </tr>\n",
       "    <tr>\n",
       "      <th>Decades</th>\n",
       "      <th></th>\n",
       "      <th></th>\n",
       "      <th></th>\n",
       "      <th></th>\n",
       "      <th></th>\n",
       "    </tr>\n",
       "  </thead>\n",
       "  <tbody>\n",
       "    <tr>\n",
       "      <th>1981-1990</th>\n",
       "      <td>24.05</td>\n",
       "      <td>82.34</td>\n",
       "      <td>19.35</td>\n",
       "      <td>20.60</td>\n",
       "      <td>0.07</td>\n",
       "    </tr>\n",
       "    <tr>\n",
       "      <th>1991-2000</th>\n",
       "      <td>24.28</td>\n",
       "      <td>82.37</td>\n",
       "      <td>19.51</td>\n",
       "      <td>20.80</td>\n",
       "      <td>0.07</td>\n",
       "    </tr>\n",
       "    <tr>\n",
       "      <th>2001-2010</th>\n",
       "      <td>24.61</td>\n",
       "      <td>83.25</td>\n",
       "      <td>19.74</td>\n",
       "      <td>21.29</td>\n",
       "      <td>0.08</td>\n",
       "    </tr>\n",
       "    <tr>\n",
       "      <th>2011-2020</th>\n",
       "      <td>24.57</td>\n",
       "      <td>83.82</td>\n",
       "      <td>19.72</td>\n",
       "      <td>21.40</td>\n",
       "      <td>0.08</td>\n",
       "    </tr>\n",
       "  </tbody>\n",
       "</table>\n",
       "</div>"
      ],
      "text/plain": [
       "           Mean temp  Mean RH  Mean ET  Mean THI  Mean RSI\n",
       "Decades                                                   \n",
       "1981-1990      24.05    82.34    19.35     20.60      0.07\n",
       "1991-2000      24.28    82.37    19.51     20.80      0.07\n",
       "2001-2010      24.61    83.25    19.74     21.29      0.08\n",
       "2011-2020      24.57    83.82    19.72     21.40      0.08"
      ]
     },
     "execution_count": 54,
     "metadata": {},
     "output_type": "execute_result"
    }
   ],
   "source": [
    "decades.head()"
   ]
  },
  {
   "cell_type": "code",
   "execution_count": 55,
   "id": "0f7203c9",
   "metadata": {},
   "outputs": [],
   "source": [
    "decades.to_csv(\"posi/Decades result.csv\")"
   ]
  },
  {
   "cell_type": "markdown",
   "id": "945c1b51",
   "metadata": {},
   "source": [
    "## Creating monthly dataframe"
   ]
  },
  {
   "cell_type": "code",
   "execution_count": 56,
   "id": "cbc628c1",
   "metadata": {},
   "outputs": [],
   "source": [
    "d={\"Month\":list(temp.loc[:,\"Jan\":\"Dec\"].columns)}\n",
    "monthly_df= pd.DataFrame(d)"
   ]
  },
  {
   "cell_type": "code",
   "execution_count": 57,
   "id": "5cc26d52",
   "metadata": {},
   "outputs": [],
   "source": [
    "monthly_df.set_index(\"Month\", inplace=True)"
   ]
  },
  {
   "cell_type": "code",
   "execution_count": 58,
   "id": "64fac8a7",
   "metadata": {},
   "outputs": [
    {
     "data": {
      "text/html": [
       "<div>\n",
       "<style scoped>\n",
       "    .dataframe tbody tr th:only-of-type {\n",
       "        vertical-align: middle;\n",
       "    }\n",
       "\n",
       "    .dataframe tbody tr th {\n",
       "        vertical-align: top;\n",
       "    }\n",
       "\n",
       "    .dataframe thead th {\n",
       "        text-align: right;\n",
       "    }\n",
       "</style>\n",
       "<table border=\"1\" class=\"dataframe\">\n",
       "  <thead>\n",
       "    <tr style=\"text-align: right;\">\n",
       "      <th></th>\n",
       "    </tr>\n",
       "    <tr>\n",
       "      <th>Month</th>\n",
       "    </tr>\n",
       "  </thead>\n",
       "  <tbody>\n",
       "    <tr>\n",
       "      <th>Jan</th>\n",
       "    </tr>\n",
       "    <tr>\n",
       "      <th>Feb</th>\n",
       "    </tr>\n",
       "    <tr>\n",
       "      <th>Mar</th>\n",
       "    </tr>\n",
       "    <tr>\n",
       "      <th>Apr</th>\n",
       "    </tr>\n",
       "    <tr>\n",
       "      <th>May</th>\n",
       "    </tr>\n",
       "    <tr>\n",
       "      <th>Jun</th>\n",
       "    </tr>\n",
       "    <tr>\n",
       "      <th>Jul</th>\n",
       "    </tr>\n",
       "    <tr>\n",
       "      <th>Aug</th>\n",
       "    </tr>\n",
       "    <tr>\n",
       "      <th>Sep</th>\n",
       "    </tr>\n",
       "    <tr>\n",
       "      <th>Oct</th>\n",
       "    </tr>\n",
       "    <tr>\n",
       "      <th>Nov</th>\n",
       "    </tr>\n",
       "    <tr>\n",
       "      <th>Dec</th>\n",
       "    </tr>\n",
       "  </tbody>\n",
       "</table>\n",
       "</div>"
      ],
      "text/plain": [
       "Empty DataFrame\n",
       "Columns: []\n",
       "Index: [Jan, Feb, Mar, Apr, May, Jun, Jul, Aug, Sep, Oct, Nov, Dec]"
      ]
     },
     "execution_count": 58,
     "metadata": {},
     "output_type": "execute_result"
    }
   ],
   "source": [
    "monthly_df"
   ]
  },
  {
   "cell_type": "markdown",
   "id": "ff179dad",
   "metadata": {},
   "source": [
    "Creating Columns"
   ]
  },
  {
   "cell_type": "markdown",
   "id": "8d9cc295",
   "metadata": {},
   "source": [
    "Monthly mean Temperature "
   ]
  },
  {
   "cell_type": "code",
   "execution_count": 59,
   "id": "92f0ff84",
   "metadata": {},
   "outputs": [],
   "source": [
    "monthly_df[\"Monthly_temp\"]= round(temp.loc[:,\"Jan\":\"Dec\"].mean(),2)"
   ]
  },
  {
   "cell_type": "markdown",
   "id": "c61a9451",
   "metadata": {},
   "source": [
    "Monthly mean Relative temperature"
   ]
  },
  {
   "cell_type": "code",
   "execution_count": 60,
   "id": "5fd2eafd",
   "metadata": {},
   "outputs": [],
   "source": [
    "monthly_df[\"Monthly_RH\"]= round(r_humididty.loc[:,\"Jan\":\"Dec\"].mean(),2)"
   ]
  },
  {
   "cell_type": "code",
   "execution_count": 61,
   "id": "059e93bf",
   "metadata": {},
   "outputs": [],
   "source": [
    "monthly_df[\"Monthly_temp\"]=monthly_df[\"Monthly_temp\"].astype(float)"
   ]
  },
  {
   "cell_type": "code",
   "execution_count": 62,
   "id": "dfd60829",
   "metadata": {},
   "outputs": [],
   "source": [
    "monthly_df[\"Monthly_RH\"]=monthly_df[\"Monthly_RH\"].astype(float)"
   ]
  },
  {
   "cell_type": "markdown",
   "id": "731b7735",
   "metadata": {},
   "source": [
    "We have several terms used\n",
    "\n",
    "- Temperature= T\n",
    "- Relative humidity= H\n",
    "- Effective temperature = ET\n",
    "- Temperature–humidity index= THI\n",
    "- Relative strain index = RSI.`"
   ]
  },
  {
   "cell_type": "markdown",
   "id": "85acd7ad",
   "metadata": {},
   "source": [
    "#### Calculating Monthly Effective Temperature  column"
   ]
  },
  {
   "cell_type": "markdown",
   "id": "cb9df03e",
   "metadata": {},
   "source": [
    "Effective Temperature =\n",
    "$ ET = T - (0.4\\times (T-10)\\times(1-\\frac{H}{500})$"
   ]
  },
  {
   "cell_type": "code",
   "execution_count": 63,
   "id": "bd96e570",
   "metadata": {},
   "outputs": [],
   "source": [
    "formular= monthly_df[\"Monthly_temp\"]-((0.4*(monthly_df[\"Monthly_temp\"]-10))*(1-(monthly_df[\"Monthly_RH\"]/500)))\n",
    "formular= round(formular,2)\n",
    "\n",
    "\n",
    "monthly_df=monthly_df.assign(Monthly_ET= formular  )"
   ]
  },
  {
   "cell_type": "markdown",
   "id": "1681f5e9",
   "metadata": {},
   "source": [
    "#### Calculating Temperature-humidity index "
   ]
  },
  {
   "cell_type": "markdown",
   "id": "4b0d1f1b",
   "metadata": {},
   "source": [
    "Temperature-humidity index = \n",
    "$THI = 0.8 + \\frac{HT}{100}$"
   ]
  },
  {
   "cell_type": "code",
   "execution_count": 64,
   "id": "ca22ca89",
   "metadata": {},
   "outputs": [],
   "source": [
    "formular=  0.8 + ((monthly_df[\"Monthly_RH\"]*monthly_df[\"Monthly_temp\"])/100)\n",
    "formular= round(formular,2)\n",
    "\n",
    "monthly_df=monthly_df.assign(Monthly_THI=formular )"
   ]
  },
  {
   "cell_type": "code",
   "execution_count": 65,
   "id": "721e112e",
   "metadata": {},
   "outputs": [],
   "source": [
    "monthly_df[\"Monthly_THI\"]=monthly_df[\"Monthly_THI\"].astype(float) "
   ]
  },
  {
   "cell_type": "code",
   "execution_count": 66,
   "id": "b68663a0",
   "metadata": {},
   "outputs": [
    {
     "data": {
      "text/html": [
       "<div>\n",
       "<style scoped>\n",
       "    .dataframe tbody tr th:only-of-type {\n",
       "        vertical-align: middle;\n",
       "    }\n",
       "\n",
       "    .dataframe tbody tr th {\n",
       "        vertical-align: top;\n",
       "    }\n",
       "\n",
       "    .dataframe thead th {\n",
       "        text-align: right;\n",
       "    }\n",
       "</style>\n",
       "<table border=\"1\" class=\"dataframe\">\n",
       "  <thead>\n",
       "    <tr style=\"text-align: right;\">\n",
       "      <th></th>\n",
       "      <th>Monthly_temp</th>\n",
       "      <th>Monthly_RH</th>\n",
       "      <th>Monthly_ET</th>\n",
       "      <th>Monthly_THI</th>\n",
       "    </tr>\n",
       "    <tr>\n",
       "      <th>Month</th>\n",
       "      <th></th>\n",
       "      <th></th>\n",
       "      <th></th>\n",
       "      <th></th>\n",
       "    </tr>\n",
       "  </thead>\n",
       "  <tbody>\n",
       "    <tr>\n",
       "      <th>Jan</th>\n",
       "      <td>23.74</td>\n",
       "      <td>68.27</td>\n",
       "      <td>18.99</td>\n",
       "      <td>17.01</td>\n",
       "    </tr>\n",
       "    <tr>\n",
       "      <th>Feb</th>\n",
       "      <td>25.37</td>\n",
       "      <td>71.93</td>\n",
       "      <td>20.11</td>\n",
       "      <td>19.05</td>\n",
       "    </tr>\n",
       "    <tr>\n",
       "      <th>Mar</th>\n",
       "      <td>25.94</td>\n",
       "      <td>79.68</td>\n",
       "      <td>20.58</td>\n",
       "      <td>21.47</td>\n",
       "    </tr>\n",
       "    <tr>\n",
       "      <th>Apr</th>\n",
       "      <td>25.72</td>\n",
       "      <td>85.07</td>\n",
       "      <td>20.50</td>\n",
       "      <td>22.68</td>\n",
       "    </tr>\n",
       "    <tr>\n",
       "      <th>May</th>\n",
       "      <td>25.11</td>\n",
       "      <td>88.06</td>\n",
       "      <td>20.13</td>\n",
       "      <td>22.91</td>\n",
       "    </tr>\n",
       "  </tbody>\n",
       "</table>\n",
       "</div>"
      ],
      "text/plain": [
       "       Monthly_temp  Monthly_RH  Monthly_ET  Monthly_THI\n",
       "Month                                                   \n",
       "Jan           23.74       68.27       18.99        17.01\n",
       "Feb           25.37       71.93       20.11        19.05\n",
       "Mar           25.94       79.68       20.58        21.47\n",
       "Apr           25.72       85.07       20.50        22.68\n",
       "May           25.11       88.06       20.13        22.91"
      ]
     },
     "execution_count": 66,
     "metadata": {},
     "output_type": "execute_result"
    }
   ],
   "source": [
    "monthly_df.head()"
   ]
  },
  {
   "cell_type": "markdown",
   "id": "51c631e0",
   "metadata": {},
   "source": [
    "#### Calculating Vapour Pressure "
   ]
  },
  {
   "cell_type": "markdown",
   "id": "8081d353",
   "metadata": {},
   "source": [
    "Vapour Pressure= \n",
    "$6.11\\times 10^{\\frac{7.5T}{237.7+T}}$"
   ]
  },
  {
   "cell_type": "code",
   "execution_count": 67,
   "id": "e62ed5fd",
   "metadata": {},
   "outputs": [],
   "source": [
    "formular=  6.11*10**(((7.5*monthly_df[\"Monthly_temp\"])/(237.7+monthly_df[\"Monthly_temp\"])))\n",
    "formular= round(formular,2)\n",
    "monthly_df=monthly_df.assign(Monthly_VP= formular)\n"
   ]
  },
  {
   "cell_type": "code",
   "execution_count": 68,
   "id": "f92a4a5d",
   "metadata": {},
   "outputs": [
    {
     "data": {
      "text/html": [
       "<div>\n",
       "<style scoped>\n",
       "    .dataframe tbody tr th:only-of-type {\n",
       "        vertical-align: middle;\n",
       "    }\n",
       "\n",
       "    .dataframe tbody tr th {\n",
       "        vertical-align: top;\n",
       "    }\n",
       "\n",
       "    .dataframe thead th {\n",
       "        text-align: right;\n",
       "    }\n",
       "</style>\n",
       "<table border=\"1\" class=\"dataframe\">\n",
       "  <thead>\n",
       "    <tr style=\"text-align: right;\">\n",
       "      <th></th>\n",
       "      <th>Monthly_temp</th>\n",
       "      <th>Monthly_RH</th>\n",
       "      <th>Monthly_ET</th>\n",
       "      <th>Monthly_THI</th>\n",
       "      <th>Monthly_VP</th>\n",
       "    </tr>\n",
       "    <tr>\n",
       "      <th>Month</th>\n",
       "      <th></th>\n",
       "      <th></th>\n",
       "      <th></th>\n",
       "      <th></th>\n",
       "      <th></th>\n",
       "    </tr>\n",
       "  </thead>\n",
       "  <tbody>\n",
       "    <tr>\n",
       "      <th>Jan</th>\n",
       "      <td>23.74</td>\n",
       "      <td>68.27</td>\n",
       "      <td>18.99</td>\n",
       "      <td>17.01</td>\n",
       "      <td>29.31</td>\n",
       "    </tr>\n",
       "    <tr>\n",
       "      <th>Feb</th>\n",
       "      <td>25.37</td>\n",
       "      <td>71.93</td>\n",
       "      <td>20.11</td>\n",
       "      <td>19.05</td>\n",
       "      <td>32.31</td>\n",
       "    </tr>\n",
       "    <tr>\n",
       "      <th>Mar</th>\n",
       "      <td>25.94</td>\n",
       "      <td>79.68</td>\n",
       "      <td>20.58</td>\n",
       "      <td>21.47</td>\n",
       "      <td>33.42</td>\n",
       "    </tr>\n",
       "    <tr>\n",
       "      <th>Apr</th>\n",
       "      <td>25.72</td>\n",
       "      <td>85.07</td>\n",
       "      <td>20.50</td>\n",
       "      <td>22.68</td>\n",
       "      <td>32.99</td>\n",
       "    </tr>\n",
       "    <tr>\n",
       "      <th>May</th>\n",
       "      <td>25.11</td>\n",
       "      <td>88.06</td>\n",
       "      <td>20.13</td>\n",
       "      <td>22.91</td>\n",
       "      <td>31.81</td>\n",
       "    </tr>\n",
       "    <tr>\n",
       "      <th>Jun</th>\n",
       "      <td>24.23</td>\n",
       "      <td>89.57</td>\n",
       "      <td>19.56</td>\n",
       "      <td>22.50</td>\n",
       "      <td>30.19</td>\n",
       "    </tr>\n",
       "    <tr>\n",
       "      <th>Jul</th>\n",
       "      <td>23.41</td>\n",
       "      <td>89.99</td>\n",
       "      <td>19.01</td>\n",
       "      <td>21.87</td>\n",
       "      <td>28.74</td>\n",
       "    </tr>\n",
       "    <tr>\n",
       "      <th>Aug</th>\n",
       "      <td>23.21</td>\n",
       "      <td>89.84</td>\n",
       "      <td>18.88</td>\n",
       "      <td>21.65</td>\n",
       "      <td>28.39</td>\n",
       "    </tr>\n",
       "    <tr>\n",
       "      <th>Sep</th>\n",
       "      <td>23.71</td>\n",
       "      <td>89.93</td>\n",
       "      <td>19.21</td>\n",
       "      <td>22.12</td>\n",
       "      <td>29.26</td>\n",
       "    </tr>\n",
       "    <tr>\n",
       "      <th>Oct</th>\n",
       "      <td>24.26</td>\n",
       "      <td>88.77</td>\n",
       "      <td>19.57</td>\n",
       "      <td>22.34</td>\n",
       "      <td>30.24</td>\n",
       "    </tr>\n",
       "    <tr>\n",
       "      <th>Nov</th>\n",
       "      <td>24.41</td>\n",
       "      <td>81.99</td>\n",
       "      <td>19.59</td>\n",
       "      <td>20.81</td>\n",
       "      <td>30.51</td>\n",
       "    </tr>\n",
       "    <tr>\n",
       "      <th>Dec</th>\n",
       "      <td>23.63</td>\n",
       "      <td>72.48</td>\n",
       "      <td>18.97</td>\n",
       "      <td>17.93</td>\n",
       "      <td>29.12</td>\n",
       "    </tr>\n",
       "  </tbody>\n",
       "</table>\n",
       "</div>"
      ],
      "text/plain": [
       "       Monthly_temp  Monthly_RH  Monthly_ET  Monthly_THI  Monthly_VP\n",
       "Month                                                               \n",
       "Jan           23.74       68.27       18.99        17.01       29.31\n",
       "Feb           25.37       71.93       20.11        19.05       32.31\n",
       "Mar           25.94       79.68       20.58        21.47       33.42\n",
       "Apr           25.72       85.07       20.50        22.68       32.99\n",
       "May           25.11       88.06       20.13        22.91       31.81\n",
       "Jun           24.23       89.57       19.56        22.50       30.19\n",
       "Jul           23.41       89.99       19.01        21.87       28.74\n",
       "Aug           23.21       89.84       18.88        21.65       28.39\n",
       "Sep           23.71       89.93       19.21        22.12       29.26\n",
       "Oct           24.26       88.77       19.57        22.34       30.24\n",
       "Nov           24.41       81.99       19.59        20.81       30.51\n",
       "Dec           23.63       72.48       18.97        17.93       29.12"
      ]
     },
     "execution_count": 68,
     "metadata": {},
     "output_type": "execute_result"
    }
   ],
   "source": [
    "monthly_df"
   ]
  },
  {
   "cell_type": "markdown",
   "id": "183fb5ff",
   "metadata": {},
   "source": [
    "#### Calculating Relative strain index"
   ]
  },
  {
   "cell_type": "markdown",
   "id": "4d04a40c",
   "metadata": {},
   "source": [
    "Relative strain index = \n",
    "$\\frac{10.7+0.74\\times(T-35)}{44-0.0075\\times HV}$"
   ]
  },
  {
   "cell_type": "code",
   "execution_count": 69,
   "id": "431edf8d",
   "metadata": {},
   "outputs": [],
   "source": [
    "formular= (10.7+(0.74*(monthly_df[\"Monthly_temp\"]-35))) / (44-(0.0075*monthly_df[\"Monthly_temp\"]*monthly_df[\"Monthly_VP\"]))\n",
    "formular= round(formular,2)\n",
    "\n",
    "monthly_df=monthly_df.assign(Monthly_RSI= formular  )"
   ]
  },
  {
   "cell_type": "code",
   "execution_count": 70,
   "id": "0a2d8fc3",
   "metadata": {},
   "outputs": [
    {
     "data": {
      "text/html": [
       "<div>\n",
       "<style scoped>\n",
       "    .dataframe tbody tr th:only-of-type {\n",
       "        vertical-align: middle;\n",
       "    }\n",
       "\n",
       "    .dataframe tbody tr th {\n",
       "        vertical-align: top;\n",
       "    }\n",
       "\n",
       "    .dataframe thead th {\n",
       "        text-align: right;\n",
       "    }\n",
       "</style>\n",
       "<table border=\"1\" class=\"dataframe\">\n",
       "  <thead>\n",
       "    <tr style=\"text-align: right;\">\n",
       "      <th></th>\n",
       "      <th>Monthly_temp</th>\n",
       "      <th>Monthly_RH</th>\n",
       "      <th>Monthly_ET</th>\n",
       "      <th>Monthly_THI</th>\n",
       "      <th>Monthly_VP</th>\n",
       "      <th>Monthly_RSI</th>\n",
       "    </tr>\n",
       "    <tr>\n",
       "      <th>Month</th>\n",
       "      <th></th>\n",
       "      <th></th>\n",
       "      <th></th>\n",
       "      <th></th>\n",
       "      <th></th>\n",
       "      <th></th>\n",
       "    </tr>\n",
       "  </thead>\n",
       "  <tbody>\n",
       "    <tr>\n",
       "      <th>Jan</th>\n",
       "      <td>23.74</td>\n",
       "      <td>68.27</td>\n",
       "      <td>18.99</td>\n",
       "      <td>17.01</td>\n",
       "      <td>29.31</td>\n",
       "      <td>0.06</td>\n",
       "    </tr>\n",
       "    <tr>\n",
       "      <th>Feb</th>\n",
       "      <td>25.37</td>\n",
       "      <td>71.93</td>\n",
       "      <td>20.11</td>\n",
       "      <td>19.05</td>\n",
       "      <td>32.31</td>\n",
       "      <td>0.09</td>\n",
       "    </tr>\n",
       "    <tr>\n",
       "      <th>Mar</th>\n",
       "      <td>25.94</td>\n",
       "      <td>79.68</td>\n",
       "      <td>20.58</td>\n",
       "      <td>21.47</td>\n",
       "      <td>33.42</td>\n",
       "      <td>0.11</td>\n",
       "    </tr>\n",
       "    <tr>\n",
       "      <th>Apr</th>\n",
       "      <td>25.72</td>\n",
       "      <td>85.07</td>\n",
       "      <td>20.50</td>\n",
       "      <td>22.68</td>\n",
       "      <td>32.99</td>\n",
       "      <td>0.10</td>\n",
       "    </tr>\n",
       "    <tr>\n",
       "      <th>May</th>\n",
       "      <td>25.11</td>\n",
       "      <td>88.06</td>\n",
       "      <td>20.13</td>\n",
       "      <td>22.91</td>\n",
       "      <td>31.81</td>\n",
       "      <td>0.09</td>\n",
       "    </tr>\n",
       "  </tbody>\n",
       "</table>\n",
       "</div>"
      ],
      "text/plain": [
       "       Monthly_temp  Monthly_RH  Monthly_ET  Monthly_THI  Monthly_VP  \\\n",
       "Month                                                                  \n",
       "Jan           23.74       68.27       18.99        17.01       29.31   \n",
       "Feb           25.37       71.93       20.11        19.05       32.31   \n",
       "Mar           25.94       79.68       20.58        21.47       33.42   \n",
       "Apr           25.72       85.07       20.50        22.68       32.99   \n",
       "May           25.11       88.06       20.13        22.91       31.81   \n",
       "\n",
       "       Monthly_RSI  \n",
       "Month               \n",
       "Jan           0.06  \n",
       "Feb           0.09  \n",
       "Mar           0.11  \n",
       "Apr           0.10  \n",
       "May           0.09  "
      ]
     },
     "execution_count": 70,
     "metadata": {},
     "output_type": "execute_result"
    }
   ],
   "source": [
    "monthly_df.head()"
   ]
  },
  {
   "cell_type": "code",
   "execution_count": 71,
   "id": "0ada4e7f",
   "metadata": {},
   "outputs": [],
   "source": [
    "monthly_df.drop(\"Monthly_VP\",axis=1,inplace=True)"
   ]
  },
  {
   "cell_type": "code",
   "execution_count": 72,
   "id": "b1636cc5",
   "metadata": {},
   "outputs": [],
   "source": [
    "monthly_df.to_csv(\"posi/Monthly Table.csv\")"
   ]
  },
  {
   "cell_type": "markdown",
   "id": "2b4b2e03",
   "metadata": {},
   "source": [
    "## Standard Deviation"
   ]
  },
  {
   "cell_type": "code",
   "execution_count": 73,
   "id": "54f94b71",
   "metadata": {},
   "outputs": [
    {
     "data": {
      "text/plain": [
       "0.9297164768211477"
      ]
     },
     "execution_count": 73,
     "metadata": {},
     "output_type": "execute_result"
    }
   ],
   "source": [
    "monthly_df.loc[:,\"Monthly_temp\"].std()"
   ]
  },
  {
   "cell_type": "code",
   "execution_count": 74,
   "id": "daae0568",
   "metadata": {},
   "outputs": [
    {
     "data": {
      "text/plain": [
       "8.046641874381226"
      ]
     },
     "execution_count": 74,
     "metadata": {},
     "output_type": "execute_result"
    }
   ],
   "source": [
    "monthly_df.loc[:,\"Monthly_RH\"].std()"
   ]
  },
  {
   "cell_type": "code",
   "execution_count": 75,
   "id": "93f26adf",
   "metadata": {},
   "outputs": [],
   "source": [
    "array=[\n",
    "    [\"Temperature\",\"Temperature\", \"Relative Humidity\",\"Relative Humidity\", \"ET\", \"ET\", \"THI\",\"THI\",\"RSI(ratio)\",\"RSI(ratio)\"],\n",
    "    [\"Mean\", \"SD\", \"Mean\", \"SD\", \"Mean\", \"SD\", \"Mean\", \"SD\",\"Mean\", \"SD\"]\n",
    "]\n",
    "\n",
    "tuples = list(zip(*array))\n",
    "\n",
    "arrays = pd.MultiIndex.from_tuples(tuples, names=[\"\", \"Station\"])"
   ]
  },
  {
   "cell_type": "code",
   "execution_count": 76,
   "id": "aafde988",
   "metadata": {},
   "outputs": [],
   "source": [
    "df=pd.DataFrame( index=[\"Ondo\"],columns=arrays[:], )"
   ]
  },
  {
   "cell_type": "code",
   "execution_count": 77,
   "id": "29123a4d",
   "metadata": {},
   "outputs": [
    {
     "data": {
      "text/html": [
       "<div>\n",
       "<style scoped>\n",
       "    .dataframe tbody tr th:only-of-type {\n",
       "        vertical-align: middle;\n",
       "    }\n",
       "\n",
       "    .dataframe tbody tr th {\n",
       "        vertical-align: top;\n",
       "    }\n",
       "\n",
       "    .dataframe thead th {\n",
       "        text-align: right;\n",
       "    }\n",
       "</style>\n",
       "<table border=\"1\" class=\"dataframe\">\n",
       "  <thead>\n",
       "    <tr style=\"text-align: right;\">\n",
       "      <th></th>\n",
       "      <th>Monthly_temp</th>\n",
       "      <th>Monthly_RH</th>\n",
       "      <th>Monthly_ET</th>\n",
       "      <th>Monthly_THI</th>\n",
       "      <th>Monthly_RSI</th>\n",
       "    </tr>\n",
       "    <tr>\n",
       "      <th>Month</th>\n",
       "      <th></th>\n",
       "      <th></th>\n",
       "      <th></th>\n",
       "      <th></th>\n",
       "      <th></th>\n",
       "    </tr>\n",
       "  </thead>\n",
       "  <tbody>\n",
       "    <tr>\n",
       "      <th>Jan</th>\n",
       "      <td>23.74</td>\n",
       "      <td>68.27</td>\n",
       "      <td>18.99</td>\n",
       "      <td>17.01</td>\n",
       "      <td>0.06</td>\n",
       "    </tr>\n",
       "    <tr>\n",
       "      <th>Feb</th>\n",
       "      <td>25.37</td>\n",
       "      <td>71.93</td>\n",
       "      <td>20.11</td>\n",
       "      <td>19.05</td>\n",
       "      <td>0.09</td>\n",
       "    </tr>\n",
       "    <tr>\n",
       "      <th>Mar</th>\n",
       "      <td>25.94</td>\n",
       "      <td>79.68</td>\n",
       "      <td>20.58</td>\n",
       "      <td>21.47</td>\n",
       "      <td>0.11</td>\n",
       "    </tr>\n",
       "    <tr>\n",
       "      <th>Apr</th>\n",
       "      <td>25.72</td>\n",
       "      <td>85.07</td>\n",
       "      <td>20.50</td>\n",
       "      <td>22.68</td>\n",
       "      <td>0.10</td>\n",
       "    </tr>\n",
       "    <tr>\n",
       "      <th>May</th>\n",
       "      <td>25.11</td>\n",
       "      <td>88.06</td>\n",
       "      <td>20.13</td>\n",
       "      <td>22.91</td>\n",
       "      <td>0.09</td>\n",
       "    </tr>\n",
       "  </tbody>\n",
       "</table>\n",
       "</div>"
      ],
      "text/plain": [
       "       Monthly_temp  Monthly_RH  Monthly_ET  Monthly_THI  Monthly_RSI\n",
       "Month                                                                \n",
       "Jan           23.74       68.27       18.99        17.01         0.06\n",
       "Feb           25.37       71.93       20.11        19.05         0.09\n",
       "Mar           25.94       79.68       20.58        21.47         0.11\n",
       "Apr           25.72       85.07       20.50        22.68         0.10\n",
       "May           25.11       88.06       20.13        22.91         0.09"
      ]
     },
     "execution_count": 77,
     "metadata": {},
     "output_type": "execute_result"
    }
   ],
   "source": [
    "monthly_df.head()"
   ]
  },
  {
   "cell_type": "code",
   "execution_count": 78,
   "id": "936d32f1",
   "metadata": {},
   "outputs": [],
   "source": [
    "df.loc[\"Ondo\",(\"Temperature\", \"Mean\")]=round(monthly_df.loc[:,\"Monthly_temp\"].mean(),2)\n",
    "df.loc[\"Ondo\",(\"Temperature\", \"SD\")]=round(monthly_df.loc[:,\"Monthly_temp\"].std(),2)\n",
    "\n",
    "df.loc[\"Ondo\",(\"Relative Humidity\", \"Mean\")]=round(monthly_df.loc[:,\"Monthly_RH\"].mean(),2)\n",
    "df.loc[\"Ondo\",(\"Relative Humidity\", \"SD\")]=round(monthly_df.loc[:,\"Monthly_RH\"].std(),2)\n",
    "\n",
    "df.loc[\"Ondo\",(\"ET\", \"Mean\")]=round(monthly_df.loc[:,\"Monthly_ET\"].mean(),2)\n",
    "df.loc[\"Ondo\",(\"ET\", \"SD\")]=round(monthly_df.loc[:,\"Monthly_ET\"].std(),2)\n",
    "\n",
    "df.loc[\"Ondo\",(\"THI\", \"Mean\")]=round(monthly_df.loc[:,\"Monthly_THI\"].mean(),2)\n",
    "df.loc[\"Ondo\",(\"THI\", \"SD\")]=round(monthly_df.loc[:,\"Monthly_THI\"].std(),2)\n",
    "\n",
    "df.loc[\"Ondo\",(\"RSI(ratio)\", \"Mean\")]=round(monthly_df.loc[:,\"Monthly_RSI\"].mean(),2)\n",
    "df.loc[\"Ondo\",(\"RSI(ratio)\", \"SD\")]=round(monthly_df.loc[:,\"Monthly_RSI\"].std(),2)"
   ]
  },
  {
   "cell_type": "code",
   "execution_count": 79,
   "id": "34ce9d9b",
   "metadata": {},
   "outputs": [
    {
     "data": {
      "text/html": [
       "<div>\n",
       "<style scoped>\n",
       "    .dataframe tbody tr th:only-of-type {\n",
       "        vertical-align: middle;\n",
       "    }\n",
       "\n",
       "    .dataframe tbody tr th {\n",
       "        vertical-align: top;\n",
       "    }\n",
       "\n",
       "    .dataframe thead tr th {\n",
       "        text-align: left;\n",
       "    }\n",
       "</style>\n",
       "<table border=\"1\" class=\"dataframe\">\n",
       "  <thead>\n",
       "    <tr>\n",
       "      <th></th>\n",
       "      <th colspan=\"2\" halign=\"left\">Temperature</th>\n",
       "      <th colspan=\"2\" halign=\"left\">Relative Humidity</th>\n",
       "      <th colspan=\"2\" halign=\"left\">ET</th>\n",
       "      <th colspan=\"2\" halign=\"left\">THI</th>\n",
       "      <th colspan=\"2\" halign=\"left\">RSI(ratio)</th>\n",
       "    </tr>\n",
       "    <tr>\n",
       "      <th>Station</th>\n",
       "      <th>Mean</th>\n",
       "      <th>SD</th>\n",
       "      <th>Mean</th>\n",
       "      <th>SD</th>\n",
       "      <th>Mean</th>\n",
       "      <th>SD</th>\n",
       "      <th>Mean</th>\n",
       "      <th>SD</th>\n",
       "      <th>Mean</th>\n",
       "      <th>SD</th>\n",
       "    </tr>\n",
       "  </thead>\n",
       "  <tbody>\n",
       "    <tr>\n",
       "      <th>Ondo</th>\n",
       "      <td>24.4</td>\n",
       "      <td>0.93</td>\n",
       "      <td>82.96</td>\n",
       "      <td>8.05</td>\n",
       "      <td>19.59</td>\n",
       "      <td>0.61</td>\n",
       "      <td>21.03</td>\n",
       "      <td>1.96</td>\n",
       "      <td>0.07</td>\n",
       "      <td>0.02</td>\n",
       "    </tr>\n",
       "  </tbody>\n",
       "</table>\n",
       "</div>"
      ],
      "text/plain": [
       "        Temperature       Relative Humidity           ET          THI        \\\n",
       "Station        Mean    SD              Mean    SD   Mean    SD   Mean    SD   \n",
       "Ondo           24.4  0.93             82.96  8.05  19.59  0.61  21.03  1.96   \n",
       "\n",
       "        RSI(ratio)        \n",
       "Station       Mean    SD  \n",
       "Ondo          0.07  0.02  "
      ]
     },
     "execution_count": 79,
     "metadata": {},
     "output_type": "execute_result"
    }
   ],
   "source": [
    "df"
   ]
  },
  {
   "cell_type": "code",
   "execution_count": 80,
   "id": "5c38289b",
   "metadata": {},
   "outputs": [],
   "source": [
    "df.to_csv(\"posi/Monthly_Mean_SD.csv\")"
   ]
  },
  {
   "cell_type": "markdown",
   "id": "0bb4be66",
   "metadata": {},
   "source": [
    "## VISUALIZATIONS "
   ]
  },
  {
   "cell_type": "code",
   "execution_count": 81,
   "id": "e09ebb38",
   "metadata": {},
   "outputs": [
    {
     "name": "stderr",
     "output_type": "stream",
     "text": [
      "C:\\Users\\USER\\anaconda3\\lib\\site-packages\\scipy\\__init__.py:138: UserWarning:\n",
      "\n",
      "A NumPy version >=1.16.5 and <1.23.0 is required for this version of SciPy (detected version 1.24.2)\n",
      "\n"
     ]
    },
    {
     "data": {
      "text/html": [
       "        <script type=\"text/javascript\">\n",
       "        window.PlotlyConfig = {MathJaxConfig: 'local'};\n",
       "        if (window.MathJax) {MathJax.Hub.Config({SVG: {font: \"STIX-Web\"}});}\n",
       "        if (typeof require !== 'undefined') {\n",
       "        require.undef(\"plotly\");\n",
       "        requirejs.config({\n",
       "            paths: {\n",
       "                'plotly': ['https://cdn.plot.ly/plotly-2.9.0.min']\n",
       "            }\n",
       "        });\n",
       "        require(['plotly'], function(Plotly) {\n",
       "            window._Plotly = Plotly;\n",
       "        });\n",
       "        }\n",
       "        </script>\n",
       "        "
      ]
     },
     "metadata": {},
     "output_type": "display_data"
    },
    {
     "data": {
      "text/html": [
       "        <script type=\"text/javascript\">\n",
       "        window.PlotlyConfig = {MathJaxConfig: 'local'};\n",
       "        if (window.MathJax) {MathJax.Hub.Config({SVG: {font: \"STIX-Web\"}});}\n",
       "        if (typeof require !== 'undefined') {\n",
       "        require.undef(\"plotly\");\n",
       "        requirejs.config({\n",
       "            paths: {\n",
       "                'plotly': ['https://cdn.plot.ly/plotly-2.9.0.min']\n",
       "            }\n",
       "        });\n",
       "        require(['plotly'], function(Plotly) {\n",
       "            window._Plotly = Plotly;\n",
       "        });\n",
       "        }\n",
       "        </script>\n",
       "        "
      ]
     },
     "metadata": {},
     "output_type": "display_data"
    }
   ],
   "source": [
    "import chart_studio.plotly as py\n",
    "import cufflinks as cf\n",
    "import seaborn as sns\n",
    "import plotly.express as px\n",
    "import plotly.graph_objects as go\n",
    "%matplotlib inline\n",
    "from plotly.offline import download_plotlyjs, init_notebook_mode, plot, iplot\n",
    "init_notebook_mode(connected=True)\n",
    "cf.go_offline()\n",
    "import matplotlib.pyplot as plt\n",
    "import numpy as np"
   ]
  },
  {
   "cell_type": "code",
   "execution_count": 82,
   "id": "84d2cb37",
   "metadata": {},
   "outputs": [
    {
     "data": {
      "text/html": [
       "<div>\n",
       "<style scoped>\n",
       "    .dataframe tbody tr th:only-of-type {\n",
       "        vertical-align: middle;\n",
       "    }\n",
       "\n",
       "    .dataframe tbody tr th {\n",
       "        vertical-align: top;\n",
       "    }\n",
       "\n",
       "    .dataframe thead th {\n",
       "        text-align: right;\n",
       "    }\n",
       "</style>\n",
       "<table border=\"1\" class=\"dataframe\">\n",
       "  <thead>\n",
       "    <tr style=\"text-align: right;\">\n",
       "      <th></th>\n",
       "      <th>Monthly_temp</th>\n",
       "      <th>Monthly_RH</th>\n",
       "      <th>Monthly_ET</th>\n",
       "      <th>Monthly_THI</th>\n",
       "      <th>Monthly_RSI</th>\n",
       "    </tr>\n",
       "    <tr>\n",
       "      <th>Month</th>\n",
       "      <th></th>\n",
       "      <th></th>\n",
       "      <th></th>\n",
       "      <th></th>\n",
       "      <th></th>\n",
       "    </tr>\n",
       "  </thead>\n",
       "  <tbody>\n",
       "    <tr>\n",
       "      <th>Jan</th>\n",
       "      <td>23.74</td>\n",
       "      <td>68.27</td>\n",
       "      <td>18.99</td>\n",
       "      <td>17.01</td>\n",
       "      <td>0.06</td>\n",
       "    </tr>\n",
       "    <tr>\n",
       "      <th>Feb</th>\n",
       "      <td>25.37</td>\n",
       "      <td>71.93</td>\n",
       "      <td>20.11</td>\n",
       "      <td>19.05</td>\n",
       "      <td>0.09</td>\n",
       "    </tr>\n",
       "    <tr>\n",
       "      <th>Mar</th>\n",
       "      <td>25.94</td>\n",
       "      <td>79.68</td>\n",
       "      <td>20.58</td>\n",
       "      <td>21.47</td>\n",
       "      <td>0.11</td>\n",
       "    </tr>\n",
       "    <tr>\n",
       "      <th>Apr</th>\n",
       "      <td>25.72</td>\n",
       "      <td>85.07</td>\n",
       "      <td>20.50</td>\n",
       "      <td>22.68</td>\n",
       "      <td>0.10</td>\n",
       "    </tr>\n",
       "    <tr>\n",
       "      <th>May</th>\n",
       "      <td>25.11</td>\n",
       "      <td>88.06</td>\n",
       "      <td>20.13</td>\n",
       "      <td>22.91</td>\n",
       "      <td>0.09</td>\n",
       "    </tr>\n",
       "  </tbody>\n",
       "</table>\n",
       "</div>"
      ],
      "text/plain": [
       "       Monthly_temp  Monthly_RH  Monthly_ET  Monthly_THI  Monthly_RSI\n",
       "Month                                                                \n",
       "Jan           23.74       68.27       18.99        17.01         0.06\n",
       "Feb           25.37       71.93       20.11        19.05         0.09\n",
       "Mar           25.94       79.68       20.58        21.47         0.11\n",
       "Apr           25.72       85.07       20.50        22.68         0.10\n",
       "May           25.11       88.06       20.13        22.91         0.09"
      ]
     },
     "execution_count": 82,
     "metadata": {},
     "output_type": "execute_result"
    }
   ],
   "source": [
    "monthly_df.head()"
   ]
  },
  {
   "cell_type": "code",
   "execution_count": 83,
   "id": "ec1e86eb",
   "metadata": {},
   "outputs": [
    {
     "data": {
      "image/png": "[encoded data removed]",
      "text/plain": [
       "<Figure size 720x576 with 2 Axes>"
      ]
     },
     "metadata": {
      "needs_background": "light"
     },
     "output_type": "display_data"
    }
   ],
   "source": [
    "plt.figure(figsize=(10,8))\n",
    "sns.heatmap(monthly_df.corr(), cmap=\"crest\", annot=True)\n",
    "plt.tight_layout()"
   ]
  },
  {
   "cell_type": "markdown",
   "id": "895e1077",
   "metadata": {},
   "source": [
    "The correlation coefficient is measured on a scale that varies from + 1 through 0 to – 1. Complete correlation between two variables is expressed by either + 1 or -1. When one variable increases as the other increases the correlation is positive; when one decreases as the other increases it is negative. Complete absence of correlation is represented by 0. \n",
    "\n",
    "- Temperature and  Effective temperature correlates postively\n",
    "- RSI and Temperature ccorrelates postively\n",
    "- RSI and Effective temperature ccorrelates postively\n",
    "\n",
    "- Temperature and Relative humidity correlates negatively. Increase in one variable cause decrease in other\n",
    "- RSI and Relative humidity humidity correlates negatively"
   ]
  },
  {
   "cell_type": "code",
   "execution_count": 84,
   "id": "1db3ab71",
   "metadata": {},
   "outputs": [],
   "source": [
    "monthly_df=monthly_df.reset_index()"
   ]
  },
  {
   "cell_type": "code",
   "execution_count": 85,
   "id": "8aaafdc4",
   "metadata": {},
   "outputs": [
    {
     "data": {
      "text/html": [
       "<div>\n",
       "<style scoped>\n",
       "    .dataframe tbody tr th:only-of-type {\n",
       "        vertical-align: middle;\n",
       "    }\n",
       "\n",
       "    .dataframe tbody tr th {\n",
       "        vertical-align: top;\n",
       "    }\n",
       "\n",
       "    .dataframe thead th {\n",
       "        text-align: right;\n",
       "    }\n",
       "</style>\n",
       "<table border=\"1\" class=\"dataframe\">\n",
       "  <thead>\n",
       "    <tr style=\"text-align: right;\">\n",
       "      <th></th>\n",
       "      <th>Mean Temperature (◦C)</th>\n",
       "      <th>Mean Relative Humidity (%)</th>\n",
       "      <th>ET (◦C)</th>\n",
       "      <th>THI (◦C)</th>\n",
       "      <th>RSI (ratio)</th>\n",
       "    </tr>\n",
       "    <tr>\n",
       "      <th>Year</th>\n",
       "      <th></th>\n",
       "      <th></th>\n",
       "      <th></th>\n",
       "      <th></th>\n",
       "      <th></th>\n",
       "    </tr>\n",
       "  </thead>\n",
       "  <tbody>\n",
       "    <tr>\n",
       "      <th>1981</th>\n",
       "      <td>23.93</td>\n",
       "      <td>83.38</td>\n",
       "      <td>19.29</td>\n",
       "      <td>20.75</td>\n",
       "      <td>0.06</td>\n",
       "    </tr>\n",
       "    <tr>\n",
       "      <th>1982</th>\n",
       "      <td>23.58</td>\n",
       "      <td>83.88</td>\n",
       "      <td>19.06</td>\n",
       "      <td>20.58</td>\n",
       "      <td>0.06</td>\n",
       "    </tr>\n",
       "    <tr>\n",
       "      <th>1983</th>\n",
       "      <td>24.05</td>\n",
       "      <td>80.50</td>\n",
       "      <td>19.33</td>\n",
       "      <td>20.16</td>\n",
       "      <td>0.07</td>\n",
       "    </tr>\n",
       "    <tr>\n",
       "      <th>1984</th>\n",
       "      <td>23.84</td>\n",
       "      <td>81.44</td>\n",
       "      <td>19.21</td>\n",
       "      <td>20.22</td>\n",
       "      <td>0.06</td>\n",
       "    </tr>\n",
       "    <tr>\n",
       "      <th>1985</th>\n",
       "      <td>23.83</td>\n",
       "      <td>82.31</td>\n",
       "      <td>19.21</td>\n",
       "      <td>20.41</td>\n",
       "      <td>0.06</td>\n",
       "    </tr>\n",
       "  </tbody>\n",
       "</table>\n",
       "</div>"
      ],
      "text/plain": [
       "      Mean Temperature (◦C)  Mean Relative Humidity (%)  ET (◦C)  THI (◦C)  \\\n",
       "Year                                                                         \n",
       "1981                  23.93                       83.38    19.29     20.75   \n",
       "1982                  23.58                       83.88    19.06     20.58   \n",
       "1983                  24.05                       80.50    19.33     20.16   \n",
       "1984                  23.84                       81.44    19.21     20.22   \n",
       "1985                  23.83                       82.31    19.21     20.41   \n",
       "\n",
       "      RSI (ratio)  \n",
       "Year               \n",
       "1981         0.06  \n",
       "1982         0.06  \n",
       "1983         0.07  \n",
       "1984         0.06  \n",
       "1985         0.06  "
      ]
     },
     "execution_count": 85,
     "metadata": {},
     "output_type": "execute_result"
    }
   ],
   "source": [
    "new_df.head()"
   ]
  },
  {
   "cell_type": "code",
   "execution_count": 86,
   "id": "228c95dd",
   "metadata": {},
   "outputs": [
    {
     "data": {
      "text/plain": [
       "<AxesSubplot:>"
      ]
     },
     "execution_count": 86,
     "metadata": {},
     "output_type": "execute_result"
    },
    {
     "data": {
      "image/png": "[encoded data removed]",
      "text/plain": [
       "<Figure size 720x576 with 2 Axes>"
      ]
     },
     "metadata": {
      "needs_background": "light"
     },
     "output_type": "display_data"
    }
   ],
   "source": [
    "plt.figure(figsize=(10,8))\n",
    "sns.heatmap(new_df.corr(),annot=True,cmap=\"crest\")"
   ]
  },
  {
   "cell_type": "markdown",
   "id": "e8d3caa2",
   "metadata": {},
   "source": [
    "The correlation coefficient is measured on a scale that varies from + 1 through 0 to – 1. Complete correlation between two variables is expressed by either + 1 or -1. When one variable increases as the other increases the correlation is positive; when one decreases as the other increases it is negative. Complete absence of correlation is represented by 0. \n",
    "\n",
    "- Temperature and  Effective temperature correlates postively\n",
    "- RSI and Temperature ccorrelates postively\n",
    "- RSI and Effective temperature ccorrelates postively\n",
    "\n",
    "- Temperature and Relative humidity correlates negatively. Increase in one variable cause decrease in other\n",
    "- RSI and Relative humidity humidity correlates negatively"
   ]
  },
  {
   "cell_type": "code",
   "execution_count": 87,
   "id": "aa335a2e",
   "metadata": {},
   "outputs": [],
   "source": [
    "new_df= new_df.reset_index()"
   ]
  },
  {
   "cell_type": "code",
   "execution_count": 88,
   "id": "3de54540",
   "metadata": {},
   "outputs": [
    {
     "data": {
      "text/plain": [
       "['Solarize_Light2',\n",
       " '_classic_test_patch',\n",
       " 'bmh',\n",
       " 'classic',\n",
       " 'dark_background',\n",
       " 'fast',\n",
       " 'fivethirtyeight',\n",
       " 'ggplot',\n",
       " 'grayscale',\n",
       " 'seaborn',\n",
       " 'seaborn-bright',\n",
       " 'seaborn-colorblind',\n",
       " 'seaborn-dark',\n",
       " 'seaborn-dark-palette',\n",
       " 'seaborn-darkgrid',\n",
       " 'seaborn-deep',\n",
       " 'seaborn-muted',\n",
       " 'seaborn-notebook',\n",
       " 'seaborn-paper',\n",
       " 'seaborn-pastel',\n",
       " 'seaborn-poster',\n",
       " 'seaborn-talk',\n",
       " 'seaborn-ticks',\n",
       " 'seaborn-white',\n",
       " 'seaborn-whitegrid',\n",
       " 'tableau-colorblind10']"
      ]
     },
     "execution_count": 88,
     "metadata": {},
     "output_type": "execute_result"
    }
   ],
   "source": [
    "plt.style.available"
   ]
  },
  {
   "cell_type": "code",
   "execution_count": 89,
   "id": "957cbde1",
   "metadata": {},
   "outputs": [],
   "source": [
    "plt.style.use('seaborn-whitegrid')"
   ]
  },
  {
   "cell_type": "code",
   "execution_count": 90,
   "id": "5abc8488",
   "metadata": {},
   "outputs": [
    {
     "data": {
      "text/html": [
       "<div>\n",
       "<style scoped>\n",
       "    .dataframe tbody tr th:only-of-type {\n",
       "        vertical-align: middle;\n",
       "    }\n",
       "\n",
       "    .dataframe tbody tr th {\n",
       "        vertical-align: top;\n",
       "    }\n",
       "\n",
       "    .dataframe thead th {\n",
       "        text-align: right;\n",
       "    }\n",
       "</style>\n",
       "<table border=\"1\" class=\"dataframe\">\n",
       "  <thead>\n",
       "    <tr style=\"text-align: right;\">\n",
       "      <th></th>\n",
       "      <th>Year</th>\n",
       "      <th>Mean Temperature (◦C)</th>\n",
       "      <th>Mean Relative Humidity (%)</th>\n",
       "      <th>ET (◦C)</th>\n",
       "      <th>THI (◦C)</th>\n",
       "      <th>RSI (ratio)</th>\n",
       "    </tr>\n",
       "  </thead>\n",
       "  <tbody>\n",
       "    <tr>\n",
       "      <th>0</th>\n",
       "      <td>1981</td>\n",
       "      <td>23.93</td>\n",
       "      <td>83.38</td>\n",
       "      <td>19.29</td>\n",
       "      <td>20.75</td>\n",
       "      <td>0.06</td>\n",
       "    </tr>\n",
       "    <tr>\n",
       "      <th>1</th>\n",
       "      <td>1982</td>\n",
       "      <td>23.58</td>\n",
       "      <td>83.88</td>\n",
       "      <td>19.06</td>\n",
       "      <td>20.58</td>\n",
       "      <td>0.06</td>\n",
       "    </tr>\n",
       "    <tr>\n",
       "      <th>2</th>\n",
       "      <td>1983</td>\n",
       "      <td>24.05</td>\n",
       "      <td>80.50</td>\n",
       "      <td>19.33</td>\n",
       "      <td>20.16</td>\n",
       "      <td>0.07</td>\n",
       "    </tr>\n",
       "    <tr>\n",
       "      <th>3</th>\n",
       "      <td>1984</td>\n",
       "      <td>23.84</td>\n",
       "      <td>81.44</td>\n",
       "      <td>19.21</td>\n",
       "      <td>20.22</td>\n",
       "      <td>0.06</td>\n",
       "    </tr>\n",
       "    <tr>\n",
       "      <th>4</th>\n",
       "      <td>1985</td>\n",
       "      <td>23.83</td>\n",
       "      <td>82.31</td>\n",
       "      <td>19.21</td>\n",
       "      <td>20.41</td>\n",
       "      <td>0.06</td>\n",
       "    </tr>\n",
       "  </tbody>\n",
       "</table>\n",
       "</div>"
      ],
      "text/plain": [
       "   Year  Mean Temperature (◦C)  Mean Relative Humidity (%)  ET (◦C)  THI (◦C)  \\\n",
       "0  1981                  23.93                       83.38    19.29     20.75   \n",
       "1  1982                  23.58                       83.88    19.06     20.58   \n",
       "2  1983                  24.05                       80.50    19.33     20.16   \n",
       "3  1984                  23.84                       81.44    19.21     20.22   \n",
       "4  1985                  23.83                       82.31    19.21     20.41   \n",
       "\n",
       "   RSI (ratio)  \n",
       "0         0.06  \n",
       "1         0.06  \n",
       "2         0.07  \n",
       "3         0.06  \n",
       "4         0.06  "
      ]
     },
     "execution_count": 90,
     "metadata": {},
     "output_type": "execute_result"
    }
   ],
   "source": [
    "new_df.head()"
   ]
  },
  {
   "cell_type": "code",
   "execution_count": 91,
   "id": "c21c05fc",
   "metadata": {},
   "outputs": [
    {
     "data": {
      "image/png": "[encoded data removed]",
      "text/plain": [
       "<Figure size 864x432 with 1 Axes>"
      ]
     },
     "metadata": {},
     "output_type": "display_data"
    }
   ],
   "source": [
    "plt.figure(figsize=(12,6))\n",
    "\n",
    "plt.bar(new_df[\"Year\"],new_df[\"Mean Temperature (◦C)\"],width= 0.45,color=\"#444444\",linestyle='--')\n",
    "plt.title(\"Akure\")\n",
    "plt.xlabel(\"Year\")\n",
    "plt.ylabel(\"Mean Temperature (◦C) \")\n",
    "\n",
    "plt.tight_layout()\n",
    "\n",
    "\n"
   ]
  },
  {
   "cell_type": "code",
   "execution_count": 92,
   "id": "45180d49",
   "metadata": {},
   "outputs": [
    {
     "data": {
      "image/png": "[encoded data removed]",
      "text/plain": [
       "<Figure size 864x576 with 1 Axes>"
      ]
     },
     "metadata": {},
     "output_type": "display_data"
    }
   ],
   "source": [
    "plt.figure(figsize=(12,8))\n",
    "\n",
    "\n",
    "sns.lineplot(data=new_df, x=\"Year\", y=\"Mean Temperature (◦C)\",marker=\"o\", dashes=False)\n",
    "plt.title(\"Annual Mean Temperature, Akure\")\n",
    "plt.xlabel(\"Year\")\n",
    "plt.ylabel(\"Mean Temperature (◦C) \")\n",
    "plt.legend([\"Mean Temperature\"])\n",
    "\n",
    "plt.tight_layout()"
   ]
  },
  {
   "cell_type": "code",
   "execution_count": 93,
   "id": "2b9e29bd",
   "metadata": {},
   "outputs": [
    {
     "name": "stderr",
     "output_type": "stream",
     "text": [
      "No handles with labels found to put in legend.\n"
     ]
    },
    {
     "data": {
      "text/plain": [
       "<matplotlib.legend.Legend at 0x25098ac0e20>"
      ]
     },
     "execution_count": 93,
     "metadata": {},
     "output_type": "execute_result"
    },
    {
     "data": {
      "image/png": "[encoded data removed]",
      "text/plain": [
       "<Figure size 864x432 with 1 Axes>"
      ]
     },
     "metadata": {},
     "output_type": "display_data"
    }
   ],
   "source": [
    "plt.figure(figsize=(12,6))\n",
    "\n",
    "plt.bar(monthly_df[\"Month\"],monthly_df[\"Monthly_temp\"],width= 0.45,color=\"#444444\",linestyle='--')\n",
    "plt.title(\"Monthly Mean Temperature Akure\")\n",
    "plt.xlabel(\"Month\")\n",
    "plt.ylabel(\"Mean Temperature (◦C) \")\n",
    "\n",
    "plt.tight_layout()\n",
    "plt.legend()"
   ]
  },
  {
   "cell_type": "code",
   "execution_count": 94,
   "id": "7d30f9a3",
   "metadata": {},
   "outputs": [
    {
     "data": {
      "text/plain": [
       "<matplotlib.legend.Legend at 0x25098b250d0>"
      ]
     },
     "execution_count": 94,
     "metadata": {},
     "output_type": "execute_result"
    },
    {
     "data": {
      "image/png": "[encoded data removed]",
      "text/plain": [
       "<Figure size 864x576 with 1 Axes>"
      ]
     },
     "metadata": {},
     "output_type": "display_data"
    }
   ],
   "source": [
    "plt.figure(figsize=(12,8))\n",
    "\n",
    "\n",
    "plt.plot(monthly_df[\"Month\"],monthly_df[\"Monthly_temp\"],color=\"#444444\",linestyle='-', marker='o')\n",
    "plt.title(\"Monthly Mean Temperature Akure\")\n",
    "plt.xlabel(\"Month\")\n",
    "plt.ylabel(\"Mean Temperature (◦C) \")\n",
    "\n",
    "plt.tight_layout()\n",
    "plt.legend([\"Mean Temperature\"])"
   ]
  },
  {
   "cell_type": "code",
   "execution_count": 95,
   "id": "a4a4598a",
   "metadata": {},
   "outputs": [
    {
     "data": {
      "image/png": "[encoded data removed]",
      "text/plain": [
       "<Figure size 864x576 with 1 Axes>"
      ]
     },
     "metadata": {},
     "output_type": "display_data"
    }
   ],
   "source": [
    "plt.figure(figsize=(12,8))\n",
    "\n",
    "\n",
    "sns.lineplot(data=new_df, x=\"Year\", y=\"Mean Relative Humidity (%)\",marker=\"o\", dashes=False)\n",
    "plt.title(\"Annual Mean Relative Humidity, Akure\")\n",
    "plt.xlabel(\"Year\")\n",
    "plt.ylabel(\"Mean Relative Humidity (%) \")\n",
    "plt.legend([\"Mean Relative Humidity\"])\n",
    "\n",
    "plt.tight_layout()"
   ]
  },
  {
   "cell_type": "code",
   "execution_count": 96,
   "id": "eb83ec11",
   "metadata": {},
   "outputs": [
    {
     "data": {
      "text/plain": [
       "<matplotlib.legend.Legend at 0x250986ba670>"
      ]
     },
     "execution_count": 96,
     "metadata": {},
     "output_type": "execute_result"
    },
    {
     "data": {
      "image/png": "[encoded data removed]",
      "text/plain": [
       "<Figure size 864x576 with 2 Axes>"
      ]
     },
     "metadata": {},
     "output_type": "display_data"
    }
   ],
   "source": [
    "plt.style.use('seaborn-whitegrid')\n",
    "\n",
    "x = np.arange(12)\n",
    "width= 0.2\n",
    "\n",
    "\n",
    "fig, ax1 = plt.subplots(figsize=(12, 8)) \n",
    "\n",
    "ax1.set_xlabel('Month') \n",
    "plot1=ax1.plot(x-width, monthly_df[\"Monthly_temp\"],color = '#e57872', label=\"Mean Temperature (◦C)\",linestyle='-', marker='o')\n",
    "\n",
    "ax1.set_ylabel(\"Mean Temperature (◦C)\")\n",
    "\n",
    "ax2 = ax1.twinx() \n",
    "  \n",
    "\n",
    "plot2=ax2.plot(x,  monthly_df[\"Monthly_RH\"], color = '#2e7d9e', label=\"Relative Humidity(%)\", linestyle='-', marker='o') \n",
    "ax2.set_ylabel('Relative Humidity(%)') \n",
    "\n",
    "plt.title(\"Akure\")\n",
    "plt.xticks(x, [\"JAN\",\"FEB\",\"MAR\",\"APR\",\"MAY\",\"JUN\",\"JUL\",\"AUG\",\"SEP\",\"OCT\",\"NOV\",\"DEC\"])\n",
    "\n",
    "ax1.legend(loc=2)\n",
    "\n",
    "ax2.legend(loc=1)\n",
    "\n",
    "\n",
    "\n",
    "\n",
    "\n"
   ]
  },
  {
   "cell_type": "code",
   "execution_count": 97,
   "id": "9a4a8331",
   "metadata": {},
   "outputs": [
    {
     "data": {
      "text/html": [
       "<div>\n",
       "<style scoped>\n",
       "    .dataframe tbody tr th:only-of-type {\n",
       "        vertical-align: middle;\n",
       "    }\n",
       "\n",
       "    .dataframe tbody tr th {\n",
       "        vertical-align: top;\n",
       "    }\n",
       "\n",
       "    .dataframe thead th {\n",
       "        text-align: right;\n",
       "    }\n",
       "</style>\n",
       "<table border=\"1\" class=\"dataframe\">\n",
       "  <thead>\n",
       "    <tr style=\"text-align: right;\">\n",
       "      <th></th>\n",
       "      <th>Year</th>\n",
       "      <th>Mean Temperature (◦C)</th>\n",
       "      <th>Mean Relative Humidity (%)</th>\n",
       "      <th>ET (◦C)</th>\n",
       "      <th>THI (◦C)</th>\n",
       "      <th>RSI (ratio)</th>\n",
       "    </tr>\n",
       "  </thead>\n",
       "  <tbody>\n",
       "    <tr>\n",
       "      <th>0</th>\n",
       "      <td>1981</td>\n",
       "      <td>23.93</td>\n",
       "      <td>83.38</td>\n",
       "      <td>19.29</td>\n",
       "      <td>20.75</td>\n",
       "      <td>0.06</td>\n",
       "    </tr>\n",
       "    <tr>\n",
       "      <th>1</th>\n",
       "      <td>1982</td>\n",
       "      <td>23.58</td>\n",
       "      <td>83.88</td>\n",
       "      <td>19.06</td>\n",
       "      <td>20.58</td>\n",
       "      <td>0.06</td>\n",
       "    </tr>\n",
       "    <tr>\n",
       "      <th>2</th>\n",
       "      <td>1983</td>\n",
       "      <td>24.05</td>\n",
       "      <td>80.50</td>\n",
       "      <td>19.33</td>\n",
       "      <td>20.16</td>\n",
       "      <td>0.07</td>\n",
       "    </tr>\n",
       "    <tr>\n",
       "      <th>3</th>\n",
       "      <td>1984</td>\n",
       "      <td>23.84</td>\n",
       "      <td>81.44</td>\n",
       "      <td>19.21</td>\n",
       "      <td>20.22</td>\n",
       "      <td>0.06</td>\n",
       "    </tr>\n",
       "    <tr>\n",
       "      <th>4</th>\n",
       "      <td>1985</td>\n",
       "      <td>23.83</td>\n",
       "      <td>82.31</td>\n",
       "      <td>19.21</td>\n",
       "      <td>20.41</td>\n",
       "      <td>0.06</td>\n",
       "    </tr>\n",
       "  </tbody>\n",
       "</table>\n",
       "</div>"
      ],
      "text/plain": [
       "   Year  Mean Temperature (◦C)  Mean Relative Humidity (%)  ET (◦C)  THI (◦C)  \\\n",
       "0  1981                  23.93                       83.38    19.29     20.75   \n",
       "1  1982                  23.58                       83.88    19.06     20.58   \n",
       "2  1983                  24.05                       80.50    19.33     20.16   \n",
       "3  1984                  23.84                       81.44    19.21     20.22   \n",
       "4  1985                  23.83                       82.31    19.21     20.41   \n",
       "\n",
       "   RSI (ratio)  \n",
       "0         0.06  \n",
       "1         0.06  \n",
       "2         0.07  \n",
       "3         0.06  \n",
       "4         0.06  "
      ]
     },
     "execution_count": 97,
     "metadata": {},
     "output_type": "execute_result"
    }
   ],
   "source": [
    "new_df.head()"
   ]
  },
  {
   "cell_type": "code",
   "execution_count": 98,
   "id": "14193d05",
   "metadata": {},
   "outputs": [
    {
     "data": {
      "text/plain": [
       "<matplotlib.legend.Legend at 0x25098c10460>"
      ]
     },
     "execution_count": 98,
     "metadata": {},
     "output_type": "execute_result"
    },
    {
     "data": {
      "image/png": "[encoded data removed]",
      "text/plain": [
       "<Figure size 864x576 with 2 Axes>"
      ]
     },
     "metadata": {},
     "output_type": "display_data"
    }
   ],
   "source": [
    "plt.style.use('seaborn-whitegrid')\n",
    "\n",
    "x = np.arange(12)\n",
    "width= 0.2\n",
    "\n",
    "\n",
    "fig, ax1 = plt.subplots(figsize=(12, 8)) \n",
    "\n",
    "ax1.set_xlabel('Month') \n",
    "plot1=ax1.bar(x-width, monthly_df[\"Monthly_temp\"], width=width,color = '#e57872', label=\"Mean Temperature (◦C)\")\n",
    "\n",
    "ax1.set_ylabel(\"Mean Temperature (◦C)\")\n",
    "\n",
    "ax2 = ax1.twinx() \n",
    "  \n",
    "\n",
    "plot2=ax2.bar(x,  monthly_df[\"Monthly_RH\"],width=width, color = '#2e7d9e', label=\"Relative Humidity(%)\") \n",
    "ax2.set_ylabel('Relative Humidity(%)') \n",
    "\n",
    "plt.title(\"Akure\")\n",
    "plt.xticks(x, [\"JAN\",\"FEB\",\"MAR\",\"APR\",\"MAY\",\"JUN\",\"JUL\",\"AUG\",\"SEP\",\"OCT\",\"NOV\",\"DEC\"])\n",
    "\n",
    "ax1.legend(loc=2)\n",
    "\n",
    "ax2.legend(loc=1)\n",
    "\n",
    "\n",
    "\n",
    "\n",
    "\n"
   ]
  },
  {
   "cell_type": "markdown",
   "id": "b4a9a94a",
   "metadata": {},
   "source": [
    "## Linear Trend"
   ]
  },
  {
   "cell_type": "code",
   "execution_count": 99,
   "id": "83de3702",
   "metadata": {},
   "outputs": [
    {
     "data": {
      "text/plain": [
       "Text(1.1750000000000043, 0.5, 'Temperature (◦C) ')"
      ]
     },
     "execution_count": 99,
     "metadata": {},
     "output_type": "execute_result"
    },
    {
     "data": {
      "text/plain": [
       "<Figure size 864x576 with 0 Axes>"
      ]
     },
     "metadata": {},
     "output_type": "display_data"
    },
    {
     "data": {
      "image/png": "[encoded data removed]",
      "text/plain": [
       "<Figure size 432x432 with 1 Axes>"
      ]
     },
     "metadata": {},
     "output_type": "display_data"
    }
   ],
   "source": [
    "plt.figure(figsize=(12,8))\n",
    "\n",
    "sns.lmplot(data=monthly_df, x=\"Monthly_ET\", y=\"Monthly_temp\", height=6)\n",
    "plt.title(\"Akure\")\n",
    "plt.xlabel(\"Effective Temperature (◦C)\")\n",
    "plt.ylabel(\"Temperature (◦C) \")\n"
   ]
  },
  {
   "cell_type": "code",
   "execution_count": 100,
   "id": "3caf770e",
   "metadata": {},
   "outputs": [
    {
     "data": {
      "text/plain": [
       "Text(9.550000000000004, 0.5, 'Temperature-Humidity Index (◦C) ')"
      ]
     },
     "execution_count": 100,
     "metadata": {},
     "output_type": "execute_result"
    },
    {
     "data": {
      "text/plain": [
       "<Figure size 864x576 with 0 Axes>"
      ]
     },
     "metadata": {},
     "output_type": "display_data"
    },
    {
     "data": {
      "image/png": "[encoded data removed]",
      "text/plain": [
       "<Figure size 432x432 with 1 Axes>"
      ]
     },
     "metadata": {},
     "output_type": "display_data"
    }
   ],
   "source": [
    "plt.figure(figsize=(12,8))\n",
    "\n",
    "sns.lmplot(data=monthly_df, x=\"Monthly_RH\", y=\"Monthly_THI\",height=6)\n",
    "plt.title(\"Akure\")\n",
    "plt.xlabel(\"Relative Humidity (%)\")\n",
    "plt.ylabel(\"Temperature-Humidity Index (◦C) \")"
   ]
  },
  {
   "cell_type": "code",
   "execution_count": 101,
   "id": "3ccc16bf",
   "metadata": {},
   "outputs": [
    {
     "data": {
      "text/plain": [
       "Text(1.1750000000000043, 0.5, 'Relative Strain Index (%) ')"
      ]
     },
     "execution_count": 101,
     "metadata": {},
     "output_type": "execute_result"
    },
    {
     "data": {
      "image/png": "[encoded data removed]",
      "text/plain": [
       "<Figure size 432x432 with 1 Axes>"
      ]
     },
     "metadata": {},
     "output_type": "display_data"
    }
   ],
   "source": [
    "sns.lmplot(data=monthly_df, x=\"Monthly_ET\", y=\"Monthly_RSI\",height=6)\n",
    "plt.title(\"Akure\")\n",
    "plt.xlabel(\"Effective Temperature (◦C)\")\n",
    "plt.ylabel(\"Relative Strain Index (%) \")"
   ]
  },
  {
   "cell_type": "code",
   "execution_count": null,
   "id": "b260ec25",
   "metadata": {},
   "outputs": [],
   "source": []
  },
  {
   "cell_type": "code",
   "execution_count": 102,
   "id": "ac8316cf",
   "metadata": {},
   "outputs": [
    {
     "data": {
      "text/html": [
       "<div>\n",
       "<style scoped>\n",
       "    .dataframe tbody tr th:only-of-type {\n",
       "        vertical-align: middle;\n",
       "    }\n",
       "\n",
       "    .dataframe tbody tr th {\n",
       "        vertical-align: top;\n",
       "    }\n",
       "\n",
       "    .dataframe thead th {\n",
       "        text-align: right;\n",
       "    }\n",
       "</style>\n",
       "<table border=\"1\" class=\"dataframe\">\n",
       "  <thead>\n",
       "    <tr style=\"text-align: right;\">\n",
       "      <th></th>\n",
       "      <th>Year</th>\n",
       "      <th>Mean Temperature (◦C)</th>\n",
       "      <th>Mean Relative Humidity (%)</th>\n",
       "      <th>ET (◦C)</th>\n",
       "      <th>THI (◦C)</th>\n",
       "      <th>RSI (ratio)</th>\n",
       "    </tr>\n",
       "  </thead>\n",
       "  <tbody>\n",
       "    <tr>\n",
       "      <th>0</th>\n",
       "      <td>1981</td>\n",
       "      <td>23.93</td>\n",
       "      <td>83.38</td>\n",
       "      <td>19.29</td>\n",
       "      <td>20.75</td>\n",
       "      <td>0.06</td>\n",
       "    </tr>\n",
       "    <tr>\n",
       "      <th>1</th>\n",
       "      <td>1982</td>\n",
       "      <td>23.58</td>\n",
       "      <td>83.88</td>\n",
       "      <td>19.06</td>\n",
       "      <td>20.58</td>\n",
       "      <td>0.06</td>\n",
       "    </tr>\n",
       "    <tr>\n",
       "      <th>2</th>\n",
       "      <td>1983</td>\n",
       "      <td>24.05</td>\n",
       "      <td>80.50</td>\n",
       "      <td>19.33</td>\n",
       "      <td>20.16</td>\n",
       "      <td>0.07</td>\n",
       "    </tr>\n",
       "    <tr>\n",
       "      <th>3</th>\n",
       "      <td>1984</td>\n",
       "      <td>23.84</td>\n",
       "      <td>81.44</td>\n",
       "      <td>19.21</td>\n",
       "      <td>20.22</td>\n",
       "      <td>0.06</td>\n",
       "    </tr>\n",
       "    <tr>\n",
       "      <th>4</th>\n",
       "      <td>1985</td>\n",
       "      <td>23.83</td>\n",
       "      <td>82.31</td>\n",
       "      <td>19.21</td>\n",
       "      <td>20.41</td>\n",
       "      <td>0.06</td>\n",
       "    </tr>\n",
       "  </tbody>\n",
       "</table>\n",
       "</div>"
      ],
      "text/plain": [
       "   Year  Mean Temperature (◦C)  Mean Relative Humidity (%)  ET (◦C)  THI (◦C)  \\\n",
       "0  1981                  23.93                       83.38    19.29     20.75   \n",
       "1  1982                  23.58                       83.88    19.06     20.58   \n",
       "2  1983                  24.05                       80.50    19.33     20.16   \n",
       "3  1984                  23.84                       81.44    19.21     20.22   \n",
       "4  1985                  23.83                       82.31    19.21     20.41   \n",
       "\n",
       "   RSI (ratio)  \n",
       "0         0.06  \n",
       "1         0.06  \n",
       "2         0.07  \n",
       "3         0.06  \n",
       "4         0.06  "
      ]
     },
     "execution_count": 102,
     "metadata": {},
     "output_type": "execute_result"
    }
   ],
   "source": [
    "new_df.head()"
   ]
  },
  {
   "cell_type": "markdown",
   "id": "2b99ad41",
   "metadata": {},
   "source": [
    "## Obtainning Trend values using Least Square Method\n",
    "\n",
    "\n",
    "- Mean Temperature \n",
    "- Mean Relative humidity (RH)\n",
    "- Effective Temperature (ET)\n",
    "- Temperature Humidity Index (THI)\n",
    "- Relative Strain Index(RSI)"
   ]
  },
  {
   "cell_type": "markdown",
   "id": "0de704eb",
   "metadata": {},
   "source": [
    "###  Mean Temperature Trend values"
   ]
  },
  {
   "cell_type": "code",
   "execution_count": 192,
   "id": "c2b7cb47",
   "metadata": {},
   "outputs": [],
   "source": [
    "linear_temp=new_df.iloc[:,:2]"
   ]
  },
  {
   "cell_type": "code",
   "execution_count": 193,
   "id": "7b0780cc",
   "metadata": {},
   "outputs": [
    {
     "data": {
      "text/html": [
       "<div>\n",
       "<style scoped>\n",
       "    .dataframe tbody tr th:only-of-type {\n",
       "        vertical-align: middle;\n",
       "    }\n",
       "\n",
       "    .dataframe tbody tr th {\n",
       "        vertical-align: top;\n",
       "    }\n",
       "\n",
       "    .dataframe thead th {\n",
       "        text-align: right;\n",
       "    }\n",
       "</style>\n",
       "<table border=\"1\" class=\"dataframe\">\n",
       "  <thead>\n",
       "    <tr style=\"text-align: right;\">\n",
       "      <th></th>\n",
       "      <th>Year</th>\n",
       "      <th>Mean Temperature (◦C)</th>\n",
       "    </tr>\n",
       "  </thead>\n",
       "  <tbody>\n",
       "    <tr>\n",
       "      <th>0</th>\n",
       "      <td>1981</td>\n",
       "      <td>23.93</td>\n",
       "    </tr>\n",
       "    <tr>\n",
       "      <th>1</th>\n",
       "      <td>1982</td>\n",
       "      <td>23.58</td>\n",
       "    </tr>\n",
       "    <tr>\n",
       "      <th>2</th>\n",
       "      <td>1983</td>\n",
       "      <td>24.05</td>\n",
       "    </tr>\n",
       "    <tr>\n",
       "      <th>3</th>\n",
       "      <td>1984</td>\n",
       "      <td>23.84</td>\n",
       "    </tr>\n",
       "    <tr>\n",
       "      <th>4</th>\n",
       "      <td>1985</td>\n",
       "      <td>23.83</td>\n",
       "    </tr>\n",
       "  </tbody>\n",
       "</table>\n",
       "</div>"
      ],
      "text/plain": [
       "   Year  Mean Temperature (◦C)\n",
       "0  1981                  23.93\n",
       "1  1982                  23.58\n",
       "2  1983                  24.05\n",
       "3  1984                  23.84\n",
       "4  1985                  23.83"
      ]
     },
     "execution_count": 193,
     "metadata": {},
     "output_type": "execute_result"
    }
   ],
   "source": [
    "linear_temp.head()"
   ]
  },
  {
   "cell_type": "markdown",
   "id": "978fd6ae",
   "metadata": {},
   "source": [
    "Mean Year"
   ]
  },
  {
   "cell_type": "code",
   "execution_count": 194,
   "id": "3d945eaa",
   "metadata": {},
   "outputs": [
    {
     "data": {
      "text/plain": [
       "2001"
      ]
     },
     "execution_count": 194,
     "metadata": {},
     "output_type": "execute_result"
    }
   ],
   "source": [
    "int(linear_temp.iloc[:,0].mean())"
   ]
  },
  {
   "cell_type": "markdown",
   "id": "073ed5ae",
   "metadata": {},
   "source": [
    "$X= (x-Mean Year)$"
   ]
  },
  {
   "cell_type": "code",
   "execution_count": 195,
   "id": "700443ed",
   "metadata": {},
   "outputs": [],
   "source": [
    "linear_temp= linear_temp.assign(X= linear_temp[\"Year\"]-int(linear_temp.iloc[:,0].mean()))"
   ]
  },
  {
   "cell_type": "markdown",
   "id": "d9abc8bf",
   "metadata": {},
   "source": [
    "$X^2$"
   ]
  },
  {
   "cell_type": "code",
   "execution_count": 196,
   "id": "6509a33b",
   "metadata": {},
   "outputs": [],
   "source": [
    "linear_temp[\"X^2\"]= linear_temp[\"X\"].apply(lambda x: x**2)"
   ]
  },
  {
   "cell_type": "markdown",
   "id": "ffd9b1cb",
   "metadata": {},
   "source": [
    "$XY= X\\times Temp$"
   ]
  },
  {
   "cell_type": "code",
   "execution_count": 197,
   "id": "34b89913",
   "metadata": {},
   "outputs": [],
   "source": [
    "linear_temp= linear_temp.assign(XY= linear_temp[\"X\"]*linear_temp[\"Mean Temperature (◦C)\"] )"
   ]
  },
  {
   "cell_type": "markdown",
   "id": "0c5a069f",
   "metadata": {},
   "source": [
    "$a=\\frac{\\sum{} Mean Temp}{Years} $"
   ]
  },
  {
   "cell_type": "code",
   "execution_count": 203,
   "id": "7bca01ff",
   "metadata": {},
   "outputs": [
    {
     "data": {
      "text/plain": [
       "24.39"
      ]
     },
     "execution_count": 203,
     "metadata": {},
     "output_type": "execute_result"
    }
   ],
   "source": [
    "a=  linear_temp[\"Mean Temperature (◦C)\"].sum()/len(linear_temp[\"Year\"])\n",
    "a= round(a,2)\n",
    "a"
   ]
  },
  {
   "cell_type": "markdown",
   "id": "93dbd1e8",
   "metadata": {},
   "source": [
    "$b=\\frac{\\sum{}XY}{\\sum{}X^2}$"
   ]
  },
  {
   "cell_type": "code",
   "execution_count": 204,
   "id": "96dafb23",
   "metadata": {},
   "outputs": [
    {
     "data": {
      "text/plain": [
       "0.02"
      ]
     },
     "execution_count": 204,
     "metadata": {},
     "output_type": "execute_result"
    }
   ],
   "source": [
    "b= linear_temp[\"XY\"].sum()/linear_temp[\"X^2\"].sum()\n",
    "b= round(b,2)\n",
    "b"
   ]
  },
  {
   "cell_type": "code",
   "execution_count": 205,
   "id": "56c70e5a",
   "metadata": {},
   "outputs": [
    {
     "data": {
      "text/plain": [
       "-15.630000000000003"
      ]
     },
     "execution_count": 205,
     "metadata": {},
     "output_type": "execute_result"
    }
   ],
   "source": [
    "a + (b*-2001)"
   ]
  },
  {
   "cell_type": "markdown",
   "id": "5db3a67c",
   "metadata": {},
   "source": [
    "Therefore, the required equation of the straight line trend is given by\n",
    "\n",
    "\n",
    "$Y= a + bX$\n",
    "\n",
    "$Y = 24.39 + 0.02(x-2001)$ <br>\n",
    "$ Y = -15.63 + 0.02x$"
   ]
  },
  {
   "cell_type": "code",
   "execution_count": 206,
   "id": "e8b6d372",
   "metadata": {},
   "outputs": [],
   "source": [
    "def trend(val):\n",
    "    \n",
    "    Y= a + (b*(val-2001))\n",
    "    \n",
    "    return Y"
   ]
  },
  {
   "cell_type": "code",
   "execution_count": 207,
   "id": "fb2cac54",
   "metadata": {},
   "outputs": [
    {
     "name": "stdout",
     "output_type": "stream",
     "text": [
      "Year 2030 Trend Value: 24.97\n"
     ]
    }
   ],
   "source": [
    "value= 2030\n",
    "\n",
    "\n",
    "if 1981<=value<=2021:\n",
    "    actual_value= float(linear_temp.loc[linear_temp[\"Year\"]==value][\"Mean Temperature (◦C)\"])\n",
    "    trend_value= round(trend(value),2)\n",
    "    \n",
    "    print(\"Year {} Actual Value: {}\".format(value,actual_value))\n",
    "\n",
    "    print(\"Trend Value: {}\".format(trend_value))\n",
    "    \n",
    "    \n",
    "else:\n",
    "    trend_value= round(trend(value),2)\n",
    "    \n",
    "    print(\"Year {} Trend Value: {}\".format(value,trend_value))"
   ]
  },
  {
   "cell_type": "code",
   "execution_count": 208,
   "id": "bfa85caf",
   "metadata": {},
   "outputs": [],
   "source": [
    "linear_temp.to_csv(\"posi/Linear Temperature.csv\")"
   ]
  },
  {
   "cell_type": "markdown",
   "id": "88c8e496",
   "metadata": {},
   "source": [
    "## Mean Relative humidity Trends"
   ]
  },
  {
   "cell_type": "code",
   "execution_count": 209,
   "id": "1089ba50",
   "metadata": {},
   "outputs": [],
   "source": [
    "linear_RH=new_df.loc[:,[\"Year\", \"Mean Relative Humidity (%)\"]]"
   ]
  },
  {
   "cell_type": "code",
   "execution_count": 210,
   "id": "c21e7d94",
   "metadata": {},
   "outputs": [
    {
     "data": {
      "text/html": [
       "<div>\n",
       "<style scoped>\n",
       "    .dataframe tbody tr th:only-of-type {\n",
       "        vertical-align: middle;\n",
       "    }\n",
       "\n",
       "    .dataframe tbody tr th {\n",
       "        vertical-align: top;\n",
       "    }\n",
       "\n",
       "    .dataframe thead th {\n",
       "        text-align: right;\n",
       "    }\n",
       "</style>\n",
       "<table border=\"1\" class=\"dataframe\">\n",
       "  <thead>\n",
       "    <tr style=\"text-align: right;\">\n",
       "      <th></th>\n",
       "      <th>Year</th>\n",
       "      <th>Mean Relative Humidity (%)</th>\n",
       "    </tr>\n",
       "  </thead>\n",
       "  <tbody>\n",
       "    <tr>\n",
       "      <th>0</th>\n",
       "      <td>1981</td>\n",
       "      <td>83.38</td>\n",
       "    </tr>\n",
       "    <tr>\n",
       "      <th>1</th>\n",
       "      <td>1982</td>\n",
       "      <td>83.88</td>\n",
       "    </tr>\n",
       "    <tr>\n",
       "      <th>2</th>\n",
       "      <td>1983</td>\n",
       "      <td>80.50</td>\n",
       "    </tr>\n",
       "    <tr>\n",
       "      <th>3</th>\n",
       "      <td>1984</td>\n",
       "      <td>81.44</td>\n",
       "    </tr>\n",
       "    <tr>\n",
       "      <th>4</th>\n",
       "      <td>1985</td>\n",
       "      <td>82.31</td>\n",
       "    </tr>\n",
       "  </tbody>\n",
       "</table>\n",
       "</div>"
      ],
      "text/plain": [
       "   Year  Mean Relative Humidity (%)\n",
       "0  1981                       83.38\n",
       "1  1982                       83.88\n",
       "2  1983                       80.50\n",
       "3  1984                       81.44\n",
       "4  1985                       82.31"
      ]
     },
     "execution_count": 210,
     "metadata": {},
     "output_type": "execute_result"
    }
   ],
   "source": [
    "linear_RH.head()"
   ]
  },
  {
   "cell_type": "markdown",
   "id": "758f35f1",
   "metadata": {},
   "source": [
    "Mean Year"
   ]
  },
  {
   "cell_type": "code",
   "execution_count": 211,
   "id": "a7cbdef7",
   "metadata": {},
   "outputs": [
    {
     "data": {
      "text/plain": [
       "2001"
      ]
     },
     "execution_count": 211,
     "metadata": {},
     "output_type": "execute_result"
    }
   ],
   "source": [
    "int(linear_RH.iloc[:,0].mean())"
   ]
  },
  {
   "cell_type": "markdown",
   "id": "f8a95d2a",
   "metadata": {},
   "source": [
    "$X= (x-Mean Year)$"
   ]
  },
  {
   "cell_type": "code",
   "execution_count": 212,
   "id": "8098e16a",
   "metadata": {},
   "outputs": [],
   "source": [
    "linear_RH= linear_RH.assign(X= linear_RH[\"Year\"]-int(linear_RH.iloc[:,0].mean()))"
   ]
  },
  {
   "cell_type": "markdown",
   "id": "7cb18677",
   "metadata": {},
   "source": [
    "$X^2$"
   ]
  },
  {
   "cell_type": "code",
   "execution_count": 213,
   "id": "3d001a2f",
   "metadata": {},
   "outputs": [],
   "source": [
    "linear_RH[\"X^2\"]= linear_RH[\"X\"].apply(lambda x: x**2)"
   ]
  },
  {
   "cell_type": "markdown",
   "id": "c84a6b39",
   "metadata": {},
   "source": [
    "$XY= X\\times Relative Humidity$"
   ]
  },
  {
   "cell_type": "code",
   "execution_count": 214,
   "id": "5d569542",
   "metadata": {},
   "outputs": [],
   "source": [
    "linear_RH= linear_RH.assign(XY= linear_RH[\"X\"]*linear_RH[\"Mean Relative Humidity (%)\"] )"
   ]
  },
  {
   "cell_type": "markdown",
   "id": "bb9f241c",
   "metadata": {},
   "source": [
    "$a=\\frac{\\sum{} Mean RH}{Years} $"
   ]
  },
  {
   "cell_type": "code",
   "execution_count": 215,
   "id": "36557c33",
   "metadata": {},
   "outputs": [
    {
     "data": {
      "text/plain": [
       "83.01"
      ]
     },
     "execution_count": 215,
     "metadata": {},
     "output_type": "execute_result"
    }
   ],
   "source": [
    "a=  linear_RH[\"Mean Relative Humidity (%)\"].sum()/len(linear_RH[\"Year\"])\n",
    "a= round(a,2)\n",
    "a"
   ]
  },
  {
   "cell_type": "markdown",
   "id": "5e758535",
   "metadata": {},
   "source": [
    "$b=\\frac{\\sum{}XY}{\\sum{}X^2}$"
   ]
  },
  {
   "cell_type": "code",
   "execution_count": 216,
   "id": "d4b1ca3e",
   "metadata": {},
   "outputs": [
    {
     "data": {
      "text/plain": [
       "0.05"
      ]
     },
     "execution_count": 216,
     "metadata": {},
     "output_type": "execute_result"
    }
   ],
   "source": [
    "b= linear_RH[\"XY\"].sum()/linear_RH[\"X^2\"].sum()\n",
    "b= round(b,2)\n",
    "b"
   ]
  },
  {
   "cell_type": "code",
   "execution_count": 218,
   "id": "68ae6856",
   "metadata": {},
   "outputs": [
    {
     "data": {
      "text/plain": [
       "-17.040000000000006"
      ]
     },
     "execution_count": 218,
     "metadata": {},
     "output_type": "execute_result"
    }
   ],
   "source": [
    "a + (b*-2001)"
   ]
  },
  {
   "cell_type": "markdown",
   "id": "6743db56",
   "metadata": {},
   "source": [
    "Therefore, the required equation of the straight line trend is given by\n",
    "\n",
    "\n",
    "$Y= a + bX$\n",
    "\n",
    "$Y = 83.01 + 0.05(x-2001)$ <br>\n",
    "$Y = -17.04 + 0.05x$"
   ]
  },
  {
   "cell_type": "code",
   "execution_count": 219,
   "id": "d4dfd136",
   "metadata": {},
   "outputs": [],
   "source": [
    "def trend(val):\n",
    "    \n",
    "    Y= a+ (b*(val-2001))\n",
    "    \n",
    "    return Y"
   ]
  },
  {
   "cell_type": "code",
   "execution_count": 220,
   "id": "55e787f5",
   "metadata": {},
   "outputs": [
    {
     "name": "stdout",
     "output_type": "stream",
     "text": [
      "Year 2023 Trend Value: 84.11%\n"
     ]
    }
   ],
   "source": [
    "value= 2023\n",
    "\n",
    "\n",
    "if 1981<=value<=2021:\n",
    "    actual_value= float(linear_RH.loc[linear_RH[\"Year\"]==value][\"Mean Relative Humidity (%)\"])\n",
    "    trend_value= round(trend(value),2)\n",
    "    \n",
    "    print(\"Year {} Actual Value: {}%\".format(value,actual_value))\n",
    "\n",
    "    print(\"Trend Value: {}%\".format(trend_value))\n",
    "    \n",
    "    \n",
    "else:\n",
    "    trend_value= round(trend(value),2)\n",
    "    \n",
    "    print(\"Year {} Trend Value: {}%\".format(value,trend_value))"
   ]
  },
  {
   "cell_type": "code",
   "execution_count": 221,
   "id": "d612e1f5",
   "metadata": {},
   "outputs": [],
   "source": [
    "linear_RH.to_csv(\"posi/Linear RH.csv\")"
   ]
  },
  {
   "cell_type": "markdown",
   "id": "0609c694",
   "metadata": {},
   "source": [
    "## Mean Effective Temperature Trends"
   ]
  },
  {
   "cell_type": "code",
   "execution_count": 222,
   "id": "6bd343fe",
   "metadata": {},
   "outputs": [],
   "source": [
    "linear_ET=new_df.loc[:,[\"Year\", \"ET (◦C)\"]]"
   ]
  },
  {
   "cell_type": "code",
   "execution_count": 223,
   "id": "9da8d865",
   "metadata": {},
   "outputs": [
    {
     "data": {
      "text/html": [
       "<div>\n",
       "<style scoped>\n",
       "    .dataframe tbody tr th:only-of-type {\n",
       "        vertical-align: middle;\n",
       "    }\n",
       "\n",
       "    .dataframe tbody tr th {\n",
       "        vertical-align: top;\n",
       "    }\n",
       "\n",
       "    .dataframe thead th {\n",
       "        text-align: right;\n",
       "    }\n",
       "</style>\n",
       "<table border=\"1\" class=\"dataframe\">\n",
       "  <thead>\n",
       "    <tr style=\"text-align: right;\">\n",
       "      <th></th>\n",
       "      <th>Year</th>\n",
       "      <th>ET (◦C)</th>\n",
       "    </tr>\n",
       "  </thead>\n",
       "  <tbody>\n",
       "    <tr>\n",
       "      <th>0</th>\n",
       "      <td>1981</td>\n",
       "      <td>19.29</td>\n",
       "    </tr>\n",
       "    <tr>\n",
       "      <th>1</th>\n",
       "      <td>1982</td>\n",
       "      <td>19.06</td>\n",
       "    </tr>\n",
       "    <tr>\n",
       "      <th>2</th>\n",
       "      <td>1983</td>\n",
       "      <td>19.33</td>\n",
       "    </tr>\n",
       "    <tr>\n",
       "      <th>3</th>\n",
       "      <td>1984</td>\n",
       "      <td>19.21</td>\n",
       "    </tr>\n",
       "    <tr>\n",
       "      <th>4</th>\n",
       "      <td>1985</td>\n",
       "      <td>19.21</td>\n",
       "    </tr>\n",
       "  </tbody>\n",
       "</table>\n",
       "</div>"
      ],
      "text/plain": [
       "   Year  ET (◦C)\n",
       "0  1981    19.29\n",
       "1  1982    19.06\n",
       "2  1983    19.33\n",
       "3  1984    19.21\n",
       "4  1985    19.21"
      ]
     },
     "execution_count": 223,
     "metadata": {},
     "output_type": "execute_result"
    }
   ],
   "source": [
    "linear_ET.head()"
   ]
  },
  {
   "cell_type": "markdown",
   "id": "d84d287f",
   "metadata": {},
   "source": [
    "Mean Year"
   ]
  },
  {
   "cell_type": "code",
   "execution_count": 224,
   "id": "c982d0b9",
   "metadata": {},
   "outputs": [
    {
     "data": {
      "text/plain": [
       "2001"
      ]
     },
     "execution_count": 224,
     "metadata": {},
     "output_type": "execute_result"
    }
   ],
   "source": [
    "int(linear_ET.iloc[:,0].mean())"
   ]
  },
  {
   "cell_type": "markdown",
   "id": "c41bfb12",
   "metadata": {},
   "source": [
    "$X= (x-Mean Year)$"
   ]
  },
  {
   "cell_type": "code",
   "execution_count": 225,
   "id": "9423fd8f",
   "metadata": {},
   "outputs": [],
   "source": [
    "linear_ET= linear_ET.assign(X= linear_ET[\"Year\"]-int(linear_ET.iloc[:,0].mean()))"
   ]
  },
  {
   "cell_type": "markdown",
   "id": "f68f0e9b",
   "metadata": {},
   "source": [
    "$X^2$"
   ]
  },
  {
   "cell_type": "code",
   "execution_count": 226,
   "id": "ebc02344",
   "metadata": {},
   "outputs": [],
   "source": [
    "linear_ET[\"X^2\"]= linear_ET[\"X\"].apply(lambda x: x**2)"
   ]
  },
  {
   "cell_type": "markdown",
   "id": "392e1c93",
   "metadata": {},
   "source": [
    "$XY= X\\times  ET$"
   ]
  },
  {
   "cell_type": "code",
   "execution_count": 227,
   "id": "e278ffe9",
   "metadata": {},
   "outputs": [],
   "source": [
    "linear_ET= linear_ET.assign(XY= linear_ET[\"X\"]*linear_ET[\"ET (◦C)\"] )"
   ]
  },
  {
   "cell_type": "markdown",
   "id": "477197df",
   "metadata": {},
   "source": [
    "$a=\\frac{\\sum{} Mean ET}{Years} $"
   ]
  },
  {
   "cell_type": "code",
   "execution_count": 228,
   "id": "478c8fc8",
   "metadata": {},
   "outputs": [
    {
     "data": {
      "text/plain": [
       "19.59"
      ]
     },
     "execution_count": 228,
     "metadata": {},
     "output_type": "execute_result"
    }
   ],
   "source": [
    "a=  linear_ET[\"ET (◦C)\"].sum()/len(linear_ET[\"Year\"])\n",
    "a= round(a,2)\n",
    "a"
   ]
  },
  {
   "cell_type": "markdown",
   "id": "e3fa41bc",
   "metadata": {},
   "source": [
    "$b=\\frac{\\sum{}XY}{\\sum{}X^2}$"
   ]
  },
  {
   "cell_type": "code",
   "execution_count": 229,
   "id": "f4ca67ae",
   "metadata": {},
   "outputs": [
    {
     "data": {
      "text/plain": [
       "0.01"
      ]
     },
     "execution_count": 229,
     "metadata": {},
     "output_type": "execute_result"
    }
   ],
   "source": [
    "b= linear_ET[\"XY\"].sum()/linear_ET[\"X^2\"].sum()\n",
    "b= round(b,2)\n",
    "b"
   ]
  },
  {
   "cell_type": "code",
   "execution_count": 231,
   "id": "e90fac91",
   "metadata": {},
   "outputs": [
    {
     "data": {
      "text/plain": [
       "-0.4200000000000017"
      ]
     },
     "execution_count": 231,
     "metadata": {},
     "output_type": "execute_result"
    }
   ],
   "source": [
    "a + (b*-2001)"
   ]
  },
  {
   "cell_type": "markdown",
   "id": "596ddd77",
   "metadata": {},
   "source": [
    "Therefore, the required equation of the straight line trend is given by\n",
    "\n",
    "\n",
    "$Y= a + bX$\n",
    "\n",
    "$Y = 19.59 + 0.01(x-2001)$ <br>\n",
    "$Y = -0.42 + 0.01x $"
   ]
  },
  {
   "cell_type": "code",
   "execution_count": 232,
   "id": "df8a99df",
   "metadata": {},
   "outputs": [],
   "source": [
    "def trend(val):\n",
    "    \n",
    "    Y= a+ (b*(val-2001))\n",
    "    \n",
    "    return Y"
   ]
  },
  {
   "cell_type": "code",
   "execution_count": 233,
   "id": "a504d0dc",
   "metadata": {},
   "outputs": [
    {
     "name": "stdout",
     "output_type": "stream",
     "text": [
      "Year 2023 Trend Value: 19.81\n"
     ]
    }
   ],
   "source": [
    "value= 2023\n",
    "\n",
    "\n",
    "if 1981<=value<=2021:\n",
    "    actual_value= float(linear_ET.loc[linear_ET[\"Year\"]==value][\"ET (◦C)\"])\n",
    "    trend_value= round(trend(value),2)\n",
    "    \n",
    "    print(\"Year {} Actual Value: {}\".format(value,actual_value))\n",
    "\n",
    "    print(\"Trend Value: {}\".format(trend_value))\n",
    "    \n",
    "    \n",
    "else:\n",
    "    trend_value= round(trend(value),2)\n",
    "    \n",
    "    print(\"Year {} Trend Value: {}\".format(value,trend_value))"
   ]
  },
  {
   "cell_type": "code",
   "execution_count": 234,
   "id": "1c1e50a6",
   "metadata": {},
   "outputs": [],
   "source": [
    "linear_ET.to_csv(\"posi/Linear ET.csv\")"
   ]
  },
  {
   "cell_type": "markdown",
   "id": "d47b4293",
   "metadata": {},
   "source": [
    "## Temperature Humidity Index  Trends"
   ]
  },
  {
   "cell_type": "code",
   "execution_count": 235,
   "id": "3401b779",
   "metadata": {},
   "outputs": [],
   "source": [
    "linear_THI=new_df.loc[:,[\"Year\", \"THI (◦C)\"]]"
   ]
  },
  {
   "cell_type": "code",
   "execution_count": 236,
   "id": "12e3e7d4",
   "metadata": {},
   "outputs": [
    {
     "data": {
      "text/html": [
       "<div>\n",
       "<style scoped>\n",
       "    .dataframe tbody tr th:only-of-type {\n",
       "        vertical-align: middle;\n",
       "    }\n",
       "\n",
       "    .dataframe tbody tr th {\n",
       "        vertical-align: top;\n",
       "    }\n",
       "\n",
       "    .dataframe thead th {\n",
       "        text-align: right;\n",
       "    }\n",
       "</style>\n",
       "<table border=\"1\" class=\"dataframe\">\n",
       "  <thead>\n",
       "    <tr style=\"text-align: right;\">\n",
       "      <th></th>\n",
       "      <th>Year</th>\n",
       "      <th>THI (◦C)</th>\n",
       "    </tr>\n",
       "  </thead>\n",
       "  <tbody>\n",
       "    <tr>\n",
       "      <th>0</th>\n",
       "      <td>1981</td>\n",
       "      <td>20.75</td>\n",
       "    </tr>\n",
       "    <tr>\n",
       "      <th>1</th>\n",
       "      <td>1982</td>\n",
       "      <td>20.58</td>\n",
       "    </tr>\n",
       "    <tr>\n",
       "      <th>2</th>\n",
       "      <td>1983</td>\n",
       "      <td>20.16</td>\n",
       "    </tr>\n",
       "    <tr>\n",
       "      <th>3</th>\n",
       "      <td>1984</td>\n",
       "      <td>20.22</td>\n",
       "    </tr>\n",
       "    <tr>\n",
       "      <th>4</th>\n",
       "      <td>1985</td>\n",
       "      <td>20.41</td>\n",
       "    </tr>\n",
       "  </tbody>\n",
       "</table>\n",
       "</div>"
      ],
      "text/plain": [
       "   Year  THI (◦C)\n",
       "0  1981     20.75\n",
       "1  1982     20.58\n",
       "2  1983     20.16\n",
       "3  1984     20.22\n",
       "4  1985     20.41"
      ]
     },
     "execution_count": 236,
     "metadata": {},
     "output_type": "execute_result"
    }
   ],
   "source": [
    "linear_THI.head()"
   ]
  },
  {
   "cell_type": "markdown",
   "id": "3e938697",
   "metadata": {},
   "source": [
    "Mean Year"
   ]
  },
  {
   "cell_type": "code",
   "execution_count": 237,
   "id": "a85eb352",
   "metadata": {},
   "outputs": [
    {
     "data": {
      "text/plain": [
       "2001"
      ]
     },
     "execution_count": 237,
     "metadata": {},
     "output_type": "execute_result"
    }
   ],
   "source": [
    "int(linear_THI.iloc[:,0].mean())"
   ]
  },
  {
   "cell_type": "markdown",
   "id": "ca7eca1c",
   "metadata": {},
   "source": [
    "$X= (x-Mean Year)$"
   ]
  },
  {
   "cell_type": "code",
   "execution_count": 238,
   "id": "0f81885a",
   "metadata": {},
   "outputs": [],
   "source": [
    "linear_THI= linear_THI.assign(X= linear_THI[\"Year\"]-int(linear_THI.iloc[:,0].mean()))"
   ]
  },
  {
   "cell_type": "markdown",
   "id": "84be41b1",
   "metadata": {},
   "source": [
    "$X^2$"
   ]
  },
  {
   "cell_type": "code",
   "execution_count": 239,
   "id": "63fe44a9",
   "metadata": {},
   "outputs": [],
   "source": [
    "linear_THI[\"X^2\"]= linear_THI[\"X\"].apply(lambda x: x**2)"
   ]
  },
  {
   "cell_type": "markdown",
   "id": "331b3eb3",
   "metadata": {},
   "source": [
    "$XY= X\\times Temperature Humidity Index$"
   ]
  },
  {
   "cell_type": "code",
   "execution_count": 240,
   "id": "a1161578",
   "metadata": {},
   "outputs": [],
   "source": [
    "linear_THI= linear_THI.assign(XY= linear_THI[\"X\"]*linear_THI[\"THI (◦C)\"] )"
   ]
  },
  {
   "cell_type": "markdown",
   "id": "0759e97b",
   "metadata": {},
   "source": [
    "$a=\\frac{\\sum{} Mean Temp}{Years} $"
   ]
  },
  {
   "cell_type": "code",
   "execution_count": 241,
   "id": "7f5b7685",
   "metadata": {},
   "outputs": [
    {
     "data": {
      "text/plain": [
       "21.04"
      ]
     },
     "execution_count": 241,
     "metadata": {},
     "output_type": "execute_result"
    }
   ],
   "source": [
    "a=  linear_THI[\"THI (◦C)\"].sum()/len(linear_THI[\"Year\"])\n",
    "a= round(a,2)\n",
    "a"
   ]
  },
  {
   "cell_type": "markdown",
   "id": "3fa4e64a",
   "metadata": {},
   "source": [
    "$b=\\frac{\\sum{}XY}{\\sum{}X^2}$"
   ]
  },
  {
   "cell_type": "code",
   "execution_count": 242,
   "id": "3e0de651",
   "metadata": {},
   "outputs": [
    {
     "data": {
      "text/plain": [
       "0.03"
      ]
     },
     "execution_count": 242,
     "metadata": {},
     "output_type": "execute_result"
    }
   ],
   "source": [
    "b= linear_THI[\"XY\"].sum()/linear_THI[\"X^2\"].sum()\n",
    "b= round(b,2)\n",
    "b"
   ]
  },
  {
   "cell_type": "code",
   "execution_count": 243,
   "id": "b1224075",
   "metadata": {},
   "outputs": [
    {
     "data": {
      "text/plain": [
       "-38.99"
      ]
     },
     "execution_count": 243,
     "metadata": {},
     "output_type": "execute_result"
    }
   ],
   "source": [
    "a + (b*-2001)"
   ]
  },
  {
   "cell_type": "markdown",
   "id": "8b78258d",
   "metadata": {},
   "source": [
    "Therefore, the required equation of the straight line trend is given by\n",
    "\n",
    "\n",
    "$Y= ax + bX$\n",
    "\n",
    "$Y = 21.04 + 0.03(x-2001)$ <br>\n",
    "$Y = - 39 + 0.03x$"
   ]
  },
  {
   "cell_type": "code",
   "execution_count": 244,
   "id": "df1d5963",
   "metadata": {},
   "outputs": [],
   "source": [
    "def trend(val):\n",
    "    \n",
    "    Y= a+ (b*(val-2001))\n",
    "    \n",
    "    return Y"
   ]
  },
  {
   "cell_type": "code",
   "execution_count": 245,
   "id": "da506e78",
   "metadata": {},
   "outputs": [
    {
     "name": "stdout",
     "output_type": "stream",
     "text": [
      "Year 2023 Trend Value: 21.7\n"
     ]
    }
   ],
   "source": [
    "value= 2023\n",
    "\n",
    "\n",
    "if 1981<=value<=2021:\n",
    "    actual_value= float(linear_THI.loc[linear_THI[\"Year\"]==value][\"THI (◦C)\"])\n",
    "    trend_value= round(trend(value),2)\n",
    "    \n",
    "    print(\"Year {} Actual Value: {}\".format(value,actual_value))\n",
    "\n",
    "    print(\"Trend Value: {}\".format(trend_value))\n",
    "    \n",
    "    \n",
    "else:\n",
    "    trend_value= round(trend(value),2)\n",
    "    \n",
    "    print(\"Year {} Trend Value: {}\".format(value,trend_value))"
   ]
  },
  {
   "cell_type": "code",
   "execution_count": 246,
   "id": "70bb7c2e",
   "metadata": {},
   "outputs": [],
   "source": [
    "linear_THI.to_csv(\"posi/Linear THI.csv\")"
   ]
  },
  {
   "cell_type": "markdown",
   "id": "4ff2fdc7",
   "metadata": {},
   "source": [
    "## Relative Strain Index  Trends"
   ]
  },
  {
   "cell_type": "code",
   "execution_count": 247,
   "id": "c35c5555",
   "metadata": {},
   "outputs": [],
   "source": [
    "linear_RSI=new_df.loc[:,[\"Year\", \"RSI (ratio)\"]]"
   ]
  },
  {
   "cell_type": "code",
   "execution_count": 248,
   "id": "c19afb06",
   "metadata": {},
   "outputs": [
    {
     "data": {
      "text/plain": [
       "0.07414634146341464"
      ]
     },
     "execution_count": 248,
     "metadata": {},
     "output_type": "execute_result"
    }
   ],
   "source": [
    "linear_RSI[\"RSI (ratio)\"].mean()"
   ]
  },
  {
   "cell_type": "markdown",
   "id": "32622693",
   "metadata": {},
   "source": [
    "Mean Year"
   ]
  },
  {
   "cell_type": "code",
   "execution_count": 249,
   "id": "27c5d0c4",
   "metadata": {},
   "outputs": [
    {
     "data": {
      "text/plain": [
       "2001"
      ]
     },
     "execution_count": 249,
     "metadata": {},
     "output_type": "execute_result"
    }
   ],
   "source": [
    "int(linear_RSI.iloc[:,0].mean())"
   ]
  },
  {
   "cell_type": "markdown",
   "id": "bcc76f4d",
   "metadata": {},
   "source": [
    "$X= (x-Mean Year)$"
   ]
  },
  {
   "cell_type": "code",
   "execution_count": 250,
   "id": "03c06f96",
   "metadata": {},
   "outputs": [],
   "source": [
    "linear_RSI= linear_RSI.assign(X= linear_RSI[\"Year\"]-int(linear_RSI.iloc[:,0].mean()))"
   ]
  },
  {
   "cell_type": "code",
   "execution_count": 251,
   "id": "39c7dc6f",
   "metadata": {},
   "outputs": [
    {
     "data": {
      "text/html": [
       "<div>\n",
       "<style scoped>\n",
       "    .dataframe tbody tr th:only-of-type {\n",
       "        vertical-align: middle;\n",
       "    }\n",
       "\n",
       "    .dataframe tbody tr th {\n",
       "        vertical-align: top;\n",
       "    }\n",
       "\n",
       "    .dataframe thead th {\n",
       "        text-align: right;\n",
       "    }\n",
       "</style>\n",
       "<table border=\"1\" class=\"dataframe\">\n",
       "  <thead>\n",
       "    <tr style=\"text-align: right;\">\n",
       "      <th></th>\n",
       "      <th>Year</th>\n",
       "      <th>RSI (ratio)</th>\n",
       "      <th>X</th>\n",
       "    </tr>\n",
       "  </thead>\n",
       "  <tbody>\n",
       "    <tr>\n",
       "      <th>0</th>\n",
       "      <td>1981</td>\n",
       "      <td>0.06</td>\n",
       "      <td>-20</td>\n",
       "    </tr>\n",
       "    <tr>\n",
       "      <th>1</th>\n",
       "      <td>1982</td>\n",
       "      <td>0.06</td>\n",
       "      <td>-19</td>\n",
       "    </tr>\n",
       "    <tr>\n",
       "      <th>2</th>\n",
       "      <td>1983</td>\n",
       "      <td>0.07</td>\n",
       "      <td>-18</td>\n",
       "    </tr>\n",
       "    <tr>\n",
       "      <th>3</th>\n",
       "      <td>1984</td>\n",
       "      <td>0.06</td>\n",
       "      <td>-17</td>\n",
       "    </tr>\n",
       "    <tr>\n",
       "      <th>4</th>\n",
       "      <td>1985</td>\n",
       "      <td>0.06</td>\n",
       "      <td>-16</td>\n",
       "    </tr>\n",
       "  </tbody>\n",
       "</table>\n",
       "</div>"
      ],
      "text/plain": [
       "   Year  RSI (ratio)   X\n",
       "0  1981         0.06 -20\n",
       "1  1982         0.06 -19\n",
       "2  1983         0.07 -18\n",
       "3  1984         0.06 -17\n",
       "4  1985         0.06 -16"
      ]
     },
     "execution_count": 251,
     "metadata": {},
     "output_type": "execute_result"
    }
   ],
   "source": [
    "linear_RSI.head()"
   ]
  },
  {
   "cell_type": "markdown",
   "id": "e727bca0",
   "metadata": {},
   "source": [
    "$X^2$"
   ]
  },
  {
   "cell_type": "code",
   "execution_count": 252,
   "id": "558bbb26",
   "metadata": {},
   "outputs": [],
   "source": [
    "linear_RSI[\"X^2\"]= linear_RSI[\"X\"].apply(lambda x: x**2)"
   ]
  },
  {
   "cell_type": "markdown",
   "id": "388057e7",
   "metadata": {},
   "source": [
    "$XY= X\\times Relative Strain Index$"
   ]
  },
  {
   "cell_type": "code",
   "execution_count": 253,
   "id": "608c1c50",
   "metadata": {},
   "outputs": [],
   "source": [
    "linear_RSI= linear_RSI.assign(XY= linear_RSI[\"X\"]*linear_RSI[\"RSI (ratio)\"] )"
   ]
  },
  {
   "cell_type": "markdown",
   "id": "4264c179",
   "metadata": {},
   "source": [
    "$a=\\frac{\\sum{} RSI}{Years} $"
   ]
  },
  {
   "cell_type": "code",
   "execution_count": 254,
   "id": "96d746e4",
   "metadata": {},
   "outputs": [
    {
     "data": {
      "text/plain": [
       "0.07"
      ]
     },
     "execution_count": 254,
     "metadata": {},
     "output_type": "execute_result"
    }
   ],
   "source": [
    "a=  linear_RSI[\"RSI (ratio)\"].sum()/len(linear_RSI[\"Year\"])\n",
    "a= round(a,2)\n",
    "a"
   ]
  },
  {
   "cell_type": "markdown",
   "id": "df998fc8",
   "metadata": {},
   "source": [
    "$b=\\frac{\\sum{}XY}{\\sum{}X^2}$"
   ]
  },
  {
   "cell_type": "code",
   "execution_count": 255,
   "id": "857f8dcb",
   "metadata": {},
   "outputs": [
    {
     "data": {
      "text/plain": [
       "0.000469"
      ]
     },
     "execution_count": 255,
     "metadata": {},
     "output_type": "execute_result"
    }
   ],
   "source": [
    "b= linear_RSI[\"XY\"].sum()/linear_RSI[\"X^2\"].sum()\n",
    "b= round(b,6)\n",
    "b"
   ]
  },
  {
   "cell_type": "code",
   "execution_count": 256,
   "id": "abce109e",
   "metadata": {},
   "outputs": [
    {
     "data": {
      "text/plain": [
       "-0.8684689999999999"
      ]
     },
     "execution_count": 256,
     "metadata": {},
     "output_type": "execute_result"
    }
   ],
   "source": [
    "a + (b*-2001)"
   ]
  },
  {
   "cell_type": "markdown",
   "id": "2f47c30e",
   "metadata": {},
   "source": [
    "Therefore, the required equation of the straight line trend is given by\n",
    "\n",
    "\n",
    "$Y= ax + bX$\n",
    "\n",
    "$Y = 0.07 + 0.000469(x-2001)$ <br>\n",
    "\n",
    "$Y = -0.87 + 0.000469x$"
   ]
  },
  {
   "cell_type": "code",
   "execution_count": 257,
   "id": "312c4f70",
   "metadata": {},
   "outputs": [],
   "source": [
    "def trend(val):\n",
    "    \n",
    "    Y= a+ (b*(val-2001))\n",
    "    \n",
    "    return Y"
   ]
  },
  {
   "cell_type": "code",
   "execution_count": 258,
   "id": "418aaf66",
   "metadata": {},
   "outputs": [
    {
     "name": "stdout",
     "output_type": "stream",
     "text": [
      "Year 2023 Trend Value: 0.08\n"
     ]
    }
   ],
   "source": [
    "value= 2023\n",
    "\n",
    "\n",
    "if 1981<=value<=2021:\n",
    "    actual_value= float(linear_RSI.loc[linear_RSI[\"Year\"]==value][\"RSI (ratio)\"])\n",
    "    trend_value= round(trend(value),2)\n",
    "    \n",
    "    print(\"Year {} Actual Value: {}\".format(value,actual_value))\n",
    "\n",
    "    print(\"Trend Value: {}\".format(trend_value))\n",
    "    \n",
    "    \n",
    "else:\n",
    "    trend_value= round(trend(value),2)\n",
    "    \n",
    "    print(\"Year {} Trend Value: {}\".format(value,trend_value))"
   ]
  },
  {
   "cell_type": "code",
   "execution_count": 259,
   "id": "283ad14b",
   "metadata": {},
   "outputs": [],
   "source": [
    "linear_RSI.to_csv(\"posi/Linear RSI.csv\")"
   ]
  },
  {
   "cell_type": "code",
   "execution_count": null,
   "id": "b5551f37",
   "metadata": {},
   "outputs": [],
   "source": []
  },
  {
   "cell_type": "code",
   "execution_count": 260,
   "id": "9ece24ca",
   "metadata": {},
   "outputs": [
    {
     "data": {
      "text/html": [
       "<div>\n",
       "<style scoped>\n",
       "    .dataframe tbody tr th:only-of-type {\n",
       "        vertical-align: middle;\n",
       "    }\n",
       "\n",
       "    .dataframe tbody tr th {\n",
       "        vertical-align: top;\n",
       "    }\n",
       "\n",
       "    .dataframe thead th {\n",
       "        text-align: right;\n",
       "    }\n",
       "</style>\n",
       "<table border=\"1\" class=\"dataframe\">\n",
       "  <thead>\n",
       "    <tr style=\"text-align: right;\">\n",
       "      <th></th>\n",
       "      <th>Year</th>\n",
       "      <th>Mean Temperature (◦C)</th>\n",
       "      <th>Mean Relative Humidity (%)</th>\n",
       "      <th>ET (◦C)</th>\n",
       "      <th>THI (◦C)</th>\n",
       "      <th>RSI (ratio)</th>\n",
       "    </tr>\n",
       "  </thead>\n",
       "  <tbody>\n",
       "    <tr>\n",
       "      <th>0</th>\n",
       "      <td>1981</td>\n",
       "      <td>23.93</td>\n",
       "      <td>83.38</td>\n",
       "      <td>19.29</td>\n",
       "      <td>20.75</td>\n",
       "      <td>0.06</td>\n",
       "    </tr>\n",
       "    <tr>\n",
       "      <th>1</th>\n",
       "      <td>1982</td>\n",
       "      <td>23.58</td>\n",
       "      <td>83.88</td>\n",
       "      <td>19.06</td>\n",
       "      <td>20.58</td>\n",
       "      <td>0.06</td>\n",
       "    </tr>\n",
       "    <tr>\n",
       "      <th>2</th>\n",
       "      <td>1983</td>\n",
       "      <td>24.05</td>\n",
       "      <td>80.50</td>\n",
       "      <td>19.33</td>\n",
       "      <td>20.16</td>\n",
       "      <td>0.07</td>\n",
       "    </tr>\n",
       "    <tr>\n",
       "      <th>3</th>\n",
       "      <td>1984</td>\n",
       "      <td>23.84</td>\n",
       "      <td>81.44</td>\n",
       "      <td>19.21</td>\n",
       "      <td>20.22</td>\n",
       "      <td>0.06</td>\n",
       "    </tr>\n",
       "    <tr>\n",
       "      <th>4</th>\n",
       "      <td>1985</td>\n",
       "      <td>23.83</td>\n",
       "      <td>82.31</td>\n",
       "      <td>19.21</td>\n",
       "      <td>20.41</td>\n",
       "      <td>0.06</td>\n",
       "    </tr>\n",
       "  </tbody>\n",
       "</table>\n",
       "</div>"
      ],
      "text/plain": [
       "   Year  Mean Temperature (◦C)  Mean Relative Humidity (%)  ET (◦C)  THI (◦C)  \\\n",
       "0  1981                  23.93                       83.38    19.29     20.75   \n",
       "1  1982                  23.58                       83.88    19.06     20.58   \n",
       "2  1983                  24.05                       80.50    19.33     20.16   \n",
       "3  1984                  23.84                       81.44    19.21     20.22   \n",
       "4  1985                  23.83                       82.31    19.21     20.41   \n",
       "\n",
       "   RSI (ratio)  \n",
       "0         0.06  \n",
       "1         0.06  \n",
       "2         0.07  \n",
       "3         0.06  \n",
       "4         0.06  "
      ]
     },
     "execution_count": 260,
     "metadata": {},
     "output_type": "execute_result"
    }
   ],
   "source": [
    "new_df.head()"
   ]
  },
  {
   "cell_type": "code",
   "execution_count": 261,
   "id": "cccbf709",
   "metadata": {},
   "outputs": [
    {
     "data": {
      "text/html": [
       "<div>\n",
       "<style scoped>\n",
       "    .dataframe tbody tr th:only-of-type {\n",
       "        vertical-align: middle;\n",
       "    }\n",
       "\n",
       "    .dataframe tbody tr th {\n",
       "        vertical-align: top;\n",
       "    }\n",
       "\n",
       "    .dataframe thead th {\n",
       "        text-align: right;\n",
       "    }\n",
       "</style>\n",
       "<table border=\"1\" class=\"dataframe\">\n",
       "  <thead>\n",
       "    <tr style=\"text-align: right;\">\n",
       "      <th></th>\n",
       "      <th>Month</th>\n",
       "      <th>Mean Temperature (◦C)</th>\n",
       "      <th>Mean Relative Humidity (%)</th>\n",
       "      <th>ET (◦C)</th>\n",
       "      <th>THI (◦C)</th>\n",
       "      <th>RSI (ratio)</th>\n",
       "    </tr>\n",
       "  </thead>\n",
       "  <tbody>\n",
       "    <tr>\n",
       "      <th>0</th>\n",
       "      <td>Jan</td>\n",
       "      <td>23.74</td>\n",
       "      <td>68.27</td>\n",
       "      <td>18.99</td>\n",
       "      <td>17.01</td>\n",
       "      <td>0.06</td>\n",
       "    </tr>\n",
       "    <tr>\n",
       "      <th>1</th>\n",
       "      <td>Feb</td>\n",
       "      <td>25.37</td>\n",
       "      <td>71.93</td>\n",
       "      <td>20.11</td>\n",
       "      <td>19.05</td>\n",
       "      <td>0.09</td>\n",
       "    </tr>\n",
       "    <tr>\n",
       "      <th>2</th>\n",
       "      <td>Mar</td>\n",
       "      <td>25.94</td>\n",
       "      <td>79.68</td>\n",
       "      <td>20.58</td>\n",
       "      <td>21.47</td>\n",
       "      <td>0.11</td>\n",
       "    </tr>\n",
       "    <tr>\n",
       "      <th>3</th>\n",
       "      <td>Apr</td>\n",
       "      <td>25.72</td>\n",
       "      <td>85.07</td>\n",
       "      <td>20.50</td>\n",
       "      <td>22.68</td>\n",
       "      <td>0.10</td>\n",
       "    </tr>\n",
       "    <tr>\n",
       "      <th>4</th>\n",
       "      <td>May</td>\n",
       "      <td>25.11</td>\n",
       "      <td>88.06</td>\n",
       "      <td>20.13</td>\n",
       "      <td>22.91</td>\n",
       "      <td>0.09</td>\n",
       "    </tr>\n",
       "  </tbody>\n",
       "</table>\n",
       "</div>"
      ],
      "text/plain": [
       "  Month  Mean Temperature (◦C)  Mean Relative Humidity (%)  ET (◦C)  THI (◦C)  \\\n",
       "0   Jan                  23.74                       68.27    18.99     17.01   \n",
       "1   Feb                  25.37                       71.93    20.11     19.05   \n",
       "2   Mar                  25.94                       79.68    20.58     21.47   \n",
       "3   Apr                  25.72                       85.07    20.50     22.68   \n",
       "4   May                  25.11                       88.06    20.13     22.91   \n",
       "\n",
       "   RSI (ratio)  \n",
       "0         0.06  \n",
       "1         0.09  \n",
       "2         0.11  \n",
       "3         0.10  \n",
       "4         0.09  "
      ]
     },
     "execution_count": 261,
     "metadata": {},
     "output_type": "execute_result"
    }
   ],
   "source": [
    "monthly_df.head()"
   ]
  },
  {
   "cell_type": "code",
   "execution_count": 262,
   "id": "ad47746d",
   "metadata": {},
   "outputs": [],
   "source": [
    "monthly_df.rename(columns={\"Monthly_temp\":\"Mean Temperature (◦C)\",\n",
    "                  \"Monthly_RH\":\"Mean Relative Humidity (%)\",\n",
    "                  \"Monthly_ET\":\"ET (◦C)\",\n",
    "                  \"Monthly_THI\":\"THI (◦C)\",\n",
    "                  \"Monthly_RSI\":\"RSI (ratio)\"}, inplace=True)"
   ]
  },
  {
   "cell_type": "code",
   "execution_count": 263,
   "id": "79b8c606",
   "metadata": {},
   "outputs": [
    {
     "data": {
      "text/html": [
       "<div>\n",
       "<style scoped>\n",
       "    .dataframe tbody tr th:only-of-type {\n",
       "        vertical-align: middle;\n",
       "    }\n",
       "\n",
       "    .dataframe tbody tr th {\n",
       "        vertical-align: top;\n",
       "    }\n",
       "\n",
       "    .dataframe thead th {\n",
       "        text-align: right;\n",
       "    }\n",
       "</style>\n",
       "<table border=\"1\" class=\"dataframe\">\n",
       "  <thead>\n",
       "    <tr style=\"text-align: right;\">\n",
       "      <th></th>\n",
       "      <th>Month</th>\n",
       "      <th>Mean Temperature (◦C)</th>\n",
       "      <th>Mean Relative Humidity (%)</th>\n",
       "      <th>ET (◦C)</th>\n",
       "      <th>THI (◦C)</th>\n",
       "      <th>RSI (ratio)</th>\n",
       "    </tr>\n",
       "  </thead>\n",
       "  <tbody>\n",
       "    <tr>\n",
       "      <th>0</th>\n",
       "      <td>Jan</td>\n",
       "      <td>23.74</td>\n",
       "      <td>68.27</td>\n",
       "      <td>18.99</td>\n",
       "      <td>17.01</td>\n",
       "      <td>0.06</td>\n",
       "    </tr>\n",
       "    <tr>\n",
       "      <th>1</th>\n",
       "      <td>Feb</td>\n",
       "      <td>25.37</td>\n",
       "      <td>71.93</td>\n",
       "      <td>20.11</td>\n",
       "      <td>19.05</td>\n",
       "      <td>0.09</td>\n",
       "    </tr>\n",
       "    <tr>\n",
       "      <th>2</th>\n",
       "      <td>Mar</td>\n",
       "      <td>25.94</td>\n",
       "      <td>79.68</td>\n",
       "      <td>20.58</td>\n",
       "      <td>21.47</td>\n",
       "      <td>0.11</td>\n",
       "    </tr>\n",
       "    <tr>\n",
       "      <th>3</th>\n",
       "      <td>Apr</td>\n",
       "      <td>25.72</td>\n",
       "      <td>85.07</td>\n",
       "      <td>20.50</td>\n",
       "      <td>22.68</td>\n",
       "      <td>0.10</td>\n",
       "    </tr>\n",
       "    <tr>\n",
       "      <th>4</th>\n",
       "      <td>May</td>\n",
       "      <td>25.11</td>\n",
       "      <td>88.06</td>\n",
       "      <td>20.13</td>\n",
       "      <td>22.91</td>\n",
       "      <td>0.09</td>\n",
       "    </tr>\n",
       "  </tbody>\n",
       "</table>\n",
       "</div>"
      ],
      "text/plain": [
       "  Month  Mean Temperature (◦C)  Mean Relative Humidity (%)  ET (◦C)  THI (◦C)  \\\n",
       "0   Jan                  23.74                       68.27    18.99     17.01   \n",
       "1   Feb                  25.37                       71.93    20.11     19.05   \n",
       "2   Mar                  25.94                       79.68    20.58     21.47   \n",
       "3   Apr                  25.72                       85.07    20.50     22.68   \n",
       "4   May                  25.11                       88.06    20.13     22.91   \n",
       "\n",
       "   RSI (ratio)  \n",
       "0         0.06  \n",
       "1         0.09  \n",
       "2         0.11  \n",
       "3         0.10  \n",
       "4         0.09  "
      ]
     },
     "execution_count": 263,
     "metadata": {},
     "output_type": "execute_result"
    }
   ],
   "source": [
    "monthly_df.head()"
   ]
  },
  {
   "cell_type": "code",
   "execution_count": 167,
   "id": "80e83175",
   "metadata": {},
   "outputs": [
    {
     "name": "stderr",
     "output_type": "stream",
     "text": [
      "<ipython-input-167-5088a901d373>:2: FutureWarning:\n",
      "\n",
      "The default value of numeric_only in DataFrame.corr is deprecated. In a future version, it will default to False. Select only valid columns or specify the value of numeric_only to silence this warning.\n",
      "\n"
     ]
    },
    {
     "data": {
      "image/png": "[encoded data removed]",
      "text/plain": [
       "<Figure size 720x576 with 2 Axes>"
      ]
     },
     "metadata": {},
     "output_type": "display_data"
    }
   ],
   "source": [
    "plt.figure(figsize=(10,8))\n",
    "sns.heatmap(monthly_df.corr(), cmap=\"crest\", annot=True)\n",
    "plt.tight_layout()"
   ]
  },
  {
   "cell_type": "markdown",
   "id": "7ec5cd85",
   "metadata": {},
   "source": [
    "The correlation coefficient is measured on a scale that varies from + 1 through 0 to – 1. Complete correlation between two variables is expressed by either + 1 or -1. When one variable increases as the other increases the correlation is positive; when one decreases as the other increases it is negative. Complete absence of correlation is represented by 0. \n",
    "\n",
    "- Temperature and  Effective temperature correlates postively\n",
    "- RSI and Temperature correlates postively\n",
    "- RSI and Effective temperature correlates postively\n",
    "- Relative humidity and THI correlates postively\n",
    "\n",
    "- Temperature and Relative humidity correlates negatively. Increase in one variable cause decrease in other\n",
    "- RSI and Relative humidity  correlates negatively\n"
   ]
  },
  {
   "cell_type": "code",
   "execution_count": 168,
   "id": "3b96efa9",
   "metadata": {},
   "outputs": [],
   "source": [
    "monthly_df.to_csv(\"posi/Monthly Table.csv\")"
   ]
  },
  {
   "cell_type": "code",
   "execution_count": 169,
   "id": "0a2452ba",
   "metadata": {},
   "outputs": [
    {
     "data": {
      "text/html": [
       "<div>\n",
       "<style scoped>\n",
       "    .dataframe tbody tr th:only-of-type {\n",
       "        vertical-align: middle;\n",
       "    }\n",
       "\n",
       "    .dataframe tbody tr th {\n",
       "        vertical-align: top;\n",
       "    }\n",
       "\n",
       "    .dataframe thead th {\n",
       "        text-align: right;\n",
       "    }\n",
       "</style>\n",
       "<table border=\"1\" class=\"dataframe\">\n",
       "  <thead>\n",
       "    <tr style=\"text-align: right;\">\n",
       "      <th></th>\n",
       "      <th>Year</th>\n",
       "      <th>Mean Temperature (◦C)</th>\n",
       "      <th>Mean Relative Humidity (%)</th>\n",
       "      <th>ET (◦C)</th>\n",
       "      <th>THI (◦C)</th>\n",
       "      <th>RSI (ratio)</th>\n",
       "    </tr>\n",
       "  </thead>\n",
       "  <tbody>\n",
       "    <tr>\n",
       "      <th>0</th>\n",
       "      <td>1981</td>\n",
       "      <td>23.93</td>\n",
       "      <td>83.38</td>\n",
       "      <td>19.29</td>\n",
       "      <td>20.75</td>\n",
       "      <td>0.06</td>\n",
       "    </tr>\n",
       "    <tr>\n",
       "      <th>1</th>\n",
       "      <td>1982</td>\n",
       "      <td>23.58</td>\n",
       "      <td>83.88</td>\n",
       "      <td>19.06</td>\n",
       "      <td>20.58</td>\n",
       "      <td>0.06</td>\n",
       "    </tr>\n",
       "    <tr>\n",
       "      <th>2</th>\n",
       "      <td>1983</td>\n",
       "      <td>24.05</td>\n",
       "      <td>80.50</td>\n",
       "      <td>19.33</td>\n",
       "      <td>20.16</td>\n",
       "      <td>0.07</td>\n",
       "    </tr>\n",
       "    <tr>\n",
       "      <th>3</th>\n",
       "      <td>1984</td>\n",
       "      <td>23.84</td>\n",
       "      <td>81.44</td>\n",
       "      <td>19.21</td>\n",
       "      <td>20.22</td>\n",
       "      <td>0.06</td>\n",
       "    </tr>\n",
       "    <tr>\n",
       "      <th>4</th>\n",
       "      <td>1985</td>\n",
       "      <td>23.83</td>\n",
       "      <td>82.31</td>\n",
       "      <td>19.21</td>\n",
       "      <td>20.41</td>\n",
       "      <td>0.06</td>\n",
       "    </tr>\n",
       "  </tbody>\n",
       "</table>\n",
       "</div>"
      ],
      "text/plain": [
       "   Year  Mean Temperature (◦C)  Mean Relative Humidity (%)  ET (◦C)  THI (◦C)  \\\n",
       "0  1981                  23.93                       83.38    19.29     20.75   \n",
       "1  1982                  23.58                       83.88    19.06     20.58   \n",
       "2  1983                  24.05                       80.50    19.33     20.16   \n",
       "3  1984                  23.84                       81.44    19.21     20.22   \n",
       "4  1985                  23.83                       82.31    19.21     20.41   \n",
       "\n",
       "   RSI (ratio)  \n",
       "0         0.06  \n",
       "1         0.06  \n",
       "2         0.07  \n",
       "3         0.06  \n",
       "4         0.06  "
      ]
     },
     "execution_count": 169,
     "metadata": {},
     "output_type": "execute_result"
    }
   ],
   "source": [
    "new_df.head()"
   ]
  },
  {
   "cell_type": "code",
   "execution_count": 170,
   "id": "51d6a632",
   "metadata": {},
   "outputs": [
    {
     "data": {
      "text/plain": [
       "Text(1.1750000000000043, 0.5, 'Mean Temperature (◦C)')"
      ]
     },
     "execution_count": 170,
     "metadata": {},
     "output_type": "execute_result"
    },
    {
     "data": {
      "image/png": "[encoded data removed]",
      "text/plain": [
       "<Figure size 432x432 with 1 Axes>"
      ]
     },
     "metadata": {},
     "output_type": "display_data"
    }
   ],
   "source": [
    "sns.lmplot(data=new_df, x=\"Year\", y=\"Mean Temperature (◦C)\",height=6)\n",
    "plt.title(\"Akure\")\n",
    "plt.xlabel(\"Year\")\n",
    "plt.ylabel(\"Mean Temperature (◦C)\")"
   ]
  },
  {
   "cell_type": "code",
   "execution_count": 172,
   "id": "91f1f5ac",
   "metadata": {},
   "outputs": [
    {
     "data": {
      "text/plain": [
       "Text(9.550000000000004, 0.5, 'Mean Relative Humidity (%)')"
      ]
     },
     "execution_count": 172,
     "metadata": {},
     "output_type": "execute_result"
    },
    {
     "data": {
      "image/png": "[encoded data removed]",
      "text/plain": [
       "<Figure size 432x432 with 1 Axes>"
      ]
     },
     "metadata": {},
     "output_type": "display_data"
    }
   ],
   "source": [
    "sns.lmplot(data=new_df, x=\"Year\", y=\"Mean Relative Humidity (%)\",height=6)\n",
    "plt.title(\"Akure\")\n",
    "plt.xlabel(\"Year\")\n",
    "plt.ylabel(\"Mean Relative Humidity (%)\")"
   ]
  },
  {
   "cell_type": "code",
   "execution_count": 170,
   "id": "019e1b7d",
   "metadata": {},
   "outputs": [
    {
     "data": {
      "text/plain": [
       "Text(1.1750000000000043, 0.5, 'Effect Temperature (◦C)')"
      ]
     },
     "execution_count": 170,
     "metadata": {},
     "output_type": "execute_result"
    },
    {
     "data": {
      "image/png": "[encoded data removed]",
      "text/plain": [
       "<Figure size 432x432 with 1 Axes>"
      ]
     },
     "metadata": {},
     "output_type": "display_data"
    }
   ],
   "source": [
    "sns.lmplot(data=new_df, x=\"Year\", y=\"ET (◦C)\",height=6)\n",
    "plt.title(\"Akure\")\n",
    "plt.xlabel(\"Year\")\n",
    "plt.ylabel(\"Effect Temperature (◦C)\")"
   ]
  },
  {
   "cell_type": "code",
   "execution_count": 171,
   "id": "ab2c5dfe",
   "metadata": {},
   "outputs": [
    {
     "data": {
      "text/plain": [
       "Text(-4.449999999999996, 0.5, 'Relative Strain Index (◦C)')"
      ]
     },
     "execution_count": 171,
     "metadata": {},
     "output_type": "execute_result"
    },
    {
     "data": {
      "image/png": "[encoded data removed]",
      "text/plain": [
       "<Figure size 432x432 with 1 Axes>"
      ]
     },
     "metadata": {},
     "output_type": "display_data"
    }
   ],
   "source": [
    "sns.lmplot(data=new_df, x=\"Year\", y=\"RSI (ratio)\",height=6)\n",
    "plt.title(\"Akure\")\n",
    "plt.xlabel(\"Year\")\n",
    "plt.ylabel(\"Relative Strain Index (◦C)\")"
   ]
  },
  {
   "cell_type": "code",
   "execution_count": null,
   "id": "ea629f90",
   "metadata": {},
   "outputs": [],
   "source": []
  },
  {
   "cell_type": "code",
   "execution_count": null,
   "id": "7404e1ce",
   "metadata": {},
   "outputs": [],
   "source": []
  },
  {
   "cell_type": "code",
   "execution_count": null,
   "id": "5415756b",
   "metadata": {},
   "outputs": [],
   "source": []
  }
 ],
 "metadata": {
  "kernelspec": {
   "display_name": "Python 3",
   "language": "python",
   "name": "python3"
  },
  "language_info": {
   "codemirror_mode": {
    "name": "ipython",
    "version": 3
   },
   "file_extension": ".py",
   "mimetype": "text/x-python",
   "name": "python",
   "nbconvert_exporter": "python",
   "pygments_lexer": "ipython3",
   "version": "3.8.8"
  }
 },
 "nbformat": 4,
 "nbformat_minor": 5
}
