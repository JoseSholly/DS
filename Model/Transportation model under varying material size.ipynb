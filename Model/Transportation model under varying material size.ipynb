{
 "cells": [
  {
   "cell_type": "markdown",
   "metadata": {},
   "source": [
    "# Transportation model under varying material sizes"
   ]
  },
  {
   "cell_type": "markdown",
   "metadata": {},
   "source": [
    "# "
   ]
  },
  {
   "cell_type": "code",
   "execution_count": 181,
   "metadata": {},
   "outputs": [
    {
     "name": "stdout",
     "output_type": "stream",
     "text": [
      "Optimal\n",
      "20 units of Paint on Truck 2\n",
      "15 units of POP Cement on Truck 1\n",
      "10 units of Cement Bags on Truck 1\n",
      "20 units of Cement Bags on Truck 2\n"
     ]
    }
   ],
   "source": [
    "from pulp import LpProblem, LpVariable, LpInteger, lpSum, LpMinimize\n",
    "\n",
    "class Material:\n",
    "    def __init__(self, name, size, demand):\n",
    "        self.name = name\n",
    "        self.size = size\n",
    "        self.demand = demand\n",
    "\n",
    "class Truck:\n",
    "    def __init__(self, name, capacity):\n",
    "        self.name = name\n",
    "        self.capacity = capacity\n",
    "\n",
    "def solve_transportation(materials, trucks):\n",
    "    problem = LpProblem(\"TransportationProblem\", LpMinimize)\n",
    "    transport_vars = LpVariable.dicts(\"Transport\", ((m, t) for m in materials for t in trucks), lowBound=0, cat=LpInteger)\n",
    "\n",
    "    # Objective function: minimize the sum of transported materials\n",
    "    problem += lpSum(transport_vars[(m, t)] for m in materials for t in trucks)\n",
    "\n",
    "    # Supply and demand constraints\n",
    "    for m in materials:\n",
    "        problem += lpSum(transport_vars[(m, t)] for t in trucks) == m.demand\n",
    "\n",
    "    # Truck capacity constraints\n",
    "    for t in trucks:\n",
    "        problem += lpSum(transport_vars[(m, t)] * m.size for m in materials) <= t.capacity\n",
    "\n",
    "    # Solve the problem\n",
    "    problem.solve()\n",
    "    print(LpStatus[problem.status])\n",
    "\n",
    "    # Print results\n",
    "    for m in materials:\n",
    "        for t in trucks:\n",
    "            if transport_vars[(m, t)].varValue > 0:\n",
    "                print(f\"{int(transport_vars[(m, t)].varValue)} units of {m.name} on {t.name}\")\n",
    "\n",
    "# Creating materials\n",
    "material1 = Material(\"Paint\", 10, 20)\n",
    "material2 = Material(\"POP Cement\", 40, 15)\n",
    "material3 = Material(\"Cement Bags\", 50, 30)\n",
    "\n",
    "\n",
    "# Creating trucks\n",
    "truck1 = Truck(\"Truck 1\", 1100)\n",
    "truck2 = Truck(\"Truck 2\", 1200)\n",
    "\n",
    "# List of materials and trucks\n",
    "materials_to_transport = [material1, material2, material3]\n",
    "trucks_available = [truck1, truck2]\n",
    "\n",
    "# Solve the transportation problem\n",
    "solve_transportation(materials_to_transport, trucks_available)\n"
   ]
  },
  {
   "cell_type": "code",
   "execution_count": 178,
   "metadata": {},
   "outputs": [
    {
     "name": "stdout",
     "output_type": "stream",
     "text": [
      "Infeasible\n",
      "1 units of Steel Beam on Truck 1\n",
      "28 units of Steel Beam on Truck 2\n",
      "25 units of Cement Bags on Truck 2\n"
     ]
    }
   ],
   "source": [
    "from pulp import LpProblem, LpVariable, LpInteger, lpSum, LpMinimize\n",
    "\n",
    "class Material:\n",
    "    def __init__(self, name, size, demand):\n",
    "        self.name = name\n",
    "        self.size = size\n",
    "        self.demand = demand\n",
    "\n",
    "class Truck:\n",
    "    def __init__(self, name, capacity):\n",
    "        self.name = name\n",
    "        self.capacity = capacity\n",
    "\n",
    "def solve_transportation(materials, trucks):\n",
    "    problem = LpProblem(\"TransportationProblem\", LpMinimize)\n",
    "    transport_vars = LpVariable.dicts(\"Transport\", ((m, t) for m in materials for t in trucks), lowBound=0, cat=LpInteger)\n",
    "\n",
    "    # Objective function: minimize the sum of transported materials\n",
    "    problem += lpSum(transport_vars[(m, t)] for m in materials for t in trucks)\n",
    "\n",
    "    # Supply and demand constraints\n",
    "    for m in materials:\n",
    "        problem += lpSum(transport_vars[(m, t)] for t in trucks) == m.demand\n",
    "\n",
    "    # Truck capacity constraints\n",
    "    for t in trucks:\n",
    "        problem += lpSum(transport_vars[(m, t)] * m.size for m in materials) <= t.capacity\n",
    "\n",
    "    # Solve the problem\n",
    "    problem.solve()\n",
    "    print(LpStatus[problem.status])\n",
    "\n",
    "\n",
    "    # Print results\n",
    "    for m in materials:\n",
    "        for t in trucks:\n",
    "            if transport_vars[(m, t)].varValue > 0:\n",
    "                print(f\"{int(transport_vars[(m, t)].varValue)} units of {m.name} on {t.name}\")\n",
    "\n",
    "# Creating materials\n",
    "material1 = Material(\"Lumber\", 10, 15)\n",
    "material2 = Material(\"Steel Beam\", 30, 30)\n",
    "material3 = Material(\"Cement Bags\", 20, 15)\n",
    "\n",
    "# Creating trucks\n",
    "truck1 = Truck(\"Truck 1\", 35)\n",
    "truck2 = Truck(\"Truck 2\", 25)\n",
    "\n",
    "# List of materials and trucks\n",
    "materials_to_transport = [material1, material2, material3]\n",
    "trucks_available = [truck1, truck2]\n",
    "\n",
    "# Solve the transportation problem\n",
    "solve_transportation(materials_to_transport, trucks_available)\n"
   ]
  },
  {
   "cell_type": "code",
   "execution_count": 180,
   "metadata": {},
   "outputs": [
    {
     "name": "stdout",
     "output_type": "stream",
     "text": [
      "Optimal\n",
      "Objective value: 800.0\n",
      "Transport 50.0 units from Supplier1 to ConsumerC\n",
      "Transport 30.0 units from Supplier2 to ConsumerA\n",
      "Transport 40.0 units from Supplier2 to ConsumerB\n"
     ]
    }
   ],
   "source": [
    "from pulp import LpProblem, LpVariable, lpSum, LpMinimize\n",
    "\n",
    "# Data\n",
    "suppliers = [\"Supplier1\", \"Supplier2\"]\n",
    "consumers = [\"ConsumerA\", \"ConsumerB\", \"ConsumerC\"]\n",
    "supply_capacity = {\"Supplier1\": 50, \"Supplier2\": 70}\n",
    "demand_requirement = {\"ConsumerA\": 30, \"ConsumerB\": 40, \"ConsumerC\": 50}\n",
    "cost_per_unit = {\n",
    "    (\"Supplier1\", \"ConsumerA\"): 5,\n",
    "    (\"Supplier1\", \"ConsumerB\"): 7,\n",
    "    (\"Supplier1\", \"ConsumerC\"): 6,\n",
    "    (\"Supplier2\", \"ConsumerA\"): 6,\n",
    "    (\"Supplier2\", \"ConsumerB\"): 8,\n",
    "    (\"Supplier2\", \"ConsumerC\"): 9\n",
    "}\n",
    "\n",
    "# Create LP problem\n",
    "problem = LpProblem(\"TransportationProblem\", LpMinimize)\n",
    "\n",
    "# Create decision variables\n",
    "transport_vars = LpVariable.dicts(\"Transport\", ((i, j) for i in suppliers for j in consumers), lowBound=0, cat=\"Continuous\")\n",
    "\n",
    "# Objective function\n",
    "problem += lpSum(transport_vars[(i, j)] * cost_per_unit[(i, j)] for i in suppliers for j in consumers)\n",
    "\n",
    "# Supply constraints\n",
    "for i in suppliers:\n",
    "    problem += lpSum(transport_vars[(i, j)] for j in consumers) <= supply_capacity[i]\n",
    "\n",
    "# Demand constraints\n",
    "for j in consumers:\n",
    "    problem += lpSum(transport_vars[(i, j)] for i in suppliers) == demand_requirement[j]\n",
    "\n",
    "# Solve the problem\n",
    "problem.solve()\n",
    "print(LpStatus[problem.status])\n",
    "\n",
    "# Print results\n",
    "print(\"Objective value:\", problem.objective.value())\n",
    "for i in suppliers:\n",
    "    for j in consumers:\n",
    "        if transport_vars[(i, j)].varValue > 0:\n",
    "            print(f\"Transport {transport_vars[(i, j)].varValue} units from {i} to {j}\")\n"
   ]
  },
  {
   "cell_type": "code",
   "execution_count": null,
   "metadata": {},
   "outputs": [],
   "source": []
  }
 ],
 "metadata": {
  "kernelspec": {
   "display_name": "Python 3",
   "language": "python",
   "name": "python3"
  },
  "language_info": {
   "codemirror_mode": {
    "name": "ipython",
    "version": 3
   },
   "file_extension": ".py",
   "mimetype": "text/x-python",
   "name": "python",
   "nbconvert_exporter": "python",
   "pygments_lexer": "ipython3",
   "version": "3.8.8"
  }
 },
 "nbformat": 4,
 "nbformat_minor": 2
}
