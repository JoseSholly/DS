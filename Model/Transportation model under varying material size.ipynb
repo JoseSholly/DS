{
 "cells": [
  {
   "cell_type": "markdown",
   "metadata": {},
   "source": [
    "# Transportation model under varying material sizes"
   ]
  },
  {
   "cell_type": "markdown",
   "metadata": {},
   "source": [
    "**Transportation Problem: Optimizing Material Delivery**\n",
    "\n",
    "Managing a construction supply company that needs to deliver different types of construction materials to various construction sites. Your goal is to minimize transportation costs while meeting demand and respecting the capacity of the delivery trucks.\n",
    "\n",
    "**Materials:**\n",
    "- Paint: Each unit weighs 10kg.\n",
    "- POP Cement: Each unit weighs 40kg.\n",
    "- Cement Bags: Each unit weighs 50kg.\n",
    "\n",
    "**Trucks:**\n",
    "- Truck 1: Can carry up to 8,000kg of load.\n",
    "- Truck 2: Can carry up to 10,000kg of load.\n",
    "\n",
    "The aim determines how much weights of each material to load onto each truck in order to minimize the total amount of materials transported while ensuring that the demand for each material is met and the truck capacities are not exceeded.\n",
    "\n",
    "The objective is to find the optimal distribution of materials that minimizes the transportation cost.\n",
    "\n",
    "**Constraints:**\n",
    "1. Supply equals demand: The sum of each material transported on all trucks must equal the demand for that material.\n",
    "2. Truck capacity: The sum of the product of each material's amount and size loaded on each truck must not exceed the truck's capacity.\n",
    "\n",
    "The task is to develop an optimization model that assigns the materials to the trucks in a way that satisfies the constraints and minimizes the total transportation cost. This will help the company efficiently deliver materials to construction sites while optimizing resource utilization.\n",
    "\n"
   ]
  },
  {
   "cell_type": "markdown",
   "metadata": {},
   "source": [
    "# "
   ]
  },
  {
   "cell_type": "code",
   "execution_count": 34,
   "metadata": {},
   "outputs": [
    {
     "name": "stdout",
     "output_type": "stream",
     "text": [
      "TransportationProblem:\n",
      "MINIMIZE\n",
      "1*Transport_(Cement_Bags,_50,140,_Truck_1,_8000) + 1*Transport_(Cement_Bags,_50,140,_Truck_2,_10000) + 1*Transport_(POP_Cement,_40,150,_Truck_1,_8000) + 1*Transport_(POP_Cement,_40,150,_Truck_2,_10000) + 1*Transport_(Paint,_10,450,_Truck_1,_8000) + 1*Transport_(Paint,_10,450,_Truck_2,_10000) + 0\n",
      "SUBJECT TO\n",
      "_C1: Transport_(Paint,_10,450,_Truck_1,_8000)\n",
      " + Transport_(Paint,_10,450,_Truck_2,_10000) = 450\n",
      "\n",
      "_C2: Transport_(POP_Cement,_40,150,_Truck_1,_8000)\n",
      " + Transport_(POP_Cement,_40,150,_Truck_2,_10000) = 150\n",
      "\n",
      "_C3: Transport_(Cement_Bags,_50,140,_Truck_1,_8000)\n",
      " + Transport_(Cement_Bags,_50,140,_Truck_2,_10000) = 140\n",
      "\n",
      "_C4: 50 Transport_(Cement_Bags,_50,140,_Truck_1,_8000)\n",
      " + 40 Transport_(POP_Cement,_40,150,_Truck_1,_8000)\n",
      " + 10 Transport_(Paint,_10,450,_Truck_1,_8000) <= 8000\n",
      "\n",
      "_C5: 50 Transport_(Cement_Bags,_50,140,_Truck_2,_10000)\n",
      " + 40 Transport_(POP_Cement,_40,150,_Truck_2,_10000)\n",
      " + 10 Transport_(Paint,_10,450,_Truck_2,_10000) <= 10000\n",
      "\n",
      "VARIABLES\n",
      "0 <= Transport_(Cement_Bags,_50,140,_Truck_1,_8000) Integer\n",
      "0 <= Transport_(Cement_Bags,_50,140,_Truck_2,_10000) Integer\n",
      "0 <= Transport_(POP_Cement,_40,150,_Truck_1,_8000) Integer\n",
      "0 <= Transport_(POP_Cement,_40,150,_Truck_2,_10000) Integer\n",
      "0 <= Transport_(Paint,_10,450,_Truck_1,_8000) Integer\n",
      "0 <= Transport_(Paint,_10,450,_Truck_2,_10000) Integer\n",
      "\n",
      "Problem Status: Optimal\n",
      "Optimal Solution:\n",
      "450 units of Paint on Truck 1\n",
      "150 units of POP Cement on Truck 2\n",
      "60 units of Cement Bags on Truck 1\n",
      "80 units of Cement Bags on Truck 2\n"
     ]
    }
   ],
   "source": [
    "from pulp import *\n",
    "\n",
    "class Material:\n",
    "    def __init__(self, name, size, demand):\n",
    "        self.name = name\n",
    "        self.size = size\n",
    "        self.demand = demand\n",
    "\n",
    "    def __repr__(self):\n",
    "        return f\"{str(self.name)}, {int(self.size)},{int(self.demand)}\"\n",
    "    \n",
    "\n",
    "class Truck:\n",
    "    def __init__(self, name, capacity):\n",
    "        self.name = name\n",
    "        self.capacity = capacity\n",
    "    def __repr__(self):\n",
    "        return f\"{self.name}, {self.capacity}\"\n",
    "\n",
    "    \n",
    "        \n",
    "\n",
    "def solve_transportation(materials, trucks):\n",
    "    problem = LpProblem(\"TransportationProblem\", LpMinimize)\n",
    "    transport_vars = LpVariable.dicts(\"Transport\", [(m, t) for m in materials for t in trucks], lowBound=0, cat=LpInteger)\n",
    "    \n",
    "    # Objective function: minimize the sum of transported materials\n",
    "    problem += lpSum(transport_vars[(m, t)] for m in materials for t in trucks)\n",
    "\n",
    "    # Supply and demand constraints\n",
    "    for m in materials:\n",
    "        problem += lpSum(transport_vars[(m, t)] for t in trucks) == m.demand\n",
    "\n",
    "    # Truck capacity constraints\n",
    "    for t in trucks:\n",
    "        problem += lpSum(transport_vars[(m, t)] * m.size for m in materials) <= t.capacity\n",
    "\n",
    "    print(problem)\n",
    "    \n",
    "\n",
    "    # Solve the problem\n",
    "    problem.solve()\n",
    "    print(f\"Problem Status: {LpStatus[problem.status]}\\nOptimal Solution:\")\n",
    "    # Print results\n",
    "    for m in materials:\n",
    "        for t in trucks:\n",
    "            if transport_vars[(m, t)].varValue >0:\n",
    "                print(f\"{int(transport_vars[(m, t)].varValue)} units of {m.name} on {t.name}\")\n",
    "\n",
    "    # print(value(problem.objective))\n",
    "\n",
    "    \n",
    "\n",
    "    \n",
    "# Creating materials\n",
    "material1 = Material(\"Paint\", 10, 450)\n",
    "material2 = Material(\"POP Cement\", 40, 150)\n",
    "material3 = Material(\"Cement Bags\", 50, 140)\n",
    "\n",
    "\n",
    "# Creating trucks\n",
    "truck1 = Truck(\"Truck 1\", 8000)\n",
    "truck2 = Truck(\"Truck 2\", 10000)\n",
    "\n",
    "# List of materials and trucks\n",
    "materials_to_transport = [material1, material2, material3]\n",
    "\n",
    "\n",
    "trucks_available = [truck1, truck2]\n",
    "\n",
    "# Solve the transportation problem\n",
    "solve_transportation(materials_to_transport, trucks_available)\n"
   ]
  },
  {
   "cell_type": "markdown",
   "metadata": {},
   "source": [
    "## Expalanation of Solution\n",
    "**Optimal Solution**\n",
    "After solving the LP model, the solution indicates the optimal distribution of materials that minimizes the total transportation cost while satisfying supply, demand, and truck capacity constraints.\n",
    "This allocation minimizes the total transportation cost while meeting material demand and respecting truck capacities.\n",
    "\n",
    "\n",
    "**Optimality:**\n",
    "The solution is considered optimal when the transportation cost cannot be further reduced while satisfying all constraints. The optimization algorithm ensures that the chosen shipping plan is the most cost-efficient considering the provided data and constraints."
   ]
  },
  {
   "cell_type": "markdown",
   "metadata": {},
   "source": []
  }
 ],
 "metadata": {
  "kernelspec": {
   "display_name": "Python 3",
   "language": "python",
   "name": "python3"
  },
  "language_info": {
   "codemirror_mode": {
    "name": "ipython",
    "version": 3
   },
   "file_extension": ".py",
   "mimetype": "text/x-python",
   "name": "python",
   "nbconvert_exporter": "python",
   "pygments_lexer": "ipython3",
   "version": "3.9.7"
  }
 },
 "nbformat": 4,
 "nbformat_minor": 2
}
