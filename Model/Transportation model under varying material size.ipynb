{
 "cells": [
  {
   "cell_type": "markdown",
   "metadata": {},
   "source": [
    "# Transportation model under varying material sizes"
   ]
  },
  {
   "cell_type": "markdown",
   "metadata": {},
   "source": [
    "# "
   ]
  },
  {
   "cell_type": "code",
   "execution_count": 1,
   "metadata": {},
   "outputs": [
    {
     "name": "stdout",
     "output_type": "stream",
     "text": [
      "Steel Beam on <__main__.Truck object at 0x0000011FED3AF0A0>: 1.3333333\n",
      "Steel Beam on <__main__.Truck object at 0x0000011FCA5FA880>: 28.666667\n",
      "None\n"
     ]
    }
   ],
   "source": [
    "from pulp import LpProblem, LpVariable, lpSum, LpMinimize\n",
    "\n",
    "class Material:\n",
    "    def __init__(self, name, size):\n",
    "        self.name = name\n",
    "        self.size = size\n",
    "\n",
    "class Truck:\n",
    "    def __init__(self, capacity):\n",
    "        self.capacity = capacity\n",
    "\n",
    "def solve_transportation(materials, trucks):\n",
    "    # Create a linear programming problem\n",
    "    problem = LpProblem(\"TransportationProblem\", LpMinimize)\n",
    "\n",
    "    # Create decision variables: amount of each material to be transported on each truck\n",
    "    transport_vars = LpVariable.dicts(\"Transport\", ((m, t) for m in materials for t in trucks), lowBound=0, cat=\"Integer\")\n",
    "\n",
    "    # Define the objective function: minimize the sum of transported materials\n",
    "    problem += lpSum(transport_vars[(m, t)] for m in materials for t in trucks)\n",
    "\n",
    "    # Add constraints: material supply must be equal to demand, and truck capacity must not be exceeded\n",
    "    for m in materials:\n",
    "        problem += lpSum(transport_vars[(m, t)] for t in trucks) == m.size\n",
    "\n",
    "    for t in trucks:\n",
    "        problem += lpSum(transport_vars[(m, t)] * m.size for m in materials) <= t.capacity\n",
    "\n",
    "    # Solve the problem\n",
    "    problem.solve()\n",
    "\n",
    "    # Print results\n",
    "    for m in materials:\n",
    "        for t in trucks:\n",
    "            if transport_vars[(m, t)].varValue > 0:\n",
    "                print(f\"{m.name} on {t}: {transport_vars[(m, t)].varValue}\")\n",
    "\n",
    "# Creating materials\n",
    "material1 = Material(\"Lumber\", 10)\n",
    "material2 = Material(\"Steel Beam\", 30)\n",
    "material3 = Material(\"Cement Bags\", 20)\n",
    "\n",
    "# Creating trucks\n",
    "truck1 = Truck(40)\n",
    "truck2 = Truck(50)\n",
    "\n",
    "# List of materials and trucks\n",
    "materials_to_transport = [material1, material2, material3]\n",
    "trucks_available = [truck1, truck2]\n",
    "\n",
    "# Solve the transportation problem\n",
    "print(solve_transportation(materials_to_transport, trucks_available))\n"
   ]
  },
  {
   "cell_type": "code",
   "execution_count": 2,
   "metadata": {},
   "outputs": [
    {
     "name": "stdout",
     "output_type": "stream",
     "text": [
      "Loaded Lumber (Size: 10)\n",
      "Loaded Steel Beam (Size: 30)\n",
      "Loaded Cement Bags (Size: 20)\n"
     ]
    }
   ],
   "source": [
    "class Material:\n",
    "    def __init__(self, name, size):\n",
    "        self.name = name\n",
    "        self.size = size\n",
    "\n",
    "class Truck:\n",
    "    def __init__(self, capacity):\n",
    "        self.capacity = capacity\n",
    "        self.current_load = []\n",
    "\n",
    "    def load_material(self, material):\n",
    "        if self.current_load_size() + material.size <= self.capacity:\n",
    "            self.current_load.append(material)\n",
    "            print(f\"Loaded {material.name} (Size: {material.size})\")\n",
    "        else:\n",
    "            print(\"Insufficient space to load material.\")\n",
    "\n",
    "    def current_load_size(self):\n",
    "        return sum(material.size for material in self.current_load)\n",
    "\n",
    "class TransportationSystem:\n",
    "    def __init__(self):\n",
    "        self.trucks = []\n",
    "\n",
    "    def add_truck(self, truck):\n",
    "        self.trucks.append(truck)\n",
    "\n",
    "    def assign_materials_to_trucks(self, materials):\n",
    "        for material in materials:\n",
    "            assigned = False\n",
    "            for truck in self.trucks:\n",
    "                if truck.current_load_size() + material.size <= truck.capacity:\n",
    "                    truck.load_material(material)\n",
    "                    assigned = True\n",
    "                    break\n",
    "            if not assigned:\n",
    "                print(f\"No available truck can accommodate {material.name}.\")\n",
    "\n",
    "# Creating materials\n",
    "material1 = Material(\"Lumber\", 10)\n",
    "material2 = Material(\"Steel Beam\", 30)\n",
    "material3 = Material(\"Cement Bags\", 20)\n",
    "\n",
    "# Creating trucks\n",
    "truck1 = Truck(40)\n",
    "truck2 = Truck(50)\n",
    "\n",
    "# Creating transportation system\n",
    "transport_system = TransportationSystem()\n",
    "transport_system.add_truck(truck1)\n",
    "transport_system.add_truck(truck2)\n",
    "\n",
    "# List of materials to transport\n",
    "materials_to_transport = [material1, material2, material3]\n",
    "\n",
    "# Simulate transportation\n",
    "transport_system.assign_materials_to_trucks(materials_to_transport)\n"
   ]
  },
  {
   "cell_type": "code",
   "execution_count": null,
   "metadata": {},
   "outputs": [],
   "source": []
  }
 ],
 "metadata": {
  "kernelspec": {
   "display_name": "Python 3",
   "language": "python",
   "name": "python3"
  },
  "language_info": {
   "codemirror_mode": {
    "name": "ipython",
    "version": 3
   },
   "file_extension": ".py",
   "mimetype": "text/x-python",
   "name": "python",
   "nbconvert_exporter": "python",
   "pygments_lexer": "ipython3",
   "version": "3.9.7"
  },
  "orig_nbformat": 4
 },
 "nbformat": 4,
 "nbformat_minor": 2
}
