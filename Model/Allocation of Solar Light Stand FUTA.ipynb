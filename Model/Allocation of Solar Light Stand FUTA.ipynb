{
 "cells": [
  {
   "cell_type": "code",
   "execution_count": 48,
   "id": "4581b2c1",
   "metadata": {},
   "outputs": [],
   "source": [
    "import numpy as np\n",
    "from scipy.optimize import linear_sum_assignment"
   ]
  },
  {
   "cell_type": "markdown",
   "id": "1e80243f",
   "metadata": {},
   "source": [
    "#### Sample Data for FUTA Campus Area (Obakekere and Obanla)"
   ]
  },
  {
   "cell_type": "code",
   "execution_count": 49,
   "id": "98f87d6c",
   "metadata": {},
   "outputs": [],
   "source": [
    "campus_areas= ['Obakekere','Obanla']"
   ]
  },
  {
   "cell_type": "markdown",
   "id": "f91e9f74",
   "metadata": {},
   "source": [
    "#### Sample data for solar light stand requirements for each campus area`"
   ]
  },
  {
   "cell_type": "code",
   "execution_count": 50,
   "id": "7ad73115",
   "metadata": {},
   "outputs": [],
   "source": [
    "stand_requirements= np.array([[15,20],\n",
    "                              [10,12],\n",
    "                              [8,6]])"
   ]
  },
  {
   "cell_type": "code",
   "execution_count": 51,
   "id": "a22fe149",
   "metadata": {},
   "outputs": [],
   "source": [
    "area_sizes= np.array([800, 1200])"
   ]
  },
  {
   "cell_type": "code",
   "execution_count": 52,
   "id": "0dca4b33",
   "metadata": {},
   "outputs": [],
   "source": [
    "foot_traffic_scores= np.array([0.7, 0.9])"
   ]
  },
  {
   "cell_type": "code",
   "execution_count": 53,
   "id": "ada98beb",
   "metadata": {},
   "outputs": [],
   "source": [
    "safety_score= np.array([0.9, 0.7])"
   ]
  },
  {
   "cell_type": "code",
   "execution_count": 54,
   "id": "b1a2a1b0",
   "metadata": {},
   "outputs": [],
   "source": [
    "cost_matrix=np.zeros((len(stand_requirements), len(campus_areas)),dtype= float)"
   ]
  },
  {
   "cell_type": "code",
   "execution_count": 55,
   "id": "7701fabb",
   "metadata": {},
   "outputs": [],
   "source": [
    "for i in range(len(stand_requirements)):\n",
    "    for j in range(len(campus_areas)):\n",
    "        cost_matrix[i][j]= (stand_requirements[i][j] / area_sizes[j]) * foot_traffic_scores[j] * safety_score[j]"
   ]
  },
  {
   "cell_type": "code",
   "execution_count": 56,
   "id": "2e6d3e35",
   "metadata": {},
   "outputs": [],
   "source": [
    "row_indices, col_indices= linear_sum_assignment(cost_matrix)"
   ]
  },
  {
   "cell_type": "code",
   "execution_count": 57,
   "id": "1505cf31",
   "metadata": {},
   "outputs": [
    {
     "name": "stdout",
     "output_type": "stream",
     "text": [
      "Optimal Allocation of Solar Light Stands: \n",
      "\n",
      "Stand 2 assigned to obakekere\n",
      "Stand 3 assigned to obanla\n"
     ]
    }
   ],
   "source": [
    "print(\"Optimal Allocation of Solar Light Stands: \\n\")\n",
    "for i in range(len(row_indices)):\n",
    "    stand_index= row_indices[i] + 1\n",
    "    area= campus_areas[col_indices[i]]\n",
    "    print(f\"Stand {stand_index} assigned to {area}\")"
   ]
  },
  {
   "cell_type": "code",
   "execution_count": null,
   "id": "fb91c60b",
   "metadata": {},
   "outputs": [],
   "source": []
  },
  {
   "cell_type": "code",
   "execution_count": null,
   "id": "157234fc",
   "metadata": {},
   "outputs": [],
   "source": []
  }
 ],
 "metadata": {
  "kernelspec": {
   "display_name": "Python 3",
   "language": "python",
   "name": "python3"
  },
  "language_info": {
   "codemirror_mode": {
    "name": "ipython",
    "version": 3
   },
   "file_extension": ".py",
   "mimetype": "text/x-python",
   "name": "python",
   "nbconvert_exporter": "python",
   "pygments_lexer": "ipython3",
   "version": "3.8.8"
  }
 },
 "nbformat": 4,
 "nbformat_minor": 5
}
