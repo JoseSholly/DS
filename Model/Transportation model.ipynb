{
 "cells": [
  {
   "cell_type": "markdown",
   "id": "07034c7e",
   "metadata": {},
   "source": [
    "# Transportation Model under changing commodity status"
   ]
  },
  {
   "cell_type": "markdown",
   "id": "939423f4",
   "metadata": {},
   "source": []
  },
  {
   "cell_type": "code",
   "execution_count": 5,
   "id": "7e2b51dc",
   "metadata": {},
   "outputs": [
    {
     "name": "stdout",
     "output_type": "stream",
     "text": [
      "Optimal transportation plan (initial costs):\n",
      "Ship 50.0 units from Factory1 to Customer2\n",
      "Ship 50.0 units from Factory1 to Customer3\n",
      "Ship 50.0 units from Factory2 to Customer1\n",
      "2350.0\n",
      "\n",
      "Optimal transportation plan (changing costs due to commodity status):\n",
      "Ship 50.0 units from Factory1 to Customer1\n",
      "Ship 50.0 units from Factory1 to Customer3\n",
      "Ship 50.0 units from Factory2 to Customer2\n",
      "2950.0\n"
     ]
    }
   ],
   "source": [
    "from pulp import *\n",
    "\n",
    "# Sample data (modify according to your specific problem)\n",
    "supply_nodes = ['Factory1', 'Factory2']\n",
    "demand_nodes = ['Customer1', 'Customer2', 'Customer3']\n",
    "commodities = ['Commodity1', 'Commodity2']\n",
    "\n",
    "# Initial transportation costs\n",
    "initial_transportation_costs = {\n",
    "    ('Factory1', 'Customer1'): 10,\n",
    "    ('Factory1', 'Customer2'): 15,\n",
    "    ('Factory1', 'Customer3'): 20,\n",
    "    ('Factory2', 'Customer1'): 12,\n",
    "    ('Factory2', 'Customer2'): 18,\n",
    "    ('Factory2', 'Customer3'): 22,\n",
    "}\n",
    "\n",
    "# Changing transportation costs due to commodity status\n",
    "changing_transportation_costs = {\n",
    "    ('Factory1', 'Customer1'): 12,\n",
    "    ('Factory1', 'Customer2'): 20,\n",
    "    ('Factory1', 'Customer3'): 25,\n",
    "    ('Factory2', 'Customer1'): 15,\n",
    "    ('Factory2', 'Customer2'): 22,\n",
    "    ('Factory2', 'Customer3'): 28,\n",
    "}\n",
    "\n",
    "# Create a Linear Programming problem\n",
    "transport_model = LpProblem(name=\"Transportation_Model\", sense=LpMinimize)\n",
    "\n",
    "# Decision variables\n",
    "x = LpVariable.dicts(\"Shipment\", ((i, j) for i in supply_nodes for j in demand_nodes), lowBound=0, cat='Integer')\n",
    "\n",
    "# Objective function: minimize transportation costs\n",
    "transport_model += lpSum(initial_transportation_costs[(i, j)] * x[(i, j)] for i in supply_nodes for j in demand_nodes)\n",
    "\n",
    "# Constraints: supply and demand balance\n",
    "for i in supply_nodes:\n",
    "    transport_model += lpSum(x[(i, j)] for j in demand_nodes) <= 100  # Total supply capacity\n",
    "\n",
    "for j in demand_nodes:\n",
    "    transport_model += lpSum(x[(i, j)] for i in supply_nodes) >= 50  # Total demand requirement\n",
    "\n",
    "# Solve the problem with initial transportation costs\n",
    "transport_model.solve()\n",
    "\n",
    "# Print the results with initial transportation costs\n",
    "print(\"Optimal transportation plan (initial costs):\")\n",
    "for i in supply_nodes:\n",
    "    for j in demand_nodes:\n",
    "        if x[(i, j)].varValue > 0:\n",
    "            print(f\"Ship {x[(i, j)].varValue} units from {i} to {j}\")\n",
    "\n",
    "print(value(transport_model.objective))\n",
    "\n",
    "# Update the transportation costs to changing commodity status\n",
    "for (i, j), cost in changing_transportation_costs.items():\n",
    "    initial_transportation_costs[(i, j)] = cost\n",
    "\n",
    "# Update the objective function with changing transportation costs\n",
    "transport_model.objective = lpSum(initial_transportation_costs[(i, j)] * x[(i, j)] for i in supply_nodes for j in demand_nodes)\n",
    "\n",
    "# Solve the problem with changing transportation costs\n",
    "transport_model.solve()\n",
    "\n",
    "# Print the results with changing transportation costs\n",
    "print(\"\\nOptimal transportation plan (changing costs due to commodity status):\")\n",
    "for i in supply_nodes:\n",
    "    for j in demand_nodes:\n",
    "        if x[(i, j)].varValue > 0:\n",
    "            print(f\"Ship {x[(i, j)].varValue} units from {i} to {j}\")\n",
    "\n",
    "print(value(transport_model.objective))\n",
    "\n"
   ]
  },
  {
   "cell_type": "code",
   "execution_count": null,
   "id": "45cc7de4",
   "metadata": {},
   "outputs": [],
   "source": []
  }
 ],
 "metadata": {
  "kernelspec": {
   "display_name": "Python 3",
   "language": "python",
   "name": "python3"
  },
  "language_info": {
   "codemirror_mode": {
    "name": "ipython",
    "version": 3
   },
   "file_extension": ".py",
   "mimetype": "text/x-python",
   "name": "python",
   "nbconvert_exporter": "python",
   "pygments_lexer": "ipython3",
   "version": "3.9.7"
  }
 },
 "nbformat": 4,
 "nbformat_minor": 5
}
