{
 "cells": [
  {
   "cell_type": "markdown",
   "id": "07034c7e",
   "metadata": {},
   "source": [
    "# Transportation Model under changing commodity status"
   ]
  },
  {
   "cell_type": "code",
   "execution_count": 2,
   "id": "a2bd718f",
   "metadata": {},
   "outputs": [],
   "source": [
    "from pulp import *"
   ]
  },
  {
   "cell_type": "markdown",
   "id": "0eb6cd83",
   "metadata": {},
   "source": [
    "### Supply nodes (e.g Factories, warehouse) and their capacities"
   ]
  },
  {
   "cell_type": "code",
   "execution_count": 3,
   "id": "5a1d27a0",
   "metadata": {},
   "outputs": [],
   "source": [
    "supply_nodes= ['Factory1','Factory2']"
   ]
  },
  {
   "cell_type": "markdown",
   "id": "ecc78283",
   "metadata": {},
   "source": [
    "### Demand nodes (e.g retail outlets, customers) and their demands"
   ]
  },
  {
   "cell_type": "code",
   "execution_count": 4,
   "id": "ef200bea",
   "metadata": {},
   "outputs": [],
   "source": [
    "demand_nodes = ['Customer1','Customer2','Customer3']\n",
    "\n",
    "commodities= ['Commodity1', 'Commodity2']"
   ]
  },
  {
   "cell_type": "markdown",
   "id": "6fe52063",
   "metadata": {},
   "source": [
    "### Transportation Cost from supply nodes to demands nodes"
   ]
  },
  {
   "cell_type": "code",
   "execution_count": 5,
   "id": "d4fdf668",
   "metadata": {},
   "outputs": [],
   "source": [
    "initial_transportation_costs= {\n",
    "    ('Factory1', 'Customer1'):30,\n",
    "    ('Factory1', 'Customer2'):40,\n",
    "    ('Factory1', 'Customer3'):20,\n",
    "    ('Factory2', 'Customer1'):50,\n",
    "    ('Factory2', 'Customer2'):60,\n",
    "    ('Factory2', 'Customer3'):30,\n",
    "}"
   ]
  },
  {
   "cell_type": "code",
   "execution_count": 6,
   "id": "51ea56d4",
   "metadata": {},
   "outputs": [],
   "source": [
    "changing_transportation_costs= {\n",
    "    ('Factory1', 'Customer1'):40,\n",
    "    ('Factory1', 'Customer2'):50,\n",
    "    ('Factory1', 'Customer3'):20,\n",
    "    ('Factory2', 'Customer1'):70,\n",
    "    ('Factory2', 'Customer2'):40,\n",
    "    ('Factory2', 'Customer3'):65,\n",
    "}"
   ]
  },
  {
   "cell_type": "markdown",
   "id": "c2a1cddc",
   "metadata": {},
   "source": [
    "### Creating Linear Programming"
   ]
  },
  {
   "cell_type": "code",
   "execution_count": 7,
   "id": "8f8ecad1",
   "metadata": {},
   "outputs": [],
   "source": [
    "transport_model= LpProblem(name='Transportation_Model', sense= LpMinimize)\n"
   ]
  },
  {
   "cell_type": "markdown",
   "id": "dece4b0d",
   "metadata": {},
   "source": [
    "### Decision variable"
   ]
  },
  {
   "cell_type": "code",
   "execution_count": 8,
   "id": "e012fb8d",
   "metadata": {},
   "outputs": [
    {
     "name": "stdout",
     "output_type": "stream",
     "text": [
      "{('Factory1', 'Customer1'): Shipment_('Factory1',_'Customer1'), ('Factory1', 'Customer2'): Shipment_('Factory1',_'Customer2'), ('Factory1', 'Customer3'): Shipment_('Factory1',_'Customer3'), ('Factory2', 'Customer1'): Shipment_('Factory2',_'Customer1'), ('Factory2', 'Customer2'): Shipment_('Factory2',_'Customer2'), ('Factory2', 'Customer3'): Shipment_('Factory2',_'Customer3')}\n"
     ]
    }
   ],
   "source": [
    "x= LpVariable.dicts(\"Shipment\", ((i, j) for i in supply_nodes for j in demand_nodes), lowBound=0, cat='Integer')\n",
    "print(x)"
   ]
  },
  {
   "cell_type": "markdown",
   "id": "67ccdcd3",
   "metadata": {},
   "source": [
    "### Objective function: minimize transportation costs"
   ]
  },
  {
   "cell_type": "code",
   "execution_count": 9,
   "id": "2a9b139a",
   "metadata": {},
   "outputs": [],
   "source": [
    "transport_model+=lpSum(initial_transportation_costs[(i, j)] * x[(i, j)] for i in supply_nodes for j in demand_nodes)"
   ]
  },
  {
   "cell_type": "markdown",
   "id": "3fad2875",
   "metadata": {},
   "source": [
    "###  Constraints: supply and demand balance"
   ]
  },
  {
   "cell_type": "code",
   "execution_count": 10,
   "id": "2247a7a9",
   "metadata": {},
   "outputs": [],
   "source": [
    "for i in supply_nodes:\n",
    "    transport_model+=lpSum(x[(i, j)] for j in demand_nodes)<=80\n",
    "    \n",
    "for j in demand_nodes:\n",
    "    transport_model += lpSum(x[(i, j)] for i in supply_nodes)>=35"
   ]
  },
  {
   "cell_type": "code",
   "execution_count": 11,
   "id": "74dfc4c7",
   "metadata": {},
   "outputs": [
    {
     "data": {
      "text/plain": [
       "1"
      ]
     },
     "execution_count": 11,
     "metadata": {},
     "output_type": "execute_result"
    }
   ],
   "source": [
    "transport_model.solve()"
   ]
  },
  {
   "cell_type": "code",
   "execution_count": 12,
   "id": "abf2fa48",
   "metadata": {},
   "outputs": [
    {
     "name": "stdout",
     "output_type": "stream",
     "text": [
      "Optimal tansportation plan (initial costs): \n",
      "Ship 35.0 units from Factory1 to Customer1\n",
      "Ship 35.0 units from Factory1 to Customer2\n",
      "Ship 10.0 units from Factory1 to Customer3\n",
      "Ship 25.0 units from Factory2 to Customer3\n"
     ]
    }
   ],
   "source": [
    "print(\"Optimal tansportation plan (initial costs): \")\n",
    "for i in supply_nodes:\n",
    "    for j in demand_nodes:\n",
    "        if x[i, j].varValue>0:\n",
    "            print(f\"Ship {x[(i, j)].varValue} units from {i} to {j}\");\n",
    "            \n"
   ]
  },
  {
   "cell_type": "code",
   "execution_count": 13,
   "id": "e9d8a429",
   "metadata": {},
   "outputs": [
    {
     "name": "stdout",
     "output_type": "stream",
     "text": [
      "Total Cost of Transportation: $ 3400.0\n"
     ]
    }
   ],
   "source": [
    "transport_model.objective= lpSum(initial_transportation_costs[(i, j)] * x[(i, j)] for i in supply_nodes for j in demand_nodes)\n",
    "print(f\"Total Cost of Transportation: $ {value(transport_model.objective)}\")"
   ]
  },
  {
   "cell_type": "code",
   "execution_count": 14,
   "id": "ad8b7c14",
   "metadata": {},
   "outputs": [],
   "source": [
    "for (i, j), cost in changing_transportation_costs.items():\n",
    "    initial_transportation_costs[(i, j)]= cost"
   ]
  },
  {
   "cell_type": "code",
   "execution_count": 15,
   "id": "6b12c764",
   "metadata": {},
   "outputs": [],
   "source": [
    "transport_model.objective= lpSum(initial_transportation_costs[(i, j)] * x[(i, j)] for i in supply_nodes for j in demand_nodes)"
   ]
  },
  {
   "cell_type": "code",
   "execution_count": 16,
   "id": "eb013760",
   "metadata": {},
   "outputs": [
    {
     "data": {
      "text/plain": [
       "1"
      ]
     },
     "execution_count": 16,
     "metadata": {},
     "output_type": "execute_result"
    }
   ],
   "source": [
    "transport_model.solve()"
   ]
  },
  {
   "cell_type": "code",
   "execution_count": 17,
   "id": "2d72485d",
   "metadata": {},
   "outputs": [
    {
     "name": "stdout",
     "output_type": "stream",
     "text": [
      "Optimal tansportation plan changing the cost due to commodity: \n",
      "\n",
      "Ship 35.0 units from Factory1 to Customer1\n",
      "Ship 35.0 units from Factory1 to Customer3\n",
      "Ship 35.0 units from Factory2 to Customer2\n"
     ]
    }
   ],
   "source": [
    "print(\"Optimal tansportation plan changing the cost due to commodity: \\n\")\n",
    "for i in supply_nodes:\n",
    "    for j in demand_nodes:\n",
    "        if x[i, j].varValue>0:\n",
    "            print(f\"Ship {x[(i, j)].varValue} units from {i} to {j}\")\n",
    "            "
   ]
  },
  {
   "cell_type": "code",
   "execution_count": 18,
   "id": "e38cf999",
   "metadata": {},
   "outputs": [
    {
     "name": "stdout",
     "output_type": "stream",
     "text": [
      "Total Cost of Transportation: $ 3500.0\n"
     ]
    }
   ],
   "source": [
    "print(f\"Total Cost of Transportation: $ {value(transport_model.objective)}\")"
   ]
  },
  {
   "cell_type": "code",
   "execution_count": null,
   "id": "461fe9dc",
   "metadata": {},
   "outputs": [],
   "source": []
  },
  {
   "cell_type": "code",
   "execution_count": null,
   "id": "6bc74790",
   "metadata": {},
   "outputs": [],
   "source": []
  },
  {
   "cell_type": "code",
   "execution_count": null,
   "id": "b48bb1a4",
   "metadata": {
    "scrolled": false
   },
   "outputs": [],
   "source": []
  },
  {
   "cell_type": "code",
   "execution_count": null,
   "id": "d7612b60",
   "metadata": {},
   "outputs": [],
   "source": []
  },
  {
   "cell_type": "code",
   "execution_count": null,
   "id": "68163180",
   "metadata": {},
   "outputs": [],
   "source": []
  },
  {
   "cell_type": "code",
   "execution_count": null,
   "id": "ceabfcf0",
   "metadata": {},
   "outputs": [],
   "source": []
  },
  {
   "cell_type": "markdown",
   "id": "fc406c9c",
   "metadata": {},
   "source": [
    "# Transportation Model under changing commodity status"
   ]
  },
  {
   "cell_type": "code",
   "execution_count": 19,
   "id": "95790741",
   "metadata": {},
   "outputs": [],
   "source": [
    "from pulp import *"
   ]
  },
  {
   "cell_type": "markdown",
   "id": "bfedcff3",
   "metadata": {},
   "source": [
    "### Supply nodes (e.g Factories, warehouse) and their capacities"
   ]
  },
  {
   "cell_type": "code",
   "execution_count": 20,
   "id": "b98ad28c",
   "metadata": {},
   "outputs": [],
   "source": [
    "supply_nodes= ['Factory1','Factory2']"
   ]
  },
  {
   "cell_type": "markdown",
   "id": "386a53ae",
   "metadata": {},
   "source": [
    "### Demand nodes (e.g retail outlets, customers) and their demands"
   ]
  },
  {
   "cell_type": "code",
   "execution_count": 21,
   "id": "5c25c4af",
   "metadata": {},
   "outputs": [],
   "source": [
    "demand_nodes = ['Customer1','Customer2','Customer3']\n",
    "\n",
    "commodities= ['Bread', 'Egg']"
   ]
  },
  {
   "cell_type": "markdown",
   "id": "6b337bf2",
   "metadata": {},
   "source": [
    "### Transportation Cost from supply nodes to demands nodes"
   ]
  },
  {
   "cell_type": "code",
   "execution_count": 22,
   "id": "bf24be58",
   "metadata": {},
   "outputs": [],
   "source": [
    "initial_shipments= {\n",
    "    ('Factory1', 'Customer1'):10,\n",
    "    ('Factory1', 'Customer2'):40,\n",
    "    ('Factory1', 'Customer3'):20,\n",
    "    ('Factory2', 'Customer1'):45,\n",
    "    ('Factory2', 'Customer2'):60,\n",
    "    ('Factory2', 'Customer3'):35,\n",
    "}"
   ]
  },
  {
   "cell_type": "code",
   "execution_count": null,
   "id": "39515dc7",
   "metadata": {},
   "outputs": [],
   "source": []
  },
  {
   "cell_type": "markdown",
   "id": "7a9ac34b",
   "metadata": {},
   "source": [
    "### Sample data for changing commodity status"
   ]
  },
  {
   "cell_type": "code",
   "execution_count": null,
   "id": "30735b40",
   "metadata": {},
   "outputs": [],
   "source": []
  },
  {
   "cell_type": "code",
   "execution_count": 23,
   "id": "ab74148b",
   "metadata": {},
   "outputs": [],
   "source": [
    "commodity_attributes= {\n",
    "    'Bread': {'perishable':True, 'demand_variability': 0.1},\n",
    "    'Egg': {'perishable':True, 'demand_variability': 0.2},\n",
    "}"
   ]
  },
  {
   "cell_type": "markdown",
   "id": "bdfd2197",
   "metadata": {},
   "source": [
    "### Creating Linear Programming"
   ]
  },
  {
   "cell_type": "code",
   "execution_count": 24,
   "id": "38c382cf",
   "metadata": {},
   "outputs": [],
   "source": [
    "transport_model= LpProblem(name='Transportation_Model', sense= LpMinimize)\n"
   ]
  },
  {
   "cell_type": "markdown",
   "id": "68b11721",
   "metadata": {},
   "source": [
    "### Decision variable"
   ]
  },
  {
   "cell_type": "code",
   "execution_count": 25,
   "id": "6843137c",
   "metadata": {},
   "outputs": [],
   "source": [
    "x= LpVariable.dicts(\"Shipment\", ((i, j) for i in supply_nodes for j in demand_nodes), lowBound=0, cat='Integer')"
   ]
  },
  {
   "cell_type": "markdown",
   "id": "7fc31094",
   "metadata": {},
   "source": [
    "### Objective function: minimize transportation costs"
   ]
  },
  {
   "cell_type": "code",
   "execution_count": 26,
   "id": "0db81eda",
   "metadata": {},
   "outputs": [],
   "source": [
    "# transport_model+=lpSum(initial_transportation_costs[(i, j)] * x[(i, j)] for i in supply_nodes for j in demand_nodes)\n",
    "transport_model += lpSum(x[(i, j)] for i in supply_nodes for j in demand_nodes)"
   ]
  },
  {
   "cell_type": "markdown",
   "id": "3516ea78",
   "metadata": {},
   "source": [
    "###  Constraints: supply and demand balance"
   ]
  },
  {
   "cell_type": "code",
   "execution_count": 27,
   "id": "1fa45a03",
   "metadata": {},
   "outputs": [],
   "source": [
    "for i in supply_nodes:\n",
    "    transport_model+=lpSum(x[(i, j)] for j in demand_nodes)<=80\n",
    "    \n",
    "for j in demand_nodes:\n",
    "    transport_model += lpSum(x[(i, j)] for i in supply_nodes)>=60"
   ]
  },
  {
   "cell_type": "code",
   "execution_count": 28,
   "id": "b0bdd281",
   "metadata": {},
   "outputs": [],
   "source": [
    "for j in demand_nodes:\n",
    "    for c in commodities:\n",
    "        if commodity_attributes[c]['perishable']:\n",
    "            transport_model+= lpSum(x[(i, j)] for i in supply_nodes)<= commodity_attributes[c]['demand_variability']*100"
   ]
  },
  {
   "cell_type": "code",
   "execution_count": 29,
   "id": "34436d3c",
   "metadata": {},
   "outputs": [
    {
     "data": {
      "text/plain": [
       "-1"
      ]
     },
     "execution_count": 29,
     "metadata": {},
     "output_type": "execute_result"
    }
   ],
   "source": [
    "transport_model.solve()"
   ]
  },
  {
   "cell_type": "code",
   "execution_count": 30,
   "id": "fe87fd34",
   "metadata": {},
   "outputs": [
    {
     "name": "stdout",
     "output_type": "stream",
     "text": [
      "Optimal tansportation plan\n",
      "\n",
      "Ship 60.0 units from Factory1 to Customer2\n",
      "Ship 60.0 units from Factory2 to Customer1\n",
      "Ship 60.0 units from Factory2 to Customer3\n"
     ]
    }
   ],
   "source": [
    "print(\"Optimal tansportation plan\\n\")\n",
    "for i in supply_nodes:\n",
    "    for j in demand_nodes:\n",
    "        if x[i, j].varValue>0:\n",
    "            print(f\"Ship {x[(i, j)].varValue} units from {i} to {j}\")\n",
    "            \n"
   ]
  },
  {
   "cell_type": "code",
   "execution_count": 31,
   "id": "e7080d06",
   "metadata": {},
   "outputs": [
    {
     "name": "stdout",
     "output_type": "stream",
     "text": [
      "Total Cost of Transportation: $ 180.0\n"
     ]
    }
   ],
   "source": [
    "print(f\"Total Cost of Transportation: $ {value(transport_model.objective)}\")"
   ]
  },
  {
   "cell_type": "code",
   "execution_count": null,
   "id": "44d2428a",
   "metadata": {},
   "outputs": [],
   "source": []
  },
  {
   "cell_type": "code",
   "execution_count": null,
   "id": "f95aa33c",
   "metadata": {
    "scrolled": false
   },
   "outputs": [],
   "source": []
  },
  {
   "cell_type": "code",
   "execution_count": null,
   "id": "ad5d047e",
   "metadata": {},
   "outputs": [],
   "source": []
  },
  {
   "cell_type": "code",
   "execution_count": null,
   "id": "162529a3",
   "metadata": {},
   "outputs": [],
   "source": []
  },
  {
   "cell_type": "code",
   "execution_count": null,
   "id": "b2983b3f",
   "metadata": {},
   "outputs": [],
   "source": []
  },
  {
   "cell_type": "code",
   "execution_count": null,
   "id": "7e2b51dc",
   "metadata": {},
   "outputs": [],
   "source": []
  },
  {
   "cell_type": "code",
   "execution_count": null,
   "id": "45cc7de4",
   "metadata": {},
   "outputs": [],
   "source": []
  }
 ],
 "metadata": {
  "kernelspec": {
   "display_name": "Python 3",
   "language": "python",
   "name": "python3"
  },
  "language_info": {
   "codemirror_mode": {
    "name": "ipython",
    "version": 3
   },
   "file_extension": ".py",
   "mimetype": "text/x-python",
   "name": "python",
   "nbconvert_exporter": "python",
   "pygments_lexer": "ipython3",
   "version": "3.9.7"
  }
 },
 "nbformat": 4,
 "nbformat_minor": 5
}
