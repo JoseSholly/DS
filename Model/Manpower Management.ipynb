{
 "cells": [
  {
   "cell_type": "markdown",
   "metadata": {},
   "source": [
    "# Manpower Management in a Furniture manufacturing industry using LP"
   ]
  },
  {
   "cell_type": "markdown",
   "metadata": {},
   "source": [
    "### **Problem Description:**\n",
    "A furniture manufacturing company produces three types of furniture: **chairs**, **tables**, and **cabinets**. Each product requires different amounts of raw materials and labor, and has varying profit margins. We want to determine the optimal production quantities for each item to maximize your profit while considering material availability and customer demand.\n",
    "\n",
    "#### **Given Information:**\n",
    "\n",
    "1. **Available resources:**\n",
    "- Wood: 500 units\n",
    "- Screws: 1000 units\n",
    "- Labor hours: 800 hours\n",
    "\n",
    "2. **Profit margins and resource requirements per unit:**\n",
    "- Chairs: Profit N20, Wood 3 units, Screws 10 units, Labor 1 hour\n",
    "- Tables: Profit N50, Wood 6 units, Screws 15 units, Labor 2 hours\n",
    "- Cabinets: Profit N30, Wood 4 units, Screws 8 units, Labor 3 hours\n",
    "\n",
    "3. **Demand constraints:**\n",
    "\n",
    "- Chairs: At least 50 units\n",
    "- Tables: At least 30 units\n",
    "- Cabinets: At least 20 units\n",
    "\n",
    "\n",
    "#### **Formulated Constraints and Objective:**\n",
    "\n",
    "1. **Decision Variables**\n",
    "- $x_{chairs}$: Numbers of chairs produced\n",
    "- $x_{tables}$: Numbers of tables produced\n",
    "- $x_{cabinets}$: Numbers of cabinets produced\n",
    "\n",
    "\n",
    "2. **Objective Function**: <br>\n",
    "Maximize Profit= $20x_{chairs} + 50x_{tables} + 30x_{cabinets}$\n",
    "\n",
    "3. **Constraints**\n",
    "- Material availability constraints:\n",
    "\n",
    "- $3x_{chairs} + 6x_{tables} + 4x_{cabinets} \\leq 500(Wood)$\n",
    "- $10x_{chairs} + 15x_{tables} + 8x_{cabinets} \\leq 1000(Screws)$\n",
    "\n",
    "- Labor hour constraints:\n",
    "- $x_{chairs} + 2x_{tables} + 3x_{cabinets} \\leq 800(Labor hours)$\n",
    "\n",
    "4. **Demand Constraints:**\n",
    "- $x_{chairs} \\leq 50$\n",
    "- $x_{tables} \\leq 30$\n",
    "- $x_{cabinets} \\leq 20$\n",
    "\n",
    "\n"
   ]
  },
  {
   "cell_type": "code",
   "execution_count": null,
   "metadata": {},
   "outputs": [
    {
     "name": "stdout",
     "output_type": "stream",
     "text": [
      "Status: Optimal\n",
      "Optimal Solution:\n",
      "Number of chairs produced: 50.0\n",
      "Number of tables produced: 45.0\n",
      "Number of cabinets produced: 20.0\n",
      "Total Profit: N3850.0\n"
     ]
    }
   ],
   "source": [
    "# Installing necessary python package \n",
    "import pulp\n",
    "\n",
    "# Create a LP problem\n",
    "model = pulp.LpProblem(\"Furniture_Manufacturing_Revised\", pulp.LpMaximize)\n",
    "\n",
    "# Decision Variables\n",
    "x_chairs = pulp.LpVariable(\"x_chairs\", lowBound=0, cat=\"Integer\")\n",
    "x_tables = pulp.LpVariable(\"x_tables\", lowBound=0, cat=\"Integer\")\n",
    "x_cabinets = pulp.LpVariable(\"x_cabinets\", lowBound=0, cat=\"Integer\")\n",
    "\n",
    "# Objective Function\n",
    "profit = 20 * x_chairs + 50 * x_tables + 30 * x_cabinets\n",
    "model += profit, \"Maximize_Profit\"\n",
    "\n",
    "# Resource availability constraints\n",
    "model += 3 * x_chairs + 6 * x_tables + 4 * x_cabinets <= 500, \"Wood_Constraint\"\n",
    "model += 2 * x_chairs + 5 * x_tables + 4 * x_cabinets <= 1000, \"Screws_Constraint\"\n",
    "\n",
    "# Labor hour constraint\n",
    "model += x_chairs + 2 * x_tables + 3 * x_cabinets <= 800, \"Labor_Constraint\"\n",
    "\n",
    "# Demand constraints\n",
    "model += x_chairs >= 50, \"Chairs_Demand_Constraint\"\n",
    "model += x_tables >= 30, \"Tables_Demand_Constraint\"\n",
    "model += x_cabinets >= 20, \"Cabinets_Demand_Constraint\"\n",
    "\n",
    "# Solve the LP problem\n",
    "model.solve()\n",
    "\n",
    "# Print the results\n",
    "print(\"Status:\",pulp.LpStatus[model.status])\n",
    "print(\"Optimal Solution:\")\n",
    "print(f\"Number of chairs produced:{x_chairs.varValue}\", )\n",
    "print(f\"Number of tables produced:{x_tables.varValue}\")\n",
    "print(f\"Number of cabinets produced:{x_cabinets.varValue}\")\n",
    "print(f\"Total Profit: N{pulp.value(model.objective)}\", )\n"
   ]
  },
  {
   "cell_type": "markdown",
   "metadata": {},
   "source": [
    "**Objective:**\n",
    "The objective of this problem is to maximize the total profit by determining the optimal quantities of chairs, tables, and cabinets to be produced by company.\n",
    "\n",
    "\n",
    "**Results:** The solver provides an optimal solution that maximizes the profit while satisfying all the constraints. The output of the code provides the following information:\n",
    "\n",
    "1. **Status:** The status indicates the result of the optimization process. In this case, the status should be \"Optimal,\" indicating that a feasible solution has been found that maximizes the objective function.\n",
    "\n",
    "2. **Optimal Solution:** The number of units produced for each type of furniture is provided. This is the solution that maximizes profit while adhering to all constraints.\n",
    "\n",
    "3. **Total Profit:** The calculated total profit from producing the optimal quantities of each type of furniture."
   ]
  }
 ],
 "metadata": {
  "kernelspec": {
   "display_name": "Python 3",
   "language": "python",
   "name": "python3"
  },
  "language_info": {
   "codemirror_mode": {
    "name": "ipython",
    "version": 3
   },
   "file_extension": ".py",
   "mimetype": "text/x-python",
   "name": "python",
   "nbconvert_exporter": "python",
   "pygments_lexer": "ipython3",
   "version": "3.9.7"
  },
  "orig_nbformat": 4
 },
 "nbformat": 4,
 "nbformat_minor": 2
}
